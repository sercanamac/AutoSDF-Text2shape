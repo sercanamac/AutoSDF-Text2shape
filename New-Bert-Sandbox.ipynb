{
 "cells": [
  {
   "cell_type": "code",
   "execution_count": 1,
   "id": "ad642d26",
   "metadata": {},
   "outputs": [
    {
     "data": {
      "text/plain": [
       "True"
      ]
     },
     "execution_count": 1,
     "metadata": {},
     "output_type": "execute_result"
    }
   ],
   "source": [
    "import os\n",
    "from IPython.display import Image as ipy_image\n",
    "from IPython.display import display\n",
    "\n",
    "#from utils.demo_util import get_shape_comp_model, get_shape_comp_opt, make_dummy_batch\n",
    "#from utils.qual_util import load_bert2vqsc_model, get_lang_prob, save_mesh_as_gif\n",
    "from utils.qual_util import get_lang_prob, save_mesh_as_gif\n",
    "from utils.util import seed_everything\n",
    "from utils.util_3d import init_mesh_renderer, sdf_to_mesh\n",
    "import os\n",
    "from termcolor import colored, cprint\n",
    "import torch\n",
    "import utils.util as util\n",
    "from tqdm.notebook import tqdm\n",
    "from datasets.text2shape import  Text2Shape\n",
    "\n",
    "\n",
    "from datasets.text2shapepp_dataset import  Text2ShapePP\n",
    "\n",
    "\n",
    "%reload_ext autoreload\n",
    "%autoreload 2\n",
    "torch.cuda.is_available()"
   ]
  },
  {
   "cell_type": "code",
   "execution_count": 2,
   "id": "99e21afb",
   "metadata": {},
   "outputs": [
    {
     "name": "stdout",
     "output_type": "stream",
     "text": [
      "class\n"
     ]
    }
   ],
   "source": [
    "class Opt():\n",
    "    print(\"class\")\n",
    "    \n",
    "def get_shape_comp_opt(gpu_id=0):\n",
    "    opt = Opt()\n",
    "\n",
    "    # args\n",
    "    gpuid=[gpu_id]\n",
    "    batch_size=32\n",
    "    max_dataset_size=64\n",
    "\n",
    "    name='new_bert_overfit'\n",
    "\n",
    "    # default args\n",
    "    opt.serial_batches = False\n",
    "    opt.nThreads = 4\n",
    "\n",
    "    # important args\n",
    "    opt.dataset_mode = 'shapenet_code'\n",
    "    opt.bert_cfg = \"./configs/bert2vqsc.yaml\"\n",
    "    opt.seed = 111\n",
    "    opt.isTrain = True\n",
    "    opt.gpu_ids = gpuid\n",
    "    opt.max_dataset_size=64\n",
    "    opt.device = 'cuda:%s' % gpuid[0]\n",
    "    opt.batch_size = batch_size\n",
    "    opt.max_dataset_size = max_dataset_size\n",
    "    opt.logs_dir=\"logs\"\n",
    "    opt.name = name\n",
    "    opt.lr = 1e-4\n",
    "    opt.save_latest_freq = 1000\n",
    "    opt.print_freq = 1\n",
    "    #utils.util.seed_everything(opt.seed)\n",
    "    opt.phase = 'test'\n",
    "    opt.nepochs = 300\n",
    "    opt.nepochs_decay = 60\n",
    "    opt.mlp_layers = 3\n",
    "    opt.mlp_hidden = 1024\n",
    "    return opt\n",
    "opt = get_shape_comp_opt()"
   ]
  },
  {
   "cell_type": "code",
   "execution_count": 3,
   "id": "ecb8a3c5",
   "metadata": {},
   "outputs": [],
   "source": [
    "\n",
    "\n",
    "dataset = Text2Shape()\n",
    "#opt = Opt()\n",
    "\n",
    "dataset.initialize(opt,isTrain=False)"
   ]
  },
  {
   "cell_type": "code",
   "execution_count": 4,
   "id": "8ee5bee5",
   "metadata": {},
   "outputs": [
    {
     "data": {
      "text/plain": [
       "64"
      ]
     },
     "execution_count": 4,
     "metadata": {},
     "output_type": "execute_result"
    }
   ],
   "source": [
    "len(dataset)\n",
    "# import numpy as np\n",
    "# k = np.arange(0,156707)"
   ]
  },
  {
   "cell_type": "code",
   "execution_count": null,
   "id": "8b37d208",
   "metadata": {},
   "outputs": [],
   "source": [
    "# k.shape\n",
    "# test_indices = np.random.choice(156707, 16000, replace=False)"
   ]
  },
  {
   "cell_type": "code",
   "execution_count": null,
   "id": "e48ad1d9",
   "metadata": {},
   "outputs": [],
   "source": [
    "# np.save('./datasets/text2shape_test_indices', test_indices)\n",
    "# test_indices.shape"
   ]
  },
  {
   "cell_type": "code",
   "execution_count": null,
   "id": "a6e3fd13",
   "metadata": {},
   "outputs": [],
   "source": [
    "# x = np.ones(156707)\n",
    "# x[test_indices]=0\n",
    "# train_indices = np.where(x==1)\n",
    "# train_indices = train_indices[0]\n",
    "#np.save('./datasets/train_indices', train_indices)\n",
    "#test_indices"
   ]
  },
  {
   "cell_type": "code",
   "execution_count": 6,
   "id": "0ca804c0",
   "metadata": {},
   "outputs": [
    {
     "data": {
      "application/vnd.jupyter.widget-view+json": {
       "model_id": "c3a7f566858f4c7482666bb725c1b205",
       "version_major": 2,
       "version_minor": 0
      },
      "text/plain": [
       "  0%|          | 0/64 [00:00<?, ?it/s]"
      ]
     },
     "metadata": {},
     "output_type": "display_data"
    }
   ],
   "source": [
    "for i in tqdm(range(len(dataset))):\n",
    "    dataset[i]"
   ]
  },
  {
   "cell_type": "code",
   "execution_count": 7,
   "id": "63851a4d",
   "metadata": {},
   "outputs": [
    {
     "data": {
      "text/plain": [
       "tensor([[[179, 179, 179, 179, 179, 179, 179, 179],\n",
       "         [179, 179, 179, 179, 179, 179, 179, 179],\n",
       "         [179, 179, 179, 179, 179, 179, 179, 179],\n",
       "         [179, 179, 179, 179, 179, 179, 179, 179],\n",
       "         [179, 179, 179, 179, 179, 179, 179, 179],\n",
       "         [179, 179, 179, 179, 179, 179, 179, 179],\n",
       "         [179, 179, 179, 179, 179, 179, 179, 179],\n",
       "         [179, 179, 179, 179, 179, 179, 179, 179]],\n",
       "\n",
       "        [[179, 179, 179, 179, 179, 179, 179, 179],\n",
       "         [179, 179, 179, 179, 179, 179, 179, 179],\n",
       "         [179, 179, 179, 179, 179, 179, 179, 179],\n",
       "         [179, 179, 179, 179, 179, 179, 179, 179],\n",
       "         [179, 179, 179, 179, 179, 179, 179, 179],\n",
       "         [179, 179, 179, 179, 179, 179, 179, 179],\n",
       "         [179, 179, 179, 179, 179, 179, 179, 179],\n",
       "         [179, 179, 179, 179, 179, 179, 179, 179]],\n",
       "\n",
       "        [[179, 179, 171, 272, 179, 272, 425, 179],\n",
       "         [179, 179,  29, 349, 425,  29, 112, 179],\n",
       "         [179, 179, 112, 272, 349, 228, 179, 179],\n",
       "         [179, 179, 453,  29,  29,  29, 453, 179],\n",
       "         [179, 179, 349,  97, 425, 272, 179, 179],\n",
       "         [179, 179, 171, 272, 179, 179, 179, 179],\n",
       "         [179, 179,  29, 349, 179, 179, 179, 179],\n",
       "         [179, 179, 112, 179, 179, 179, 179, 179]],\n",
       "\n",
       "        [[179, 179, 179,  24, 179, 112,  24, 179],\n",
       "         [179, 179, 179,  68,  68, 349,  24, 179],\n",
       "         [179, 179, 112, 453,  24, 453, 179, 179],\n",
       "         [179, 179, 272, 228, 228,  29, 453, 179],\n",
       "         [179, 179, 272, 272, 425, 112, 179, 179],\n",
       "         [179, 179, 171, 171, 179, 179, 179, 179],\n",
       "         [179,  24,  97, 112, 179, 179, 179, 179],\n",
       "         [179, 179, 349, 272, 179, 179, 179, 179]],\n",
       "\n",
       "        [[179, 179, 425,  24, 179, 171, 179, 179],\n",
       "         [179, 179,  29, 272, 112,  97,  68, 179],\n",
       "         [179, 179,  68, 228, 112,  97,  24, 179],\n",
       "         [179, 179, 171,  29,  29,  97, 453, 179],\n",
       "         [179, 179, 453, 228,  68, 112,  24, 179],\n",
       "         [179, 179, 349, 171, 179, 179, 179, 179],\n",
       "         [179, 179, 228,  97, 179, 179, 179, 179],\n",
       "         [179, 179,  68, 425, 179, 179, 179, 179]],\n",
       "\n",
       "        [[179, 179,  68, 425, 179, 112,  24, 179],\n",
       "         [179, 179,  24, 425, 425, 425, 179, 179],\n",
       "         [179, 179, 179, 425, 179, 425, 179, 179],\n",
       "         [179, 179, 179,  68,  68,  68, 179, 179],\n",
       "         [179, 179, 179, 349,  24, 179, 179, 179],\n",
       "         [179, 179, 179, 425, 179, 179, 179, 179],\n",
       "         [179, 179,  24,  68, 179, 179, 179, 179],\n",
       "         [179, 179, 179, 179, 179, 179, 179, 179]],\n",
       "\n",
       "        [[179, 179, 179, 179, 179, 179, 179, 179],\n",
       "         [179, 179, 179, 179, 179, 179, 179, 179],\n",
       "         [179, 179, 179, 179, 179, 179, 179, 179],\n",
       "         [179, 179, 179, 179, 179, 179, 179, 179],\n",
       "         [179, 179, 179, 179, 179, 179, 179, 179],\n",
       "         [179, 179, 179, 179, 179, 179, 179, 179],\n",
       "         [179, 179, 179, 179, 179, 179, 179, 179],\n",
       "         [179, 179, 179, 179, 179, 179, 179, 179]],\n",
       "\n",
       "        [[179, 179, 179, 179, 179, 179, 179, 179],\n",
       "         [179, 179, 179, 179, 179, 179, 179, 179],\n",
       "         [179, 179, 179, 179, 179, 179, 179, 179],\n",
       "         [179, 179, 179, 179, 179, 179, 179, 179],\n",
       "         [179, 179, 179, 179, 179, 179, 179, 179],\n",
       "         [179, 179, 179, 179, 179, 179, 179, 179],\n",
       "         [179, 179, 179, 179, 179, 179, 179, 179],\n",
       "         [179, 179, 179, 179, 179, 179, 179, 179]]])"
      ]
     },
     "execution_count": 7,
     "metadata": {},
     "output_type": "execute_result"
    }
   ],
   "source": [
    "dataset[19][\"z_set_target\"]"
   ]
  },
  {
   "cell_type": "code",
   "execution_count": 117,
   "id": "8c71e80e",
   "metadata": {},
   "outputs": [
    {
     "data": {
      "text/plain": [
       "SentenceTransformer(\n",
       "  (0): Transformer({'max_seq_length': 256, 'do_lower_case': False}) with Transformer model: BertModel \n",
       "  (1): Pooling({'word_embedding_dimension': 384, 'pooling_mode_cls_token': False, 'pooling_mode_mean_tokens': True, 'pooling_mode_max_tokens': False, 'pooling_mode_mean_sqrt_len_tokens': False})\n",
       "  (2): Normalize()\n",
       ")"
      ]
     },
     "execution_count": 117,
     "metadata": {},
     "output_type": "execute_result"
    }
   ],
   "source": [
    "from sentence_transformers import SentenceTransformer\n",
    "model = SentenceTransformer('all-MiniLM-L6-v2')\n",
    "\n",
    "text1 = \"thin legs\"\n",
    "text2 = \"round arms\"\n",
    "# tokenized1 = tokenizer(text1,return_tensors='pt',padding=True)\n",
    "# x = bertmodel(**tokenized1).pooler_output\n",
    "# x.shape\n",
    "# tokenized2 = tokenizer(text2,return_tensors='pt',padding=True)\n",
    "# x2 = bertmodel(**tokenized2).pooler_output\n",
    "# x2.shape\n",
    "x1 = model.encode(text1)\n",
    "x2 = model.encode(text2)\n",
    "x1.shape\n",
    "x2.shape\n",
    "model.eval()\n",
    "\n"
   ]
  },
  {
   "cell_type": "code",
   "execution_count": 118,
   "id": "e8e12f6c",
   "metadata": {},
   "outputs": [],
   "source": [
    "cos = torch.nn.CosineSimilarity(dim=0)"
   ]
  },
  {
   "cell_type": "code",
   "execution_count": 119,
   "id": "88ec8ce3",
   "metadata": {},
   "outputs": [
    {
     "data": {
      "text/plain": [
       "tensor(0.4562)"
      ]
     },
     "execution_count": 119,
     "metadata": {},
     "output_type": "execute_result"
    }
   ],
   "source": [
    "cos(torch.Tensor(x1),torch.Tensor(x2))\n"
   ]
  },
  {
   "cell_type": "code",
   "execution_count": 15,
   "id": "d2f3c8f8",
   "metadata": {},
   "outputs": [],
   "source": [
    "from models.bert2vq_scmodel_v4 import BERT2VQSCModel"
   ]
  },
  {
   "cell_type": "code",
   "execution_count": 16,
   "id": "3250e9d4",
   "metadata": {},
   "outputs": [
    {
     "name": "stdout",
     "output_type": "stream",
     "text": [
      "---------- Networks initialized -------------\n",
      "-----------------------------------------------\n"
     ]
    },
    {
     "data": {
      "text/plain": [
       "True"
      ]
     },
     "execution_count": 16,
     "metadata": {},
     "output_type": "execute_result"
    }
   ],
   "source": [
    "m = BERT2VQSCModel()\n",
    "m.initialize(opt)\n",
    "\n",
    "torch.cuda.is_available()"
   ]
  },
  {
   "cell_type": "code",
   "execution_count": 9,
   "id": "b88a3dfe",
   "metadata": {},
   "outputs": [],
   "source": [
    "import copy\n",
    "data = copy.deepcopy(dataset[4])\n",
    "# data2 = dataset[2]\n",
    "data[\"z_set_prev\"] = data[\"z_set_prev\"].unsqueeze(0)\n",
    "data[\"z_set_target\"] = data[\"z_set_target\"].unsqueeze(0)\n",
    "data[\"current_text\"] = [data[\"current_text\"]]\n"
   ]
  },
  {
   "cell_type": "code",
   "execution_count": 55,
   "id": "0c8d3a33",
   "metadata": {},
   "outputs": [
    {
     "data": {
      "text/plain": [
       "torch.Size([1, 8, 8, 8, 512])"
      ]
     },
     "execution_count": 55,
     "metadata": {},
     "output_type": "execute_result"
    }
   ],
   "source": [
    "m.net.eval()\n",
    "m.set_input(data)\n",
    "m.forward()\n",
    "m.outp.shape"
   ]
  },
  {
   "cell_type": "raw",
   "id": "092b1a2b",
   "metadata": {},
   "source": []
  },
  {
   "cell_type": "code",
   "execution_count": null,
   "id": "e8fb257a",
   "metadata": {},
   "outputs": [],
   "source": [
    "m.backward()"
   ]
  },
  {
   "cell_type": "code",
   "execution_count": null,
   "id": "cebaf816",
   "metadata": {},
   "outputs": [],
   "source": [
    "x = dataset[0][\"z_set_prev\"].shape\n",
    "y = dataset[3][\"z_set_prev\"].shape\n",
    "x"
   ]
  },
  {
   "cell_type": "code",
   "execution_count": null,
   "id": "c7f096d5",
   "metadata": {},
   "outputs": [],
   "source": [
    "x[x!=0].shape"
   ]
  },
  {
   "cell_type": "code",
   "execution_count": 10,
   "id": "8f1ecb1d",
   "metadata": {},
   "outputs": [],
   "source": [
    "from torch.utils.data import DataLoader\n",
    "train_dl =  DataLoader(\n",
    "            dataset,\n",
    "            batch_size=opt.batch_size,\n",
    "            shuffle=False,\n",
    "            drop_last=True,\n",
    "            num_workers=0)"
   ]
  },
  {
   "cell_type": "code",
   "execution_count": 17,
   "id": "ce6394db",
   "metadata": {},
   "outputs": [],
   "source": [
    "options=opt\n",
    "model = m\n",
    "\n",
    "def train_one_epoch3(pt_profiler=None,epoch=0):\n",
    "    global total_steps\n",
    "    global train_loss\n",
    "    global valid_loss\n",
    "\n",
    "    epoch_iter = 0\n",
    "    for i, data in enumerate(train_dl):\n",
    "        iter_start_time = time.time()\n",
    "        #visualizer.reset()\n",
    "        #import pdb;pdb.set_trace()\n",
    "        total_steps += options.batch_size\n",
    "        epoch_iter += options.batch_size\n",
    "        model.set_input(data)\n",
    "\n",
    "        model.optimize_parameters(total_steps)\n",
    "\n",
    "        nBatches_has_trained = total_steps // options.batch_size\n",
    "        # if total_steps % options.print_freq == 0:\n",
    "\n",
    "        if nBatches_has_trained % options.print_freq == 0:\n",
    "            errors = model.get_current_errors()\n",
    "            #import pdb;pdb.set_trace()\n",
    "            #print(model.loss,\"LOSS\")\n",
    "            t = (time.time() - iter_start_time) / options.batch_size\n",
    "#             visualizer.print_current_errors(\n",
    "#                 epoch, epoch_iter, total_steps, errors, t)\n",
    "\n",
    "        # if (nBatches_has_trained % options.display_freq == 0) or i == 0:\n",
    "        #     # eval\n",
    "        #     model.inference(data)\n",
    "        #     visualizer.display_current_results(\n",
    "        #        model.get_current_visuals(), total_steps, phase='train')\n",
    "\n",
    "        #     #model.set_input(next(test_dg))\n",
    "        #     test_data = next(test_dg)\n",
    "        #     model.inference(test_data.unsqueeze(0))\n",
    "        #     visualizer.display_current_results(\n",
    "        #        model.get_current_visuals(), total_steps, phase='test')\n",
    "\n",
    "#         if total_steps % options.save_latest_freq == 0:\n",
    "#             cprint('saving the latestmodel (epoch %d, total_steps %d)' %\n",
    "#                    (epoch, total_steps), 'blue')\n",
    "#             latest_name = f'epoch-latest'\n",
    "#             model.save(latest_name)\n",
    "\n",
    "        if pt_profiler is not None:\n",
    "            pt_profiler.step()"
   ]
  },
  {
   "cell_type": "code",
   "execution_count": null,
   "id": "0e8eb468",
   "metadata": {},
   "outputs": [
    {
     "name": "stdout",
     "output_type": "stream",
     "text": [
      "[*] Start training. name: new_bert_overfit\n"
     ]
    },
    {
     "data": {
      "application/vnd.jupyter.widget-view+json": {
       "model_id": "a4f33f7a6b464fadb1e540850ddd2bad",
       "version_major": 2,
       "version_minor": 0
      },
      "text/plain": [
       "  0%|          | 0/360 [00:00<?, ?it/s]"
      ]
     },
     "metadata": {},
     "output_type": "display_data"
    },
    {
     "name": "stdout",
     "output_type": "stream",
     "text": [
      "[*] End of epoch 0 / 360 \t Time Taken: 0 sec \n",
      "/cluster/54/streakfull/ADL4CV/Project/src/plz-autosdf/logs/new_bert_overfit\n",
      "Model Loss: 5.678861618041992\n",
      "[*] learning rate = 0.0000100\n",
      "[*] End of epoch 1 / 360 \t Time Taken: 0 sec \n",
      "/cluster/54/streakfull/ADL4CV/Project/src/plz-autosdf/logs/new_bert_overfit\n",
      "Model Loss: 4.628794193267822\n",
      "[*] learning rate = 0.0000200\n",
      "[*] End of epoch 2 / 360 \t Time Taken: 0 sec \n",
      "/cluster/54/streakfull/ADL4CV/Project/src/plz-autosdf/logs/new_bert_overfit\n",
      "Model Loss: 3.914011001586914\n",
      "[*] learning rate = 0.0000300\n",
      "[*] End of epoch 3 / 360 \t Time Taken: 0 sec \n",
      "/cluster/54/streakfull/ADL4CV/Project/src/plz-autosdf/logs/new_bert_overfit\n",
      "Model Loss: 3.3226430416107178\n",
      "[*] learning rate = 0.0000400\n",
      "[*] End of epoch 4 / 360 \t Time Taken: 0 sec \n",
      "/cluster/54/streakfull/ADL4CV/Project/src/plz-autosdf/logs/new_bert_overfit\n",
      "Model Loss: 2.5603318214416504\n",
      "[*] learning rate = 0.0000500\n",
      "[*] End of epoch 5 / 360 \t Time Taken: 0 sec \n",
      "/cluster/54/streakfull/ADL4CV/Project/src/plz-autosdf/logs/new_bert_overfit\n",
      "Model Loss: 2.1024601459503174\n",
      "[*] learning rate = 0.0000600\n",
      "[*] End of epoch 6 / 360 \t Time Taken: 0 sec \n",
      "/cluster/54/streakfull/ADL4CV/Project/src/plz-autosdf/logs/new_bert_overfit\n",
      "Model Loss: 1.8357046842575073\n",
      "[*] learning rate = 0.0000700\n",
      "[*] End of epoch 7 / 360 \t Time Taken: 0 sec \n",
      "/cluster/54/streakfull/ADL4CV/Project/src/plz-autosdf/logs/new_bert_overfit\n",
      "Model Loss: 1.6972988843917847\n",
      "[*] learning rate = 0.0000800\n",
      "[*] End of epoch 8 / 360 \t Time Taken: 0 sec \n",
      "/cluster/54/streakfull/ADL4CV/Project/src/plz-autosdf/logs/new_bert_overfit\n",
      "Model Loss: 1.5179203748703003\n",
      "[*] learning rate = 0.0000900\n",
      "[*] End of epoch 9 / 360 \t Time Taken: 0 sec \n",
      "/cluster/54/streakfull/ADL4CV/Project/src/plz-autosdf/logs/new_bert_overfit\n",
      "Model Loss: 1.3367937803268433\n",
      "[*] learning rate = 0.0001000\n",
      "[*] End of epoch 10 / 360 \t Time Taken: 0 sec \n",
      "/cluster/54/streakfull/ADL4CV/Project/src/plz-autosdf/logs/new_bert_overfit\n",
      "Model Loss: 1.3367712497711182\n",
      "[*] learning rate = 0.0000953\n",
      "[*] End of epoch 11 / 360 \t Time Taken: 0 sec \n",
      "/cluster/54/streakfull/ADL4CV/Project/src/plz-autosdf/logs/new_bert_overfit\n",
      "Model Loss: 1.320707082748413\n",
      "[*] learning rate = 0.0000913\n",
      "[*] End of epoch 12 / 360 \t Time Taken: 0 sec \n",
      "/cluster/54/streakfull/ADL4CV/Project/src/plz-autosdf/logs/new_bert_overfit\n",
      "Model Loss: 1.28863525390625\n",
      "[*] learning rate = 0.0000877\n",
      "[*] End of epoch 13 / 360 \t Time Taken: 0 sec \n",
      "/cluster/54/streakfull/ADL4CV/Project/src/plz-autosdf/logs/new_bert_overfit\n",
      "Model Loss: 1.2588226795196533\n",
      "[*] learning rate = 0.0000845\n",
      "[*] End of epoch 14 / 360 \t Time Taken: 0 sec \n",
      "/cluster/54/streakfull/ADL4CV/Project/src/plz-autosdf/logs/new_bert_overfit\n",
      "Model Loss: 1.250994086265564\n",
      "[*] learning rate = 0.0000816\n",
      "[*] End of epoch 15 / 360 \t Time Taken: 0 sec \n",
      "/cluster/54/streakfull/ADL4CV/Project/src/plz-autosdf/logs/new_bert_overfit\n",
      "Model Loss: 1.2246326208114624\n",
      "[*] learning rate = 0.0000791\n",
      "[*] End of epoch 16 / 360 \t Time Taken: 0 sec \n",
      "/cluster/54/streakfull/ADL4CV/Project/src/plz-autosdf/logs/new_bert_overfit\n",
      "Model Loss: 1.198634147644043\n",
      "[*] learning rate = 0.0000767\n",
      "[*] End of epoch 17 / 360 \t Time Taken: 0 sec \n",
      "/cluster/54/streakfull/ADL4CV/Project/src/plz-autosdf/logs/new_bert_overfit\n",
      "Model Loss: 1.2009695768356323\n",
      "[*] learning rate = 0.0000745\n",
      "[*] End of epoch 18 / 360 \t Time Taken: 0 sec \n",
      "/cluster/54/streakfull/ADL4CV/Project/src/plz-autosdf/logs/new_bert_overfit\n",
      "Model Loss: 1.1867727041244507\n",
      "[*] learning rate = 0.0000725\n",
      "[*] End of epoch 19 / 360 \t Time Taken: 0 sec \n",
      "/cluster/54/streakfull/ADL4CV/Project/src/plz-autosdf/logs/new_bert_overfit\n",
      "Model Loss: 1.1630089282989502\n",
      "[*] learning rate = 0.0000707\n",
      "[*] End of epoch 20 / 360 \t Time Taken: 0 sec \n",
      "/cluster/54/streakfull/ADL4CV/Project/src/plz-autosdf/logs/new_bert_overfit\n",
      "Model Loss: 1.1522924900054932\n",
      "[*] learning rate = 0.0000690\n",
      "[*] End of epoch 21 / 360 \t Time Taken: 0 sec \n",
      "/cluster/54/streakfull/ADL4CV/Project/src/plz-autosdf/logs/new_bert_overfit\n",
      "Model Loss: 1.1399965286254883\n",
      "[*] learning rate = 0.0000674\n",
      "[*] End of epoch 22 / 360 \t Time Taken: 0 sec \n",
      "/cluster/54/streakfull/ADL4CV/Project/src/plz-autosdf/logs/new_bert_overfit\n",
      "Model Loss: 1.11685049533844\n",
      "[*] learning rate = 0.0000659\n",
      "[*] End of epoch 23 / 360 \t Time Taken: 0 sec \n",
      "/cluster/54/streakfull/ADL4CV/Project/src/plz-autosdf/logs/new_bert_overfit\n",
      "Model Loss: 1.106452465057373\n",
      "[*] learning rate = 0.0000645\n",
      "[*] End of epoch 24 / 360 \t Time Taken: 0 sec \n",
      "/cluster/54/streakfull/ADL4CV/Project/src/plz-autosdf/logs/new_bert_overfit\n",
      "Model Loss: 1.0894694328308105\n",
      "[*] learning rate = 0.0000632\n",
      "[*] End of epoch 25 / 360 \t Time Taken: 0 sec \n",
      "/cluster/54/streakfull/ADL4CV/Project/src/plz-autosdf/logs/new_bert_overfit\n",
      "Model Loss: 1.077576756477356\n",
      "[*] learning rate = 0.0000620\n",
      "[*] End of epoch 26 / 360 \t Time Taken: 0 sec \n",
      "/cluster/54/streakfull/ADL4CV/Project/src/plz-autosdf/logs/new_bert_overfit\n",
      "Model Loss: 1.0593081712722778\n",
      "[*] learning rate = 0.0000609\n",
      "[*] End of epoch 27 / 360 \t Time Taken: 0 sec \n",
      "/cluster/54/streakfull/ADL4CV/Project/src/plz-autosdf/logs/new_bert_overfit\n",
      "Model Loss: 1.0446659326553345\n",
      "[*] learning rate = 0.0000598\n",
      "[*] End of epoch 28 / 360 \t Time Taken: 0 sec \n",
      "/cluster/54/streakfull/ADL4CV/Project/src/plz-autosdf/logs/new_bert_overfit\n",
      "Model Loss: 1.031842589378357\n",
      "[*] learning rate = 0.0000587\n",
      "[*] End of epoch 29 / 360 \t Time Taken: 0 sec \n",
      "/cluster/54/streakfull/ADL4CV/Project/src/plz-autosdf/logs/new_bert_overfit\n",
      "Model Loss: 1.0127209424972534\n",
      "[*] learning rate = 0.0000577\n",
      "[*] End of epoch 30 / 360 \t Time Taken: 0 sec \n",
      "/cluster/54/streakfull/ADL4CV/Project/src/plz-autosdf/logs/new_bert_overfit\n",
      "Model Loss: 0.9966838359832764\n",
      "[*] learning rate = 0.0000568\n",
      "[*] End of epoch 31 / 360 \t Time Taken: 0 sec \n",
      "/cluster/54/streakfull/ADL4CV/Project/src/plz-autosdf/logs/new_bert_overfit\n",
      "Model Loss: 0.9813457131385803\n",
      "[*] learning rate = 0.0000559\n",
      "[*] End of epoch 32 / 360 \t Time Taken: 0 sec \n",
      "/cluster/54/streakfull/ADL4CV/Project/src/plz-autosdf/logs/new_bert_overfit\n",
      "Model Loss: 0.9647623300552368\n",
      "[*] learning rate = 0.0000550\n",
      "[*] End of epoch 33 / 360 \t Time Taken: 0 sec \n",
      "/cluster/54/streakfull/ADL4CV/Project/src/plz-autosdf/logs/new_bert_overfit\n",
      "Model Loss: 0.9502459168434143\n",
      "[*] learning rate = 0.0000542\n",
      "[*] End of epoch 34 / 360 \t Time Taken: 0 sec \n",
      "/cluster/54/streakfull/ADL4CV/Project/src/plz-autosdf/logs/new_bert_overfit\n",
      "Model Loss: 0.9370636343955994\n",
      "[*] learning rate = 0.0000535\n",
      "[*] End of epoch 35 / 360 \t Time Taken: 0 sec \n",
      "/cluster/54/streakfull/ADL4CV/Project/src/plz-autosdf/logs/new_bert_overfit\n",
      "Model Loss: 0.924354076385498\n",
      "[*] learning rate = 0.0000527\n",
      "[*] End of epoch 36 / 360 \t Time Taken: 0 sec \n",
      "/cluster/54/streakfull/ADL4CV/Project/src/plz-autosdf/logs/new_bert_overfit\n",
      "Model Loss: 0.9089014530181885\n",
      "[*] learning rate = 0.0000520\n",
      "[*] End of epoch 37 / 360 \t Time Taken: 0 sec \n",
      "/cluster/54/streakfull/ADL4CV/Project/src/plz-autosdf/logs/new_bert_overfit\n",
      "Model Loss: 0.8948546051979065\n",
      "[*] learning rate = 0.0000513\n",
      "[*] End of epoch 38 / 360 \t Time Taken: 0 sec \n",
      "/cluster/54/streakfull/ADL4CV/Project/src/plz-autosdf/logs/new_bert_overfit\n",
      "Model Loss: 0.8811233043670654\n",
      "[*] learning rate = 0.0000506\n",
      "[*] End of epoch 39 / 360 \t Time Taken: 0 sec \n",
      "/cluster/54/streakfull/ADL4CV/Project/src/plz-autosdf/logs/new_bert_overfit\n",
      "Model Loss: 0.867170512676239\n",
      "[*] learning rate = 0.0000500\n",
      "[*] End of epoch 40 / 360 \t Time Taken: 0 sec \n",
      "/cluster/54/streakfull/ADL4CV/Project/src/plz-autosdf/logs/new_bert_overfit\n",
      "Model Loss: 0.8565958738327026\n",
      "[*] learning rate = 0.0000494\n",
      "[*] End of epoch 41 / 360 \t Time Taken: 0 sec \n",
      "/cluster/54/streakfull/ADL4CV/Project/src/plz-autosdf/logs/new_bert_overfit\n",
      "Model Loss: 0.8441481590270996\n",
      "[*] learning rate = 0.0000488\n",
      "[*] End of epoch 42 / 360 \t Time Taken: 0 sec \n",
      "/cluster/54/streakfull/ADL4CV/Project/src/plz-autosdf/logs/new_bert_overfit\n",
      "Model Loss: 0.8360989093780518\n",
      "[*] learning rate = 0.0000482\n",
      "[*] End of epoch 43 / 360 \t Time Taken: 0 sec \n",
      "/cluster/54/streakfull/ADL4CV/Project/src/plz-autosdf/logs/new_bert_overfit\n",
      "Model Loss: 0.8172903656959534\n",
      "[*] learning rate = 0.0000477\n",
      "[*] End of epoch 44 / 360 \t Time Taken: 0 sec \n",
      "/cluster/54/streakfull/ADL4CV/Project/src/plz-autosdf/logs/new_bert_overfit\n",
      "Model Loss: 0.8111535310745239\n",
      "[*] learning rate = 0.0000471\n"
     ]
    },
    {
     "name": "stdout",
     "output_type": "stream",
     "text": [
      "[*] End of epoch 45 / 360 \t Time Taken: 0 sec \n",
      "/cluster/54/streakfull/ADL4CV/Project/src/plz-autosdf/logs/new_bert_overfit\n",
      "Model Loss: 0.7937575578689575\n",
      "[*] learning rate = 0.0000466\n",
      "[*] End of epoch 46 / 360 \t Time Taken: 0 sec \n",
      "/cluster/54/streakfull/ADL4CV/Project/src/plz-autosdf/logs/new_bert_overfit\n",
      "Model Loss: 0.7832062244415283\n",
      "[*] learning rate = 0.0000461\n",
      "[*] End of epoch 47 / 360 \t Time Taken: 0 sec \n",
      "/cluster/54/streakfull/ADL4CV/Project/src/plz-autosdf/logs/new_bert_overfit\n",
      "Model Loss: 0.7725865840911865\n",
      "[*] learning rate = 0.0000456\n",
      "[*] End of epoch 48 / 360 \t Time Taken: 0 sec \n",
      "/cluster/54/streakfull/ADL4CV/Project/src/plz-autosdf/logs/new_bert_overfit\n",
      "Model Loss: 0.762481689453125\n",
      "[*] learning rate = 0.0000452\n",
      "[*] End of epoch 49 / 360 \t Time Taken: 0 sec \n",
      "/cluster/54/streakfull/ADL4CV/Project/src/plz-autosdf/logs/new_bert_overfit\n",
      "Model Loss: 0.7461782693862915\n",
      "[*] learning rate = 0.0000447\n",
      "[*] End of epoch 50 / 360 \t Time Taken: 0 sec \n",
      "/cluster/54/streakfull/ADL4CV/Project/src/plz-autosdf/logs/new_bert_overfit\n",
      "Model Loss: 0.7400853633880615\n",
      "[*] learning rate = 0.0000443\n",
      "[*] End of epoch 51 / 360 \t Time Taken: 0 sec \n",
      "/cluster/54/streakfull/ADL4CV/Project/src/plz-autosdf/logs/new_bert_overfit\n",
      "Model Loss: 0.7274069786071777\n",
      "[*] learning rate = 0.0000439\n",
      "[*] End of epoch 52 / 360 \t Time Taken: 0 sec \n",
      "/cluster/54/streakfull/ADL4CV/Project/src/plz-autosdf/logs/new_bert_overfit\n",
      "Model Loss: 0.7186475992202759\n",
      "[*] learning rate = 0.0000434\n",
      "[*] End of epoch 53 / 360 \t Time Taken: 0 sec \n",
      "/cluster/54/streakfull/ADL4CV/Project/src/plz-autosdf/logs/new_bert_overfit\n",
      "Model Loss: 0.7045482397079468\n",
      "[*] learning rate = 0.0000430\n",
      "[*] End of epoch 54 / 360 \t Time Taken: 0 sec \n",
      "/cluster/54/streakfull/ADL4CV/Project/src/plz-autosdf/logs/new_bert_overfit\n",
      "Model Loss: 0.6973876357078552\n",
      "[*] learning rate = 0.0000426\n",
      "[*] End of epoch 55 / 360 \t Time Taken: 0 sec \n",
      "/cluster/54/streakfull/ADL4CV/Project/src/plz-autosdf/logs/new_bert_overfit\n",
      "Model Loss: 0.6858986020088196\n",
      "[*] learning rate = 0.0000423\n",
      "[*] End of epoch 56 / 360 \t Time Taken: 0 sec \n",
      "/cluster/54/streakfull/ADL4CV/Project/src/plz-autosdf/logs/new_bert_overfit\n",
      "Model Loss: 0.675841212272644\n",
      "[*] learning rate = 0.0000419\n",
      "[*] End of epoch 57 / 360 \t Time Taken: 0 sec \n",
      "/cluster/54/streakfull/ADL4CV/Project/src/plz-autosdf/logs/new_bert_overfit\n",
      "Model Loss: 0.668185830116272\n",
      "[*] learning rate = 0.0000415\n",
      "[*] End of epoch 58 / 360 \t Time Taken: 0 sec \n",
      "/cluster/54/streakfull/ADL4CV/Project/src/plz-autosdf/logs/new_bert_overfit\n",
      "Model Loss: 0.6572144627571106\n",
      "[*] learning rate = 0.0000412\n",
      "[*] End of epoch 59 / 360 \t Time Taken: 0 sec \n",
      "/cluster/54/streakfull/ADL4CV/Project/src/plz-autosdf/logs/new_bert_overfit\n",
      "Model Loss: 0.6494762301445007\n",
      "[*] learning rate = 0.0000408\n",
      "[*] End of epoch 60 / 360 \t Time Taken: 0 sec \n",
      "/cluster/54/streakfull/ADL4CV/Project/src/plz-autosdf/logs/new_bert_overfit\n",
      "Model Loss: 0.6418699026107788\n",
      "[*] learning rate = 0.0000405\n",
      "[*] End of epoch 61 / 360 \t Time Taken: 0 sec \n",
      "/cluster/54/streakfull/ADL4CV/Project/src/plz-autosdf/logs/new_bert_overfit\n",
      "Model Loss: 0.6328009366989136\n",
      "[*] learning rate = 0.0000402\n",
      "[*] End of epoch 62 / 360 \t Time Taken: 0 sec \n",
      "/cluster/54/streakfull/ADL4CV/Project/src/plz-autosdf/logs/new_bert_overfit\n",
      "Model Loss: 0.6266884803771973\n",
      "[*] learning rate = 0.0000398\n",
      "[*] End of epoch 63 / 360 \t Time Taken: 0 sec \n",
      "/cluster/54/streakfull/ADL4CV/Project/src/plz-autosdf/logs/new_bert_overfit\n",
      "Model Loss: 0.6167993545532227\n",
      "[*] learning rate = 0.0000395\n",
      "[*] End of epoch 64 / 360 \t Time Taken: 0 sec \n",
      "/cluster/54/streakfull/ADL4CV/Project/src/plz-autosdf/logs/new_bert_overfit\n",
      "Model Loss: 0.607937753200531\n",
      "[*] learning rate = 0.0000392\n",
      "[*] End of epoch 65 / 360 \t Time Taken: 0 sec \n",
      "/cluster/54/streakfull/ADL4CV/Project/src/plz-autosdf/logs/new_bert_overfit\n",
      "Model Loss: 0.5993356704711914\n",
      "[*] learning rate = 0.0000389\n",
      "[*] End of epoch 66 / 360 \t Time Taken: 0 sec \n",
      "/cluster/54/streakfull/ADL4CV/Project/src/plz-autosdf/logs/new_bert_overfit\n",
      "Model Loss: 0.5925230383872986\n",
      "[*] learning rate = 0.0000386\n",
      "[*] End of epoch 67 / 360 \t Time Taken: 0 sec \n",
      "/cluster/54/streakfull/ADL4CV/Project/src/plz-autosdf/logs/new_bert_overfit\n",
      "Model Loss: 0.5820363759994507\n",
      "[*] learning rate = 0.0000383\n",
      "[*] End of epoch 68 / 360 \t Time Taken: 0 sec \n",
      "/cluster/54/streakfull/ADL4CV/Project/src/plz-autosdf/logs/new_bert_overfit\n",
      "Model Loss: 0.622184157371521\n",
      "[*] learning rate = 0.0000381\n",
      "[*] End of epoch 69 / 360 \t Time Taken: 0 sec \n",
      "/cluster/54/streakfull/ADL4CV/Project/src/plz-autosdf/logs/new_bert_overfit\n",
      "Model Loss: 0.5941784977912903\n",
      "[*] learning rate = 0.0000378\n",
      "[*] End of epoch 70 / 360 \t Time Taken: 0 sec \n",
      "/cluster/54/streakfull/ADL4CV/Project/src/plz-autosdf/logs/new_bert_overfit\n",
      "Model Loss: 0.6029431223869324\n",
      "[*] learning rate = 0.0000375\n",
      "[*] End of epoch 71 / 360 \t Time Taken: 0 sec \n",
      "/cluster/54/streakfull/ADL4CV/Project/src/plz-autosdf/logs/new_bert_overfit\n",
      "Model Loss: 0.5786340832710266\n",
      "[*] learning rate = 0.0000373\n",
      "[*] End of epoch 72 / 360 \t Time Taken: 0 sec \n",
      "/cluster/54/streakfull/ADL4CV/Project/src/plz-autosdf/logs/new_bert_overfit\n",
      "Model Loss: 0.561129093170166\n",
      "[*] learning rate = 0.0000370\n",
      "[*] End of epoch 73 / 360 \t Time Taken: 0 sec \n",
      "/cluster/54/streakfull/ADL4CV/Project/src/plz-autosdf/logs/new_bert_overfit\n",
      "Model Loss: 0.5483589768409729\n",
      "[*] learning rate = 0.0000368\n",
      "[*] End of epoch 74 / 360 \t Time Taken: 0 sec \n",
      "/cluster/54/streakfull/ADL4CV/Project/src/plz-autosdf/logs/new_bert_overfit\n",
      "Model Loss: 0.5427436232566833\n",
      "[*] learning rate = 0.0000365\n",
      "[*] End of epoch 75 / 360 \t Time Taken: 0 sec \n",
      "/cluster/54/streakfull/ADL4CV/Project/src/plz-autosdf/logs/new_bert_overfit\n",
      "Model Loss: 0.5324965715408325\n",
      "[*] learning rate = 0.0000363\n",
      "[*] End of epoch 76 / 360 \t Time Taken: 0 sec \n",
      "/cluster/54/streakfull/ADL4CV/Project/src/plz-autosdf/logs/new_bert_overfit\n",
      "Model Loss: 0.5328386425971985\n",
      "[*] learning rate = 0.0000360\n",
      "[*] End of epoch 77 / 360 \t Time Taken: 0 sec \n",
      "/cluster/54/streakfull/ADL4CV/Project/src/plz-autosdf/logs/new_bert_overfit\n",
      "Model Loss: 0.5298561453819275\n",
      "[*] learning rate = 0.0000358\n",
      "[*] End of epoch 78 / 360 \t Time Taken: 0 sec \n",
      "/cluster/54/streakfull/ADL4CV/Project/src/plz-autosdf/logs/new_bert_overfit\n",
      "Model Loss: 0.5266004204750061\n",
      "[*] learning rate = 0.0000356\n",
      "[*] End of epoch 79 / 360 \t Time Taken: 0 sec \n",
      "/cluster/54/streakfull/ADL4CV/Project/src/plz-autosdf/logs/new_bert_overfit\n",
      "Model Loss: 0.5170800089836121\n",
      "[*] learning rate = 0.0000354\n",
      "[*] End of epoch 80 / 360 \t Time Taken: 0 sec \n",
      "/cluster/54/streakfull/ADL4CV/Project/src/plz-autosdf/logs/new_bert_overfit\n",
      "Model Loss: 0.5043778419494629\n",
      "[*] learning rate = 0.0000351\n",
      "[*] End of epoch 81 / 360 \t Time Taken: 0 sec \n",
      "/cluster/54/streakfull/ADL4CV/Project/src/plz-autosdf/logs/new_bert_overfit\n",
      "Model Loss: 0.4952217936515808\n",
      "[*] learning rate = 0.0000349\n",
      "[*] End of epoch 82 / 360 \t Time Taken: 0 sec \n",
      "/cluster/54/streakfull/ADL4CV/Project/src/plz-autosdf/logs/new_bert_overfit\n",
      "Model Loss: 0.4919407367706299\n",
      "[*] learning rate = 0.0000347\n",
      "[*] End of epoch 83 / 360 \t Time Taken: 0 sec \n",
      "/cluster/54/streakfull/ADL4CV/Project/src/plz-autosdf/logs/new_bert_overfit\n",
      "Model Loss: 0.48998281359672546\n",
      "[*] learning rate = 0.0000345\n",
      "[*] End of epoch 84 / 360 \t Time Taken: 0 sec \n",
      "/cluster/54/streakfull/ADL4CV/Project/src/plz-autosdf/logs/new_bert_overfit\n",
      "Model Loss: 0.48416003584861755\n",
      "[*] learning rate = 0.0000343\n",
      "[*] End of epoch 85 / 360 \t Time Taken: 0 sec \n",
      "/cluster/54/streakfull/ADL4CV/Project/src/plz-autosdf/logs/new_bert_overfit\n",
      "Model Loss: 0.48075729608535767\n",
      "[*] learning rate = 0.0000341\n",
      "[*] End of epoch 86 / 360 \t Time Taken: 0 sec \n",
      "/cluster/54/streakfull/ADL4CV/Project/src/plz-autosdf/logs/new_bert_overfit\n",
      "Model Loss: 0.47065994143486023\n",
      "[*] learning rate = 0.0000339\n",
      "[*] End of epoch 87 / 360 \t Time Taken: 0 sec \n",
      "/cluster/54/streakfull/ADL4CV/Project/src/plz-autosdf/logs/new_bert_overfit\n",
      "Model Loss: 0.46990758180618286\n",
      "[*] learning rate = 0.0000337\n",
      "[*] End of epoch 88 / 360 \t Time Taken: 0 sec \n",
      "/cluster/54/streakfull/ADL4CV/Project/src/plz-autosdf/logs/new_bert_overfit\n",
      "Model Loss: 0.4710356891155243\n",
      "[*] learning rate = 0.0000335\n",
      "[*] End of epoch 89 / 360 \t Time Taken: 0 sec \n",
      "/cluster/54/streakfull/ADL4CV/Project/src/plz-autosdf/logs/new_bert_overfit\n",
      "Model Loss: 0.4629157781600952\n",
      "[*] learning rate = 0.0000333\n"
     ]
    },
    {
     "name": "stdout",
     "output_type": "stream",
     "text": [
      "[*] End of epoch 90 / 360 \t Time Taken: 0 sec \n",
      "/cluster/54/streakfull/ADL4CV/Project/src/plz-autosdf/logs/new_bert_overfit\n",
      "Model Loss: 0.45652052760124207\n",
      "[*] learning rate = 0.0000331\n",
      "[*] End of epoch 91 / 360 \t Time Taken: 0 sec \n",
      "/cluster/54/streakfull/ADL4CV/Project/src/plz-autosdf/logs/new_bert_overfit\n",
      "Model Loss: 0.46602532267570496\n",
      "[*] learning rate = 0.0000330\n",
      "[*] End of epoch 92 / 360 \t Time Taken: 0 sec \n",
      "/cluster/54/streakfull/ADL4CV/Project/src/plz-autosdf/logs/new_bert_overfit\n",
      "Model Loss: 0.4625662565231323\n",
      "[*] learning rate = 0.0000328\n",
      "[*] End of epoch 93 / 360 \t Time Taken: 0 sec \n",
      "/cluster/54/streakfull/ADL4CV/Project/src/plz-autosdf/logs/new_bert_overfit\n",
      "Model Loss: 0.46173807978630066\n",
      "[*] learning rate = 0.0000326\n",
      "[*] End of epoch 94 / 360 \t Time Taken: 0 sec \n",
      "/cluster/54/streakfull/ADL4CV/Project/src/plz-autosdf/logs/new_bert_overfit\n",
      "Model Loss: 0.43536385893821716\n",
      "[*] learning rate = 0.0000324\n",
      "[*] End of epoch 95 / 360 \t Time Taken: 0 sec \n",
      "/cluster/54/streakfull/ADL4CV/Project/src/plz-autosdf/logs/new_bert_overfit\n",
      "Model Loss: 0.4325670599937439\n",
      "[*] learning rate = 0.0000323\n",
      "[*] End of epoch 96 / 360 \t Time Taken: 0 sec \n",
      "/cluster/54/streakfull/ADL4CV/Project/src/plz-autosdf/logs/new_bert_overfit\n",
      "Model Loss: 0.42704594135284424\n",
      "[*] learning rate = 0.0000321\n",
      "[*] End of epoch 97 / 360 \t Time Taken: 0 sec \n",
      "/cluster/54/streakfull/ADL4CV/Project/src/plz-autosdf/logs/new_bert_overfit\n",
      "Model Loss: 0.4247148334980011\n",
      "[*] learning rate = 0.0000319\n",
      "[*] End of epoch 98 / 360 \t Time Taken: 0 sec \n",
      "/cluster/54/streakfull/ADL4CV/Project/src/plz-autosdf/logs/new_bert_overfit\n",
      "Model Loss: 0.418931782245636\n",
      "[*] learning rate = 0.0000318\n",
      "[*] End of epoch 99 / 360 \t Time Taken: 0 sec \n",
      "/cluster/54/streakfull/ADL4CV/Project/src/plz-autosdf/logs/new_bert_overfit\n",
      "Model Loss: 0.4132128953933716\n",
      "[*] learning rate = 0.0000316\n",
      "[*] End of epoch 100 / 360 \t Time Taken: 0 sec \n",
      "/cluster/54/streakfull/ADL4CV/Project/src/plz-autosdf/logs/new_bert_overfit\n",
      "Model Loss: 0.4039275050163269\n",
      "[*] learning rate = 0.0000315\n",
      "[*] End of epoch 101 / 360 \t Time Taken: 0 sec \n",
      "/cluster/54/streakfull/ADL4CV/Project/src/plz-autosdf/logs/new_bert_overfit\n",
      "Model Loss: 0.40863338112831116\n",
      "[*] learning rate = 0.0000313\n",
      "[*] End of epoch 102 / 360 \t Time Taken: 0 sec \n",
      "/cluster/54/streakfull/ADL4CV/Project/src/plz-autosdf/logs/new_bert_overfit\n",
      "Model Loss: 0.4099956750869751\n",
      "[*] learning rate = 0.0000312\n",
      "[*] End of epoch 103 / 360 \t Time Taken: 0 sec \n",
      "/cluster/54/streakfull/ADL4CV/Project/src/plz-autosdf/logs/new_bert_overfit\n",
      "Model Loss: 0.3939628303050995\n",
      "[*] learning rate = 0.0000310\n",
      "[*] End of epoch 104 / 360 \t Time Taken: 0 sec \n",
      "/cluster/54/streakfull/ADL4CV/Project/src/plz-autosdf/logs/new_bert_overfit\n",
      "Model Loss: 0.37818443775177\n",
      "[*] learning rate = 0.0000309\n",
      "[*] End of epoch 105 / 360 \t Time Taken: 0 sec \n",
      "/cluster/54/streakfull/ADL4CV/Project/src/plz-autosdf/logs/new_bert_overfit\n",
      "Model Loss: 0.38573727011680603\n",
      "[*] learning rate = 0.0000307\n"
     ]
    }
   ],
   "source": [
    "import time\n",
    "import numpy as np\n",
    "cprint('[*] Start training. name: %s' % options.name, 'blue')\n",
    "total_steps = 0\n",
    "train_loss = []\n",
    "valid_loss = []\n",
    "for epoch in tqdm(range(options.nepochs + options.nepochs_decay)):\n",
    "    epoch_start_time = time.time()\n",
    "    # epoch_iter = 0\n",
    "\n",
    "    # profile\n",
    "    train_one_epoch3(None,epoch)\n",
    "\n",
    "#     if epoch % 100000 == 0:\n",
    "#         cprint('saving the model at the end of epoch %d, iters %d' %\n",
    "#                (epoch, total_steps), 'blue')\n",
    "#         latest_name = f'epoch-latest'\n",
    "#         model.save(latest_name)\n",
    "#         cur_name = f'epoch-{epoch}'\n",
    "#         model.save(cur_name)\n",
    "\n",
    "    cprint(f'[*] End of epoch %d / %d \\t Time Taken: %d sec \\n%s' %\n",
    "           (\n",
    "               epoch, options.nepochs + options.nepochs_decay,\n",
    "               time.time() - epoch_start_time,\n",
    "               os.path.abspath(os.path.join(options.logs_dir, options.name))\n",
    "           ), 'blue', attrs=['bold']\n",
    "           )\n",
    "    #import pdb;pdb.set_trace()\n",
    "    print(\"Model Loss:\", m.loss.item())\n",
    "    model.update_learning_rate()\n"
   ]
  },
  {
   "cell_type": "code",
   "execution_count": 127,
   "id": "6df23d0b",
   "metadata": {},
   "outputs": [],
   "source": [
    "x1 = dataset[0]\n",
    "x2 = dataset[2]"
   ]
  },
  {
   "cell_type": "code",
   "execution_count": 74,
   "id": "ff508886",
   "metadata": {},
   "outputs": [
    {
     "data": {
      "text/plain": [
       "dict_keys(['current_text', 'z_set_prev', 'z_set_target'])"
      ]
     },
     "execution_count": 74,
     "metadata": {},
     "output_type": "execute_result"
    }
   ],
   "source": [
    "x1.keys()"
   ]
  },
  {
   "cell_type": "code",
   "execution_count": 128,
   "id": "56371d70",
   "metadata": {},
   "outputs": [],
   "source": [
    "#x1[\"current_text\"] = [x1[\"current_text\"]]\n",
    "x1[\"current_text\"] = [\"thin legs fafhaskh faskfhgaskh fhaskfhasf\"]\n",
    "x1[\"z_set_prev\"] = x1[\"z_set_prev\"].unsqueeze(0)\n",
    "x1[\"z_set_target\"] = x1[\"z_set_target\"].unsqueeze(0)\n",
    "model.set_input(x1)"
   ]
  },
  {
   "cell_type": "code",
   "execution_count": 129,
   "id": "9b5c5712",
   "metadata": {},
   "outputs": [],
   "source": [
    "model.net.eval()\n",
    "model.forward()"
   ]
  },
  {
   "cell_type": "code",
   "execution_count": 97,
   "id": "a83f9c98",
   "metadata": {},
   "outputs": [
    {
     "data": {
      "text/plain": [
       "torch.Size([1, 8, 8, 8, 512])"
      ]
     },
     "execution_count": 97,
     "metadata": {},
     "output_type": "execute_result"
    }
   ],
   "source": [
    "model.outp.shape\n"
   ]
  },
  {
   "cell_type": "code",
   "execution_count": 130,
   "id": "a408e122",
   "metadata": {},
   "outputs": [
    {
     "data": {
      "text/plain": [
       "torch.Size([1, 8, 8, 8])"
      ]
     },
     "execution_count": 130,
     "metadata": {},
     "output_type": "execute_result"
    }
   ],
   "source": [
    "from einops import rearrange\n",
    "k2 = x1[\"z_set_target\"]\n",
    "k2.shape\n",
    "#k = rearrange(k2, 'bs d1 d2 d3 c ->bs c d1 d2 d3')"
   ]
  },
  {
   "cell_type": "code",
   "execution_count": 131,
   "id": "3d1a3c2f",
   "metadata": {},
   "outputs": [
    {
     "data": {
      "text/plain": [
       "torch.Size([1, 8, 8, 8, 512])"
      ]
     },
     "execution_count": 131,
     "metadata": {},
     "output_type": "execute_result"
    }
   ],
   "source": [
    "f = model.outp.cpu()\n",
    "f.shape"
   ]
  },
  {
   "cell_type": "code",
   "execution_count": 132,
   "id": "7afda65c",
   "metadata": {},
   "outputs": [
    {
     "data": {
      "text/plain": [
       "torch.Size([1, 8, 8, 8])"
      ]
     },
     "execution_count": 132,
     "metadata": {},
     "output_type": "execute_result"
    }
   ],
   "source": [
    "sf = torch.nn.Softmax(dim=-1)\n",
    "f = sf(f)\n",
    "sampler = torch.distributions.categorical.Categorical(f)\n",
    "f = sampler.sample()\n",
    "f.shape"
   ]
  },
  {
   "cell_type": "code",
   "execution_count": 110,
   "id": "77275f6d",
   "metadata": {},
   "outputs": [],
   "source": [
    "cos = torch.nn.CosineSimilarity(dim=-1)\n",
    "#k2.shape"
   ]
  },
  {
   "cell_type": "code",
   "execution_count": 114,
   "id": "7dbb9279",
   "metadata": {},
   "outputs": [
    {
     "data": {
      "text/plain": [
       "tensor([[[[179, 179, 179, 179, 179, 179, 179, 179],\n",
       "          [179, 179, 179, 179, 179, 179, 179, 179],\n",
       "          [179, 179, 179, 179, 179, 179, 179, 179],\n",
       "          [179, 179, 179, 179, 179, 179, 179, 179],\n",
       "          [179, 179, 179, 179, 179, 179, 179, 179],\n",
       "          [179, 179, 179, 179, 179, 179, 179, 179],\n",
       "          [179, 179, 179, 179, 179, 179, 179, 179],\n",
       "          [179, 179, 179, 179, 179, 179, 179, 179]],\n",
       "\n",
       "         [[179, 179, 179,  68, 179, 179, 179, 179],\n",
       "          [179, 179, 349, 425,  68, 112, 179, 179],\n",
       "          [179,  68,  97,  97, 112, 425, 179, 179],\n",
       "          [179, 425, 112, 112,  68,  68, 425, 179],\n",
       "          [179,  24,  97,  68, 112, 112, 179, 179],\n",
       "          [179,  68,  97, 171, 179, 112, 179, 179],\n",
       "          [179, 112,  97, 453, 179, 179, 179, 179],\n",
       "          [179, 179, 228, 453, 179, 179, 179, 179]],\n",
       "\n",
       "         [[179, 179, 453, 179, 112,  29, 179, 179],\n",
       "          [179, 179, 453,  97, 453,  97, 453, 179],\n",
       "          [179,  24, 349,  97,  97,  97, 272, 179],\n",
       "          [179, 179, 171, 228, 349,  29, 228, 179],\n",
       "          [179, 179, 228, 228,  68, 453, 228, 179],\n",
       "          [179, 425,  29,  29, 179, 349, 453, 179],\n",
       "          [179, 425,  97,  29, 179, 112,  68, 179],\n",
       "          [179, 179, 228, 453, 179, 179, 179, 179]],\n",
       "\n",
       "         [[179, 179, 272, 179, 179, 453, 179, 179],\n",
       "          [179, 425, 272, 171, 453, 228, 272, 179],\n",
       "          [179, 425, 228,  29,  97,  97, 272, 179],\n",
       "          [179,  24,  29, 228, 228, 228, 349, 179],\n",
       "          [179,  24, 228, 228, 179,  68, 112, 179],\n",
       "          [179,  24,  29, 228, 179, 179, 179, 179],\n",
       "          [179, 425,  97,  29, 179, 179, 179, 179],\n",
       "          [179, 179, 228, 453, 179, 179, 179, 179]],\n",
       "\n",
       "         [[179, 179, 453, 179, 272, 272, 112, 179],\n",
       "          [179, 179, 453, 272,  97,  97, 272, 179],\n",
       "          [179, 179,  97, 228, 272,  29, 349, 179],\n",
       "          [179, 179, 453, 228, 228, 228, 349, 179],\n",
       "          [179, 179,  97, 171,  68, 171, 179, 179],\n",
       "          [179,  24,  97, 228, 179, 179, 179, 179],\n",
       "          [179, 425,  97,  29, 179, 179, 179, 179],\n",
       "          [179, 179,  29,  29, 179, 179, 179, 179]],\n",
       "\n",
       "         [[179, 179, 272, 453, 272, 453, 112, 179],\n",
       "          [179,  24,  29,  29,  29,  29, 272, 179],\n",
       "          [179,  24,  29, 349,  29,  29, 453, 179],\n",
       "          [179, 112,  29,  29, 228, 171, 453, 179],\n",
       "          [179, 425, 228, 171,  29, 272, 453, 179],\n",
       "          [179, 453, 228, 171,  29, 272, 179, 179],\n",
       "          [179,  68,  97,  29, 179, 179, 179, 179],\n",
       "          [179,  68, 349, 349, 179, 179, 179, 179]],\n",
       "\n",
       "         [[179, 179, 179, 179, 179, 425, 179, 179],\n",
       "          [179, 179, 179, 179,  24, 425, 179, 179],\n",
       "          [179, 179, 179, 179, 179, 425, 179, 179],\n",
       "          [179, 179, 179, 179, 179, 179, 179, 179],\n",
       "          [179, 179, 179, 112, 179, 179, 179, 179],\n",
       "          [179, 425, 171, 179, 179, 179, 179, 179],\n",
       "          [179, 425,  24,  24, 179, 179, 179, 179],\n",
       "          [179, 179, 112, 179, 179, 179, 179, 179]],\n",
       "\n",
       "         [[179, 179, 179, 179, 179, 179, 179, 179],\n",
       "          [179, 179, 179, 179, 179, 179, 179, 179],\n",
       "          [179, 179, 179, 179, 179, 179, 179, 179],\n",
       "          [179, 179, 179, 179, 179, 179, 179, 179],\n",
       "          [179, 179, 179, 179, 179, 179, 179, 179],\n",
       "          [179, 179, 179, 179, 179, 179, 179, 179],\n",
       "          [179, 179, 179, 179, 179, 179, 179, 179],\n",
       "          [179, 179, 179, 179, 179, 179, 179, 179]]]])"
      ]
     },
     "execution_count": 114,
     "metadata": {},
     "output_type": "execute_result"
    }
   ],
   "source": [
    "cos(f.float().flatten(),k2.float().flatten())\n",
    "#f\n",
    "#f\n",
    "#k2"
   ]
  },
  {
   "cell_type": "code",
   "execution_count": 112,
   "id": "e8129a02",
   "metadata": {},
   "outputs": [
    {
     "ename": "RuntimeError",
     "evalue": "Tensors must have same number of dimensions: got 5 and 6",
     "output_type": "error",
     "traceback": [
      "\u001b[0;31m---------------------------------------------------------------------------\u001b[0m",
      "\u001b[0;31mRuntimeError\u001b[0m                              Traceback (most recent call last)",
      "\u001b[0;32m/tmp/ipykernel_3986204/2664866607.py\u001b[0m in \u001b[0;36m<cell line: 3>\u001b[0;34m()\u001b[0m\n\u001b[1;32m      1\u001b[0m \u001b[0mz1\u001b[0m \u001b[0;34m=\u001b[0m \u001b[0mtorch\u001b[0m\u001b[0;34m.\u001b[0m\u001b[0mrand\u001b[0m\u001b[0;34m(\u001b[0m\u001b[0;34m(\u001b[0m\u001b[0;36m1\u001b[0m\u001b[0;34m,\u001b[0m\u001b[0;36m8\u001b[0m\u001b[0;34m,\u001b[0m\u001b[0;36m8\u001b[0m\u001b[0;34m,\u001b[0m\u001b[0;36m8\u001b[0m\u001b[0;34m,\u001b[0m\u001b[0;36m512\u001b[0m\u001b[0;34m)\u001b[0m\u001b[0;34m)\u001b[0m\u001b[0;34m\u001b[0m\u001b[0;34m\u001b[0m\u001b[0m\n\u001b[1;32m      2\u001b[0m \u001b[0mz2\u001b[0m \u001b[0;34m=\u001b[0m \u001b[0mtorch\u001b[0m\u001b[0;34m.\u001b[0m\u001b[0mzeros\u001b[0m\u001b[0;34m(\u001b[0m\u001b[0;34m(\u001b[0m\u001b[0;36m1\u001b[0m\u001b[0;34m,\u001b[0m\u001b[0;36m8\u001b[0m\u001b[0;34m,\u001b[0m\u001b[0;36m8\u001b[0m\u001b[0;34m,\u001b[0m\u001b[0;36m8\u001b[0m\u001b[0;34m,\u001b[0m\u001b[0;36m512\u001b[0m\u001b[0;34m)\u001b[0m\u001b[0;34m)\u001b[0m\u001b[0;34m*\u001b[0m\u001b[0;34m-\u001b[0m\u001b[0;36m1\u001b[0m\u001b[0;34m/\u001b[0m\u001b[0;36m512\u001b[0m\u001b[0;34m\u001b[0m\u001b[0;34m\u001b[0m\u001b[0m\n\u001b[0;32m----> 3\u001b[0;31m \u001b[0moutp1\u001b[0m \u001b[0;34m=\u001b[0m \u001b[0mm\u001b[0m\u001b[0;34m.\u001b[0m\u001b[0mnet\u001b[0m\u001b[0;34m.\u001b[0m\u001b[0mforward\u001b[0m\u001b[0;34m(\u001b[0m\u001b[0;34m[\u001b[0m\u001b[0;34m\"wheels\"\u001b[0m\u001b[0;34m]\u001b[0m\u001b[0;34m,\u001b[0m\u001b[0mz1\u001b[0m\u001b[0;34m.\u001b[0m\u001b[0mcuda\u001b[0m\u001b[0;34m(\u001b[0m\u001b[0;34m)\u001b[0m\u001b[0;34m)\u001b[0m\u001b[0;34m\u001b[0m\u001b[0;34m\u001b[0m\u001b[0m\n\u001b[0m\u001b[1;32m      4\u001b[0m \u001b[0moutp2\u001b[0m \u001b[0;34m=\u001b[0m \u001b[0mm\u001b[0m\u001b[0;34m.\u001b[0m\u001b[0mnet\u001b[0m\u001b[0;34m.\u001b[0m\u001b[0mforward\u001b[0m\u001b[0;34m(\u001b[0m\u001b[0;34m[\u001b[0m\u001b[0;34m\"okkkasfasf\"\u001b[0m\u001b[0;34m]\u001b[0m\u001b[0;34m,\u001b[0m\u001b[0mz2\u001b[0m\u001b[0;34m.\u001b[0m\u001b[0mcuda\u001b[0m\u001b[0;34m(\u001b[0m\u001b[0;34m)\u001b[0m\u001b[0;34m)\u001b[0m\u001b[0;34m\u001b[0m\u001b[0;34m\u001b[0m\u001b[0m\n",
      "\u001b[0;32m/cluster/54/streakfull/ADL4CV/Project/src/plz-autosdf/models/networks/bert2vq_sc_v4.py\u001b[0m in \u001b[0;36mforward\u001b[0;34m(self, x, z1)\u001b[0m\n\u001b[1;32m     98\u001b[0m \u001b[0;34m\u001b[0m\u001b[0m\n\u001b[1;32m     99\u001b[0m         \u001b[0;31m#x = self.linear3d_to_conv(x)\u001b[0m\u001b[0;34m\u001b[0m\u001b[0;34m\u001b[0m\u001b[0;34m\u001b[0m\u001b[0m\n\u001b[0;32m--> 100\u001b[0;31m         \u001b[0mx\u001b[0m \u001b[0;34m=\u001b[0m \u001b[0mtorch\u001b[0m\u001b[0;34m.\u001b[0m\u001b[0mcat\u001b[0m\u001b[0;34m(\u001b[0m\u001b[0;34m[\u001b[0m\u001b[0mx\u001b[0m\u001b[0;34m,\u001b[0m \u001b[0mz1\u001b[0m\u001b[0;34m]\u001b[0m\u001b[0;34m,\u001b[0m \u001b[0maxis\u001b[0m\u001b[0;34m=\u001b[0m\u001b[0;36m1\u001b[0m\u001b[0;34m)\u001b[0m\u001b[0;34m\u001b[0m\u001b[0;34m\u001b[0m\u001b[0m\n\u001b[0m\u001b[1;32m    101\u001b[0m \u001b[0;34m\u001b[0m\u001b[0m\n\u001b[1;32m    102\u001b[0m         \u001b[0mx\u001b[0m \u001b[0;34m=\u001b[0m \u001b[0mself\u001b[0m\u001b[0;34m.\u001b[0m\u001b[0mconvt_layers\u001b[0m\u001b[0;34m(\u001b[0m\u001b[0mx\u001b[0m\u001b[0;34m)\u001b[0m\u001b[0;34m\u001b[0m\u001b[0;34m\u001b[0m\u001b[0m\n",
      "\u001b[0;31mRuntimeError\u001b[0m: Tensors must have same number of dimensions: got 5 and 6"
     ]
    }
   ],
   "source": [
    "z1 = torch.rand((1,8,8,8,512))\n",
    "z2 = torch.zeros((1,8,8,8,512))*-1/512\n",
    "outp1 = m.net.forward([\"wheels\"],z1.cuda())\n",
    "outp2 = m.net.forward([\"okkkasfasf\"],z2.cuda())"
   ]
  },
  {
   "cell_type": "code",
   "execution_count": null,
   "id": "43eab52f",
   "metadata": {},
   "outputs": [],
   "source": [
    "cos(outp1.flatten(),outp2.flatten())"
   ]
  },
  {
   "cell_type": "code",
   "execution_count": 26,
   "id": "a699fd10",
   "metadata": {},
   "outputs": [
    {
     "data": {
      "text/plain": [
       "tensor([[[[179, 179, 179, 179, 179, 179, 179, 179],\n",
       "          [179, 179, 179, 179, 179, 179, 179, 179],\n",
       "          [179, 179, 179, 179, 179, 179, 179, 179],\n",
       "          [179, 179, 179, 179, 179, 179, 179, 179],\n",
       "          [179, 179,  24,  24,  24,  24, 179, 179],\n",
       "          [179, 179, 425, 425, 425, 425, 179, 179],\n",
       "          [179, 179, 179, 179, 179, 179, 179, 179],\n",
       "          [179, 179, 179, 179, 179, 179, 179, 179]],\n",
       "\n",
       "         [[179, 179, 171, 228, 228, 171, 179, 179],\n",
       "          [179, 179,  97,  97,  97,  97, 179, 179],\n",
       "          [179,  24,  97,  97,  97,  97, 425, 179],\n",
       "          [179, 425,  97,  97,  97,  97, 453, 179],\n",
       "          [179,  68,  97,  97,  97,  97, 272, 179],\n",
       "          [179, 453,  97,  97,  97,  97,  29, 179],\n",
       "          [179, 179,  68, 453, 112, 112,  68, 179],\n",
       "          [179, 179,  24, 112, 179, 179, 179, 179]],\n",
       "\n",
       "         [[179, 179, 425, 112, 112, 112, 179, 179],\n",
       "          [179, 179, 425, 112, 112,  68, 179, 179],\n",
       "          [179, 179, 112, 171, 171, 171, 272, 179],\n",
       "          [179, 179, 112, 228, 453, 349, 349, 179],\n",
       "          [179, 179,  68, 228,  68,  68, 112, 179],\n",
       "          [179, 179, 349, 228, 453,  68, 453, 179],\n",
       "          [179, 179, 228,  29, 179, 179,  24, 179],\n",
       "          [179, 179, 453, 272, 179, 179, 179, 179]],\n",
       "\n",
       "         [[179, 179, 179, 179, 179, 179, 179, 179],\n",
       "          [179, 179, 179, 179, 179, 179, 179, 179],\n",
       "          [179, 179, 272,  29,  29,  29, 272, 179],\n",
       "          [179, 179, 171, 228, 349, 272, 349, 179],\n",
       "          [179, 179, 228, 228, 179, 179, 179, 179],\n",
       "          [179, 179,  29, 171, 179, 179, 179, 179],\n",
       "          [179, 179,  97, 349, 179, 179, 179, 179],\n",
       "          [179, 179, 349, 453, 179, 179, 179, 179]],\n",
       "\n",
       "         [[179, 179, 179, 179, 179, 179, 179, 179],\n",
       "          [179, 179, 179, 179, 179, 179, 179, 179],\n",
       "          [179, 179, 349,  29,  29,  29, 272, 179],\n",
       "          [179, 179, 349, 228, 349, 272, 349, 179],\n",
       "          [179, 179, 272,  29, 179, 179, 179, 179],\n",
       "          [179, 179, 171, 228, 179, 179, 179, 179],\n",
       "          [179, 179,  29, 171, 179, 179, 179, 179],\n",
       "          [179, 179, 453, 349, 179, 179, 179, 179]],\n",
       "\n",
       "         [[179, 179, 272, 171, 171, 349, 179, 179],\n",
       "          [179, 179,  29,  29,  29,  29, 179, 179],\n",
       "          [179,  24,  29,  97,  97,  97, 349, 179],\n",
       "          [179, 425, 228,  29, 228,  29, 453, 179],\n",
       "          [179, 112, 228,  97,  97,  97, 349, 179],\n",
       "          [179, 453, 228,  97,  97,  97, 171, 179],\n",
       "          [179, 179, 453,  29, 112, 112, 112, 179],\n",
       "          [179, 179, 425, 228, 179, 179, 179, 179]],\n",
       "\n",
       "         [[179, 179, 453, 349, 349, 349, 179, 179],\n",
       "          [179, 179, 453, 272, 272, 228, 179, 179],\n",
       "          [179, 179, 349, 272, 272, 228,  24, 179],\n",
       "          [179, 179, 272, 171, 171, 228, 112, 179],\n",
       "          [179,  24, 171, 171, 171, 171, 453, 179],\n",
       "          [179, 425, 171, 171, 171, 171, 272, 179],\n",
       "          [179, 179,  24,  24,  24,  24, 112, 179],\n",
       "          [179, 179, 179, 179, 179, 179, 179, 179]],\n",
       "\n",
       "         [[179, 179, 179, 179, 179, 179, 179, 179],\n",
       "          [179, 179, 179, 179, 179, 179, 179, 179],\n",
       "          [179, 179, 179, 179, 179, 179, 179, 179],\n",
       "          [179, 179, 179, 179, 179, 179, 179, 179],\n",
       "          [179, 179, 179, 179, 179, 179, 179, 179],\n",
       "          [179, 179, 179, 179, 179, 179, 179, 179],\n",
       "          [179, 179, 179, 179, 179, 179, 179, 179],\n",
       "          [179, 179, 179, 179, 179, 179, 179, 179]]]])"
      ]
     },
     "execution_count": 26,
     "metadata": {},
     "output_type": "execute_result"
    }
   ],
   "source": [
    "k2"
   ]
  },
  {
   "cell_type": "code",
   "execution_count": null,
   "id": "5bc1fd10",
   "metadata": {},
   "outputs": [],
   "source": []
  },
  {
   "cell_type": "code",
   "execution_count": null,
   "id": "2a3cd405",
   "metadata": {},
   "outputs": [],
   "source": [
    "dataset[5][\"previous_text\"]"
   ]
  },
  {
   "cell_type": "code",
   "execution_count": null,
   "id": "afbfea9e",
   "metadata": {},
   "outputs": [],
   "source": [
    "dataset[18][\"current_text\"]"
   ]
  },
  {
   "cell_type": "code",
   "execution_count": null,
   "id": "06a9ad3e",
   "metadata": {},
   "outputs": [],
   "source": [
    "import torch.nn as nn"
   ]
  },
  {
   "cell_type": "code",
   "execution_count": null,
   "id": "7bc67e68",
   "metadata": {},
   "outputs": [],
   "source": [
    "loss = nn.CrossEntropyLoss()"
   ]
  },
  {
   "cell_type": "code",
   "execution_count": null,
   "id": "3b48e3a5",
   "metadata": {},
   "outputs": [],
   "source": [
    "input = torch.randn(3, 5, requires_grad=True)"
   ]
  },
  {
   "cell_type": "code",
   "execution_count": null,
   "id": "6386f64a",
   "metadata": {},
   "outputs": [],
   "source": [
    "target = torch.empty(3, dtype=torch.long).random_(5)"
   ]
  },
  {
   "cell_type": "code",
   "execution_count": null,
   "id": "72276103",
   "metadata": {},
   "outputs": [],
   "source": [
    "input.shape"
   ]
  },
  {
   "cell_type": "code",
   "execution_count": null,
   "id": "8e65cacc",
   "metadata": {},
   "outputs": [],
   "source": [
    "target.shape"
   ]
  },
  {
   "cell_type": "code",
   "execution_count": null,
   "id": "ab295ecd",
   "metadata": {},
   "outputs": [],
   "source": [
    "input = torch.randn(32,512,8,8,8, requires_grad=True)"
   ]
  },
  {
   "cell_type": "code",
   "execution_count": null,
   "id": "5100cf9d",
   "metadata": {},
   "outputs": [],
   "source": [
    "input.shape"
   ]
  },
  {
   "cell_type": "code",
   "execution_count": null,
   "id": "78fd5648",
   "metadata": {},
   "outputs": [],
   "source": [
    "target = torch.randn(32,8,8,8, 512).softmax(dim=1)"
   ]
  },
  {
   "cell_type": "code",
   "execution_count": null,
   "id": "11623b30",
   "metadata": {},
   "outputs": [],
   "source": [
    "target.shape\n",
    "input.shape"
   ]
  },
  {
   "cell_type": "code",
   "execution_count": null,
   "id": "a01105e9",
   "metadata": {},
   "outputs": [],
   "source": [
    "loss(input,target)"
   ]
  },
  {
   "cell_type": "code",
   "execution_count": null,
   "id": "deff8130",
   "metadata": {},
   "outputs": [],
   "source": []
  }
 ],
 "metadata": {
  "kernelspec": {
   "display_name": "Python 3 (ipykernel)",
   "language": "python",
   "name": "python3"
  },
  "language_info": {
   "codemirror_mode": {
    "name": "ipython",
    "version": 3
   },
   "file_extension": ".py",
   "mimetype": "text/x-python",
   "name": "python",
   "nbconvert_exporter": "python",
   "pygments_lexer": "ipython3",
   "version": "3.8.10"
  }
 },
 "nbformat": 4,
 "nbformat_minor": 5
}
