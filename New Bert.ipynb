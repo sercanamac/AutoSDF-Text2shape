{
 "cells": [
  {
   "cell_type": "code",
   "execution_count": 1,
   "id": "ad642d26",
   "metadata": {},
   "outputs": [],
   "source": [
    "import os\n",
    "from IPython.display import Image as ipy_image\n",
    "from IPython.display import display\n",
    "\n",
    "#from utils.demo_util import get_shape_comp_model, get_shape_comp_opt, make_dummy_batch\n",
    "#from utils.qual_util import load_bert2vqsc_model, get_lang_prob, save_mesh_as_gif\n",
    "from utils.qual_util import get_lang_prob, save_mesh_as_gif\n",
    "from utils.util import seed_everything\n",
    "from utils.util_3d import init_mesh_renderer, sdf_to_mesh\n",
    "import os\n",
    "from termcolor import colored, cprint\n",
    "import torch\n",
    "import utils.util as util\n",
    "from tqdm.notebook import tqdm\n",
    "from datasets.text2shape import  Text2Shape\n",
    "\n",
    "\n",
    "from datasets.text2shapepp_dataset import  Text2ShapePP\n",
    "\n",
    "\n",
    "%reload_ext autoreload\n",
    "%autoreload 2"
   ]
  },
  {
   "cell_type": "code",
   "execution_count": 2,
   "id": "99e21afb",
   "metadata": {},
   "outputs": [
    {
     "name": "stdout",
     "output_type": "stream",
     "text": [
      "class\n"
     ]
    }
   ],
   "source": [
    "class Opt():\n",
    "    print(\"class\")\n",
    "    \n",
    "def get_shape_comp_opt(gpu_id=0):\n",
    "    opt = Opt()\n",
    "\n",
    "    # args\n",
    "    gpuid=[gpu_id]\n",
    "    batch_size=16\n",
    "    max_dataset_size=64\n",
    "\n",
    "    name='test_New bert'\n",
    "\n",
    "    # default args\n",
    "    opt.serial_batches = False\n",
    "    opt.nThreads = 4\n",
    "\n",
    "    # important args\n",
    "    opt.dataset_mode = 'shapenet_code'\n",
    "    opt.seed = 111\n",
    "    opt.isTrain = True\n",
    "    opt.gpu_ids = gpuid\n",
    "    opt.max_dataset_size=64\n",
    "    opt.device = 'cuda:%s' % gpuid[0]\n",
    "    opt.batch_size = batch_size\n",
    "    opt.max_dataset_size = max_dataset_size\n",
    "    opt.logs_dir=\"../logs\"\n",
    "    opt.name = name\n",
    "    opt.lr = 1e-4\n",
    "    opt.save_latest_freq = 1000\n",
    "    opt.print_freq = 300\n",
    "    #utils.util.seed_everything(opt.seed)\n",
    "    opt.phase = 'test'\n",
    "    opt.nepochs = 60\n",
    "    opt.nepochs_decay = 5\n",
    "    return opt\n",
    "opt = get_shape_comp_opt()"
   ]
  },
  {
   "cell_type": "code",
   "execution_count": 31,
   "id": "ecb8a3c5",
   "metadata": {},
   "outputs": [],
   "source": [
    "\n",
    "\n",
    "dataset = Text2Shape()\n",
    "#opt = Opt()\n",
    "\n",
    "dataset.initialize(opt)"
   ]
  },
  {
   "cell_type": "code",
   "execution_count": 32,
   "id": "8ee5bee5",
   "metadata": {},
   "outputs": [
    {
     "data": {
      "text/plain": [
       "64"
      ]
     },
     "execution_count": 32,
     "metadata": {},
     "output_type": "execute_result"
    }
   ],
   "source": [
    "len(dataset)"
   ]
  },
  {
   "cell_type": "code",
   "execution_count": 7,
   "id": "0ca804c0",
   "metadata": {},
   "outputs": [
    {
     "data": {
      "application/vnd.jupyter.widget-view+json": {
       "model_id": "a21a9f567f3d4940bd0dcac98f6c6e11",
       "version_major": 2,
       "version_minor": 0
      },
      "text/plain": [
       "  0%|          | 0/64 [00:00<?, ?it/s]"
      ]
     },
     "metadata": {},
     "output_type": "display_data"
    }
   ],
   "source": [
    "for i in tqdm(range(len(dataset))):\n",
    "    dataset[i]"
   ]
  },
  {
   "cell_type": "code",
   "execution_count": 5,
   "id": "63851a4d",
   "metadata": {},
   "outputs": [
    {
     "data": {
      "text/plain": [
       "'and rocking feet'"
      ]
     },
     "execution_count": 5,
     "metadata": {},
     "output_type": "execute_result"
    }
   ],
   "source": [
    "dataset[19][\"current_text\"]"
   ]
  },
  {
   "cell_type": "code",
   "execution_count": 3,
   "id": "8c71e80e",
   "metadata": {},
   "outputs": [
    {
     "data": {
      "text/plain": [
       "SentenceTransformer(\n",
       "  (0): Transformer({'max_seq_length': 256, 'do_lower_case': False}) with Transformer model: BertModel \n",
       "  (1): Pooling({'word_embedding_dimension': 384, 'pooling_mode_cls_token': False, 'pooling_mode_mean_tokens': True, 'pooling_mode_max_tokens': False, 'pooling_mode_mean_sqrt_len_tokens': False})\n",
       "  (2): Normalize()\n",
       ")"
      ]
     },
     "execution_count": 3,
     "metadata": {},
     "output_type": "execute_result"
    }
   ],
   "source": [
    "from sentence_transformers import SentenceTransformer\n",
    "model = SentenceTransformer('all-MiniLM-L6-v2')\n",
    "\n",
    "text1 = \"thin legs\"\n",
    "text2 = \"round arms\"\n",
    "# tokenized1 = tokenizer(text1,return_tensors='pt',padding=True)\n",
    "# x = bertmodel(**tokenized1).pooler_output\n",
    "# x.shape\n",
    "# tokenized2 = tokenizer(text2,return_tensors='pt',padding=True)\n",
    "# x2 = bertmodel(**tokenized2).pooler_output\n",
    "# x2.shape\n",
    "x1 = model.encode(text1)\n",
    "x2 = model.encode(text2)\n",
    "x1.shape\n",
    "x2.shape\n",
    "model.eval()\n",
    "\n"
   ]
  },
  {
   "cell_type": "code",
   "execution_count": 147,
   "id": "e8e12f6c",
   "metadata": {},
   "outputs": [],
   "source": [
    "cos = torch.nn.CosineSimilarity(dim=0)"
   ]
  },
  {
   "cell_type": "code",
   "execution_count": 148,
   "id": "88ec8ce3",
   "metadata": {},
   "outputs": [
    {
     "data": {
      "text/plain": [
       "tensor(0.4562)"
      ]
     },
     "execution_count": 148,
     "metadata": {},
     "output_type": "execute_result"
    }
   ],
   "source": [
    "cos(torch.Tensor(x1),torch.Tensor(x2))"
   ]
  },
  {
   "cell_type": "code",
   "execution_count": 6,
   "id": "d2f3c8f8",
   "metadata": {},
   "outputs": [],
   "source": [
    "from models.bert2vq_scmodel import BERT2VQSCModel"
   ]
  },
  {
   "cell_type": "code",
   "execution_count": 46,
   "id": "3250e9d4",
   "metadata": {},
   "outputs": [
    {
     "name": "stdout",
     "output_type": "stream",
     "text": [
      "---------- Networks initialized -------------\n",
      "-----------------------------------------------\n"
     ]
    }
   ],
   "source": [
    "m = BERT2VQSCModel()\n",
    "m.initialize(opt)"
   ]
  },
  {
   "cell_type": "code",
   "execution_count": 122,
   "id": "b88a3dfe",
   "metadata": {},
   "outputs": [],
   "source": [
    "# data = dataset[4]\n",
    "# data2 = dataset[2]\n",
    "# data[\"z_set_prev\"] = data[\"z_set_prev\"].unsqueeze(0)\n",
    "# data[\"z_set_target\"] = data[\"z_set_target\"].unsqueeze(0)\n",
    "# data[\"current_text\"] = [data[\"current_text\"]]\n"
   ]
  },
  {
   "cell_type": "code",
   "execution_count": 123,
   "id": "0c8d3a33",
   "metadata": {},
   "outputs": [],
   "source": [
    "m.set_input(data)\n",
    "m.forward()"
   ]
  },
  {
   "cell_type": "code",
   "execution_count": 125,
   "id": "e8fb257a",
   "metadata": {},
   "outputs": [],
   "source": [
    "m.backward()"
   ]
  },
  {
   "cell_type": "code",
   "execution_count": 34,
   "id": "cebaf816",
   "metadata": {},
   "outputs": [
    {
     "data": {
      "text/plain": [
       "torch.Size([8, 8, 8, 512])"
      ]
     },
     "execution_count": 34,
     "metadata": {},
     "output_type": "execute_result"
    }
   ],
   "source": [
    "x = dataset[0][\"z_set_prev\"].shape\n",
    "y = dataset[3][\"z_set_prev\"].shape\n",
    "x"
   ]
  },
  {
   "cell_type": "code",
   "execution_count": 129,
   "id": "c7f096d5",
   "metadata": {},
   "outputs": [
    {
     "data": {
      "text/plain": [
       "torch.Size([2034])"
      ]
     },
     "execution_count": 129,
     "metadata": {},
     "output_type": "execute_result"
    }
   ],
   "source": [
    "x[x!=0].shape"
   ]
  },
  {
   "cell_type": "code",
   "execution_count": 35,
   "id": "8f1ecb1d",
   "metadata": {},
   "outputs": [],
   "source": [
    "from torch.utils.data import DataLoader\n",
    "train_dl =  DataLoader(\n",
    "            dataset,\n",
    "            batch_size=opt.batch_size,\n",
    "            shuffle=False,\n",
    "            drop_last=True,\n",
    "            num_workers=0)"
   ]
  },
  {
   "cell_type": "code",
   "execution_count": 63,
   "id": "ce6394db",
   "metadata": {},
   "outputs": [
    {
     "ename": "SyntaxError",
     "evalue": "invalid syntax (2724499001.py, line 7)",
     "output_type": "error",
     "traceback": [
      "\u001b[0;36m  File \u001b[0;32m\"/tmp/ipykernel_3758260/2724499001.py\"\u001b[0;36m, line \u001b[0;32m7\u001b[0m\n\u001b[0;31m    for i, data in enumerate(train_dl), total=len(train_dl):\u001b[0m\n\u001b[0m                                             ^\u001b[0m\n\u001b[0;31mSyntaxError\u001b[0m\u001b[0;31m:\u001b[0m invalid syntax\n"
     ]
    }
   ],
   "source": [
    "options=opt\n",
    "model = m\n",
    "def train_one_epoch2(pt_profiler=None,epoch=0):\n",
    "    global total_steps\n",
    "\n",
    "    epoch_iter = 0\n",
    "    for i, data in enumerate(train_dl), total=len(train_dl):\n",
    "        iter_start_time = time.time()\n",
    "        #visualizer.reset()\n",
    "        #import pdb;pdb.set_trace()\n",
    "        total_steps += options.batch_size\n",
    "        epoch_iter += options.batch_size\n",
    "        model.set_input(data)\n",
    "\n",
    "        model.optimize_parameters(total_steps)\n",
    "\n",
    "        nBatches_has_trained = total_steps // options.batch_size\n",
    "        # if total_steps % options.print_freq == 0:\n",
    "        import pdb;pdb.set_trace()\n",
    "        if nBatches_has_trained % options.print_freq == 0:\n",
    "            errors = model.get_current_errors()\n",
    "            import pdb;pdb.set_trace()\n",
    "            print(model.loss,\"LOSS\")\n",
    "            t = (time.time() - iter_start_time) / options.batch_size\n",
    "            visualizer.print_current_errors(\n",
    "                epoch, epoch_iter, total_steps, errors, t)\n",
    "\n",
    "        # if (nBatches_has_trained % options.display_freq == 0) or i == 0:\n",
    "        #     # eval\n",
    "        #     model.inference(data)\n",
    "        #     visualizer.display_current_results(\n",
    "        #        model.get_current_visuals(), total_steps, phase='train')\n",
    "\n",
    "        #     #model.set_input(next(test_dg))\n",
    "        #     test_data = next(test_dg)\n",
    "        #     model.inference(test_data.unsqueeze(0))\n",
    "        #     visualizer.display_current_results(\n",
    "        #        model.get_current_visuals(), total_steps, phase='test')\n",
    "\n",
    "#         if total_steps % options.save_latest_freq == 0:\n",
    "#             cprint('saving the latestmodel (epoch %d, total_steps %d)' %\n",
    "#                    (epoch, total_steps), 'blue')\n",
    "#             latest_name = f'epoch-latest'\n",
    "#             model.save(latest_name)\n",
    "\n",
    "        if pt_profiler is not None:\n",
    "            pt_profiler.step()"
   ]
  },
  {
   "cell_type": "code",
   "execution_count": 65,
   "id": "0e8eb468",
   "metadata": {},
   "outputs": [
    {
     "name": "stdout",
     "output_type": "stream",
     "text": [
      "[*] Start training. name: test_New bert\n"
     ]
    },
    {
     "data": {
      "application/vnd.jupyter.widget-view+json": {
       "model_id": "c1a5db9535684cfda199cfbc62608b45",
       "version_major": 2,
       "version_minor": 0
      },
      "text/plain": [
       "  0%|          | 0/65 [00:00<?, ?it/s]"
      ]
     },
     "metadata": {},
     "output_type": "display_data"
    },
    {
     "ename": "NameError",
     "evalue": "name 'train_one_epoch2' is not defined",
     "output_type": "error",
     "traceback": [
      "\u001b[0;31m---------------------------------------------------------------------------\u001b[0m",
      "\u001b[0;31mNameError\u001b[0m                                 Traceback (most recent call last)",
      "\u001b[0;32m/tmp/ipykernel_3758260/3188320248.py\u001b[0m in \u001b[0;36m<cell line: 4>\u001b[0;34m()\u001b[0m\n\u001b[1;32m      7\u001b[0m \u001b[0;34m\u001b[0m\u001b[0m\n\u001b[1;32m      8\u001b[0m     \u001b[0;31m# profile\u001b[0m\u001b[0;34m\u001b[0m\u001b[0;34m\u001b[0m\u001b[0;34m\u001b[0m\u001b[0m\n\u001b[0;32m----> 9\u001b[0;31m     \u001b[0mtrain_one_epoch2\u001b[0m\u001b[0;34m(\u001b[0m\u001b[0;32mNone\u001b[0m\u001b[0;34m,\u001b[0m\u001b[0mepoch\u001b[0m\u001b[0;34m)\u001b[0m\u001b[0;34m\u001b[0m\u001b[0;34m\u001b[0m\u001b[0m\n\u001b[0m\u001b[1;32m     10\u001b[0m \u001b[0;34m\u001b[0m\u001b[0m\n\u001b[1;32m     11\u001b[0m \u001b[0;31m#     if epoch % 100000 == 0:\u001b[0m\u001b[0;34m\u001b[0m\u001b[0;34m\u001b[0m\u001b[0;34m\u001b[0m\u001b[0m\n",
      "\u001b[0;31mNameError\u001b[0m: name 'train_one_epoch2' is not defined"
     ]
    }
   ],
   "source": [
    "import time\n",
    "cprint('[*] Start training. name: %s' % options.name, 'blue')\n",
    "total_steps = 0\n",
    "for epoch in tqdm(range(options.nepochs + options.nepochs_decay)):\n",
    "    epoch_start_time = time.time()\n",
    "    # epoch_iter = 0\n",
    "\n",
    "    # profile\n",
    "    train_one_epoch2(None,epoch)\n",
    "\n",
    "#     if epoch % 100000 == 0:\n",
    "#         cprint('saving the model at the end of epoch %d, iters %d' %\n",
    "#                (epoch, total_steps), 'blue')\n",
    "#         latest_name = f'epoch-latest'\n",
    "#         model.save(latest_name)\n",
    "#         cur_name = f'epoch-{epoch}'\n",
    "#         model.save(cur_name)\n",
    "\n",
    "    cprint(f'[*] End of epoch %d / %d \\t Time Taken: %d sec \\n%s' %\n",
    "           (\n",
    "               epoch, options.nepochs + options.nepochs_decay,\n",
    "               time.time() - epoch_start_time,\n",
    "               os.path.abspath(os.path.join(options.logs_dir, options.name))\n",
    "           ), 'blue', attrs=['bold']\n",
    "           )\n",
    "    model.update_learning_rate()\n"
   ]
  },
  {
   "cell_type": "code",
   "execution_count": null,
   "id": "6df23d0b",
   "metadata": {},
   "outputs": [],
   "source": []
  }
 ],
 "metadata": {
  "kernelspec": {
   "display_name": "Python 3 (ipykernel)",
   "language": "python",
   "name": "python3"
  },
  "language_info": {
   "codemirror_mode": {
    "name": "ipython",
    "version": 3
   },
   "file_extension": ".py",
   "mimetype": "text/x-python",
   "name": "python",
   "nbconvert_exporter": "python",
   "pygments_lexer": "ipython3",
   "version": "3.8.10"
  }
 },
 "nbformat": 4,
 "nbformat_minor": 5
}
