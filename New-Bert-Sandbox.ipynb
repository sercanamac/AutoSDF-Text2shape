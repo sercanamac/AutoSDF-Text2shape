{
 "cells": [
  {
   "cell_type": "code",
   "execution_count": 1,
   "id": "ad642d26",
   "metadata": {},
   "outputs": [
    {
     "data": {
      "text/plain": [
       "True"
      ]
     },
     "execution_count": 1,
     "metadata": {},
     "output_type": "execute_result"
    }
   ],
   "source": [
    "import os\n",
    "from IPython.display import Image as ipy_image\n",
    "from IPython.display import display\n",
    "\n",
    "#from utils.demo_util import get_shape_comp_model, get_shape_comp_opt, make_dummy_batch\n",
    "#from utils.qual_util import load_bert2vqsc_model, get_lang_prob, save_mesh_as_gif\n",
    "from utils.qual_util import get_lang_prob, save_mesh_as_gif\n",
    "from utils.util import seed_everything\n",
    "from utils.util_3d import init_mesh_renderer, sdf_to_mesh\n",
    "import os\n",
    "from termcolor import colored, cprint\n",
    "import torch\n",
    "import utils.util as util\n",
    "from tqdm.notebook import tqdm\n",
    "from datasets.text2shape import  Text2Shape\n",
    "\n",
    "\n",
    "from datasets.text2shapepp_dataset import  Text2ShapePP\n",
    "\n",
    "\n",
    "%reload_ext autoreload\n",
    "%autoreload 2\n",
    "torch.cuda.is_available()"
   ]
  },
  {
   "cell_type": "code",
   "execution_count": 2,
   "id": "99e21afb",
   "metadata": {},
   "outputs": [
    {
     "name": "stdout",
     "output_type": "stream",
     "text": [
      "class\n"
     ]
    }
   ],
   "source": [
    "class Opt():\n",
    "    print(\"class\")\n",
    "    \n",
    "def get_shape_comp_opt(gpu_id=0):\n",
    "    opt = Opt()\n",
    "\n",
    "    # args\n",
    "    gpuid=[gpu_id]\n",
    "    batch_size=32\n",
    "    max_dataset_size=64\n",
    "\n",
    "    name='new_bert_overfit'\n",
    "\n",
    "    # default args\n",
    "    opt.serial_batches = False\n",
    "    opt.nThreads = 4\n",
    "\n",
    "    # important args\n",
    "    opt.dataset_mode = 'shapenet_code'\n",
    "    opt.bert_cfg = \"./configs/bert2vqsc.yaml\"\n",
    "    opt.seed = 111\n",
    "    opt.isTrain = True\n",
    "    opt.gpu_ids = gpuid\n",
    "    opt.max_dataset_size=64\n",
    "    opt.device = 'cuda:%s' % gpuid[0]\n",
    "    opt.batch_size = batch_size\n",
    "    opt.max_dataset_size = max_dataset_size\n",
    "    opt.logs_dir=\"logs\"\n",
    "    opt.name = name\n",
    "    opt.lr = 1e-4\n",
    "    opt.save_latest_freq = 1000\n",
    "    opt.print_freq = 1\n",
    "    #utils.util.seed_everything(opt.seed)\n",
    "    opt.phase = 'test'\n",
    "    opt.nepochs = 100\n",
    "    opt.nepochs_decay = 60\n",
    "    opt.mlp_layers = 3\n",
    "    opt.mlp_hidden = 1024\n",
    "    return opt\n",
    "opt = get_shape_comp_opt()"
   ]
  },
  {
   "cell_type": "code",
   "execution_count": 3,
   "id": "ecb8a3c5",
   "metadata": {},
   "outputs": [],
   "source": [
    "\n",
    "\n",
    "dataset = Text2Shape()\n",
    "#opt = Opt()\n",
    "\n",
    "dataset.initialize(opt,isTrain=False)"
   ]
  },
  {
   "cell_type": "code",
   "execution_count": 4,
   "id": "8ee5bee5",
   "metadata": {},
   "outputs": [
    {
     "data": {
      "text/plain": [
       "64"
      ]
     },
     "execution_count": 4,
     "metadata": {},
     "output_type": "execute_result"
    }
   ],
   "source": [
    "len(dataset)\n",
    "# import numpy as np\n",
    "# k = np.arange(0,156707)"
   ]
  },
  {
   "cell_type": "code",
   "execution_count": null,
   "id": "8b37d208",
   "metadata": {},
   "outputs": [],
   "source": [
    "# k.shape\n",
    "# test_indices = np.random.choice(156707, 16000, replace=False)"
   ]
  },
  {
   "cell_type": "code",
   "execution_count": null,
   "id": "e48ad1d9",
   "metadata": {},
   "outputs": [],
   "source": [
    "# np.save('./datasets/text2shape_test_indices', test_indices)\n",
    "# test_indices.shape"
   ]
  },
  {
   "cell_type": "code",
   "execution_count": null,
   "id": "a6e3fd13",
   "metadata": {},
   "outputs": [],
   "source": [
    "# x = np.ones(156707)\n",
    "# x[test_indices]=0\n",
    "# train_indices = np.where(x==1)\n",
    "# train_indices = train_indices[0]\n",
    "#np.save('./datasets/train_indices', train_indices)\n",
    "#test_indices"
   ]
  },
  {
   "cell_type": "code",
   "execution_count": null,
   "id": "0ca804c0",
   "metadata": {},
   "outputs": [],
   "source": [
    "for i in tqdm(range(len(dataset))):\n",
    "    dataset[i]"
   ]
  },
  {
   "cell_type": "code",
   "execution_count": null,
   "id": "63851a4d",
   "metadata": {},
   "outputs": [],
   "source": [
    "dataset[19][\"z_set_target\"]"
   ]
  },
  {
   "cell_type": "code",
   "execution_count": null,
   "id": "8c71e80e",
   "metadata": {},
   "outputs": [],
   "source": [
    "from sentence_transformers import SentenceTransformer\n",
    "model = SentenceTransformer('all-MiniLM-L6-v2')\n",
    "\n",
    "text1 = \"thin legs\"\n",
    "text2 = \"round arms\"\n",
    "# tokenized1 = tokenizer(text1,return_tensors='pt',padding=True)\n",
    "# x = bertmodel(**tokenized1).pooler_output\n",
    "# x.shape\n",
    "# tokenized2 = tokenizer(text2,return_tensors='pt',padding=True)\n",
    "# x2 = bertmodel(**tokenized2).pooler_output\n",
    "# x2.shape\n",
    "x1 = model.encode(text1)\n",
    "x2 = model.encode(text2)\n",
    "x1.shape\n",
    "x2.shape\n",
    "model.eval()\n",
    "\n"
   ]
  },
  {
   "cell_type": "code",
   "execution_count": null,
   "id": "e8e12f6c",
   "metadata": {},
   "outputs": [],
   "source": [
    "cos = torch.nn.CosineSimilarity(dim=0)"
   ]
  },
  {
   "cell_type": "code",
   "execution_count": null,
   "id": "88ec8ce3",
   "metadata": {},
   "outputs": [],
   "source": [
    "cos(torch.Tensor(x1),torch.Tensor(x2))"
   ]
  },
  {
   "cell_type": "code",
   "execution_count": 5,
   "id": "d2f3c8f8",
   "metadata": {},
   "outputs": [],
   "source": [
    "from models.bert2vq_scmodel_v4 import BERT2VQSCModel"
   ]
  },
  {
   "cell_type": "code",
   "execution_count": 6,
   "id": "3250e9d4",
   "metadata": {},
   "outputs": [
    {
     "name": "stdout",
     "output_type": "stream",
     "text": [
      "---------- Networks initialized -------------\n",
      "-----------------------------------------------\n"
     ]
    },
    {
     "data": {
      "text/plain": [
       "True"
      ]
     },
     "execution_count": 6,
     "metadata": {},
     "output_type": "execute_result"
    }
   ],
   "source": [
    "m = BERT2VQSCModel()\n",
    "m.initialize(opt)\n",
    "\n",
    "torch.cuda.is_available()"
   ]
  },
  {
   "cell_type": "code",
   "execution_count": 7,
   "id": "b88a3dfe",
   "metadata": {},
   "outputs": [],
   "source": [
    "import copy\n",
    "data = copy.deepcopy(dataset[4])\n",
    "# data2 = dataset[2]\n",
    "data[\"z_set_prev\"] = data[\"z_set_prev\"].unsqueeze(0)\n",
    "data[\"z_set_target\"] = data[\"z_set_target\"].unsqueeze(0)\n",
    "data[\"current_text\"] = [data[\"current_text\"]]\n"
   ]
  },
  {
   "cell_type": "code",
   "execution_count": 8,
   "id": "0c8d3a33",
   "metadata": {},
   "outputs": [
    {
     "ename": "ValueError",
     "evalue": "Expected more than 1 value per channel when training, got input size torch.Size([1, 1024])",
     "output_type": "error",
     "traceback": [
      "\u001b[0;31m---------------------------------------------------------------------------\u001b[0m",
      "\u001b[0;31mValueError\u001b[0m                                Traceback (most recent call last)",
      "\u001b[0;32m/tmp/ipykernel_3936183/3164729782.py\u001b[0m in \u001b[0;36m<cell line: 3>\u001b[0;34m()\u001b[0m\n\u001b[1;32m      1\u001b[0m \u001b[0;31m#m.net.eval()\u001b[0m\u001b[0;34m\u001b[0m\u001b[0;34m\u001b[0m\u001b[0;34m\u001b[0m\u001b[0m\n\u001b[1;32m      2\u001b[0m \u001b[0mm\u001b[0m\u001b[0;34m.\u001b[0m\u001b[0mset_input\u001b[0m\u001b[0;34m(\u001b[0m\u001b[0mdata\u001b[0m\u001b[0;34m)\u001b[0m\u001b[0;34m\u001b[0m\u001b[0;34m\u001b[0m\u001b[0m\n\u001b[0;32m----> 3\u001b[0;31m \u001b[0mm\u001b[0m\u001b[0;34m.\u001b[0m\u001b[0mforward\u001b[0m\u001b[0;34m(\u001b[0m\u001b[0;34m)\u001b[0m\u001b[0;34m\u001b[0m\u001b[0;34m\u001b[0m\u001b[0m\n\u001b[0m\u001b[1;32m      4\u001b[0m \u001b[0mm\u001b[0m\u001b[0;34m.\u001b[0m\u001b[0moutp\u001b[0m\u001b[0;34m.\u001b[0m\u001b[0mshape\u001b[0m\u001b[0;34m\u001b[0m\u001b[0;34m\u001b[0m\u001b[0m\n",
      "\u001b[0;32m/cluster/54/streakfull/ADL4CV/Project/src/plz-autosdf/models/bert2vq_scmodel_v4.py\u001b[0m in \u001b[0;36mforward\u001b[0;34m(self)\u001b[0m\n\u001b[1;32m    100\u001b[0m \u001b[0;34m\u001b[0m\u001b[0m\n\u001b[1;32m    101\u001b[0m     \u001b[0;32mdef\u001b[0m \u001b[0mforward\u001b[0m\u001b[0;34m(\u001b[0m\u001b[0mself\u001b[0m\u001b[0;34m)\u001b[0m\u001b[0;34m:\u001b[0m\u001b[0;34m\u001b[0m\u001b[0;34m\u001b[0m\u001b[0m\n\u001b[0;32m--> 102\u001b[0;31m         \u001b[0mself\u001b[0m\u001b[0;34m.\u001b[0m\u001b[0moutp\u001b[0m \u001b[0;34m=\u001b[0m \u001b[0mself\u001b[0m\u001b[0;34m.\u001b[0m\u001b[0mnet\u001b[0m\u001b[0;34m(\u001b[0m\u001b[0mself\u001b[0m\u001b[0;34m.\u001b[0m\u001b[0mtext\u001b[0m\u001b[0;34m,\u001b[0m \u001b[0mself\u001b[0m\u001b[0;34m.\u001b[0m\u001b[0mz_prev\u001b[0m\u001b[0;34m)\u001b[0m\u001b[0;34m\u001b[0m\u001b[0;34m\u001b[0m\u001b[0m\n\u001b[0m\u001b[1;32m    103\u001b[0m \u001b[0;34m\u001b[0m\u001b[0m\n\u001b[1;32m    104\u001b[0m     \u001b[0;32mdef\u001b[0m \u001b[0mbackward\u001b[0m\u001b[0;34m(\u001b[0m\u001b[0mself\u001b[0m\u001b[0;34m)\u001b[0m\u001b[0;34m:\u001b[0m\u001b[0;34m\u001b[0m\u001b[0;34m\u001b[0m\u001b[0m\n",
      "\u001b[0;32m~/.cache/pypoetry/virtualenvs/adl4cv-I-Koul65-py3.8/lib/python3.8/site-packages/torch/nn/modules/module.py\u001b[0m in \u001b[0;36m_call_impl\u001b[0;34m(self, *input, **kwargs)\u001b[0m\n\u001b[1;32m   1108\u001b[0m         if not (self._backward_hooks or self._forward_hooks or self._forward_pre_hooks or _global_backward_hooks\n\u001b[1;32m   1109\u001b[0m                 or _global_forward_hooks or _global_forward_pre_hooks):\n\u001b[0;32m-> 1110\u001b[0;31m             \u001b[0;32mreturn\u001b[0m \u001b[0mforward_call\u001b[0m\u001b[0;34m(\u001b[0m\u001b[0;34m*\u001b[0m\u001b[0minput\u001b[0m\u001b[0;34m,\u001b[0m \u001b[0;34m**\u001b[0m\u001b[0mkwargs\u001b[0m\u001b[0;34m)\u001b[0m\u001b[0;34m\u001b[0m\u001b[0;34m\u001b[0m\u001b[0m\n\u001b[0m\u001b[1;32m   1111\u001b[0m         \u001b[0;31m# Do not call functions when jit is used\u001b[0m\u001b[0;34m\u001b[0m\u001b[0;34m\u001b[0m\u001b[0;34m\u001b[0m\u001b[0m\n\u001b[1;32m   1112\u001b[0m         \u001b[0mfull_backward_hooks\u001b[0m\u001b[0;34m,\u001b[0m \u001b[0mnon_full_backward_hooks\u001b[0m \u001b[0;34m=\u001b[0m \u001b[0;34m[\u001b[0m\u001b[0;34m]\u001b[0m\u001b[0;34m,\u001b[0m \u001b[0;34m[\u001b[0m\u001b[0;34m]\u001b[0m\u001b[0;34m\u001b[0m\u001b[0;34m\u001b[0m\u001b[0m\n",
      "\u001b[0;32m/cluster/54/streakfull/ADL4CV/Project/src/plz-autosdf/models/networks/bert2vq_sc_v4.py\u001b[0m in \u001b[0;36mforward\u001b[0;34m(self, x, z1)\u001b[0m\n\u001b[1;32m     80\u001b[0m         \u001b[0mx\u001b[0m \u001b[0;34m=\u001b[0m \u001b[0mself\u001b[0m\u001b[0;34m.\u001b[0m\u001b[0mlinear_in\u001b[0m\u001b[0;34m(\u001b[0m\u001b[0mx\u001b[0m\u001b[0;34m)\u001b[0m\u001b[0;34m\u001b[0m\u001b[0;34m\u001b[0m\u001b[0m\n\u001b[1;32m     81\u001b[0m         \u001b[0;32mfor\u001b[0m \u001b[0ml\u001b[0m \u001b[0;32min\u001b[0m \u001b[0mself\u001b[0m\u001b[0;34m.\u001b[0m\u001b[0mmlp\u001b[0m\u001b[0;34m:\u001b[0m\u001b[0;34m\u001b[0m\u001b[0;34m\u001b[0m\u001b[0m\n\u001b[0;32m---> 82\u001b[0;31m             \u001b[0mx\u001b[0m \u001b[0;34m=\u001b[0m \u001b[0ml\u001b[0m\u001b[0;34m(\u001b[0m\u001b[0mx\u001b[0m\u001b[0;34m)\u001b[0m\u001b[0;34m\u001b[0m\u001b[0;34m\u001b[0m\u001b[0m\n\u001b[0m\u001b[1;32m     83\u001b[0m \u001b[0;34m\u001b[0m\u001b[0m\n\u001b[1;32m     84\u001b[0m         \u001b[0mx\u001b[0m \u001b[0;34m=\u001b[0m \u001b[0mself\u001b[0m\u001b[0;34m.\u001b[0m\u001b[0mlinear_to3d\u001b[0m\u001b[0;34m(\u001b[0m\u001b[0mx\u001b[0m\u001b[0;34m)\u001b[0m\u001b[0;34m.\u001b[0m\u001b[0munsqueeze\u001b[0m\u001b[0;34m(\u001b[0m\u001b[0;36m1\u001b[0m\u001b[0;34m)\u001b[0m\u001b[0;34m\u001b[0m\u001b[0;34m\u001b[0m\u001b[0m\n",
      "\u001b[0;32m~/.cache/pypoetry/virtualenvs/adl4cv-I-Koul65-py3.8/lib/python3.8/site-packages/torch/nn/modules/module.py\u001b[0m in \u001b[0;36m_call_impl\u001b[0;34m(self, *input, **kwargs)\u001b[0m\n\u001b[1;32m   1108\u001b[0m         if not (self._backward_hooks or self._forward_hooks or self._forward_pre_hooks or _global_backward_hooks\n\u001b[1;32m   1109\u001b[0m                 or _global_forward_hooks or _global_forward_pre_hooks):\n\u001b[0;32m-> 1110\u001b[0;31m             \u001b[0;32mreturn\u001b[0m \u001b[0mforward_call\u001b[0m\u001b[0;34m(\u001b[0m\u001b[0;34m*\u001b[0m\u001b[0minput\u001b[0m\u001b[0;34m,\u001b[0m \u001b[0;34m**\u001b[0m\u001b[0mkwargs\u001b[0m\u001b[0;34m)\u001b[0m\u001b[0;34m\u001b[0m\u001b[0;34m\u001b[0m\u001b[0m\n\u001b[0m\u001b[1;32m   1111\u001b[0m         \u001b[0;31m# Do not call functions when jit is used\u001b[0m\u001b[0;34m\u001b[0m\u001b[0;34m\u001b[0m\u001b[0;34m\u001b[0m\u001b[0m\n\u001b[1;32m   1112\u001b[0m         \u001b[0mfull_backward_hooks\u001b[0m\u001b[0;34m,\u001b[0m \u001b[0mnon_full_backward_hooks\u001b[0m \u001b[0;34m=\u001b[0m \u001b[0;34m[\u001b[0m\u001b[0;34m]\u001b[0m\u001b[0;34m,\u001b[0m \u001b[0;34m[\u001b[0m\u001b[0;34m]\u001b[0m\u001b[0;34m\u001b[0m\u001b[0;34m\u001b[0m\u001b[0m\n",
      "\u001b[0;32m~/.cache/pypoetry/virtualenvs/adl4cv-I-Koul65-py3.8/lib/python3.8/site-packages/torch/nn/modules/container.py\u001b[0m in \u001b[0;36mforward\u001b[0;34m(self, input)\u001b[0m\n\u001b[1;32m    139\u001b[0m     \u001b[0;32mdef\u001b[0m \u001b[0mforward\u001b[0m\u001b[0;34m(\u001b[0m\u001b[0mself\u001b[0m\u001b[0;34m,\u001b[0m \u001b[0minput\u001b[0m\u001b[0;34m)\u001b[0m\u001b[0;34m:\u001b[0m\u001b[0;34m\u001b[0m\u001b[0;34m\u001b[0m\u001b[0m\n\u001b[1;32m    140\u001b[0m         \u001b[0;32mfor\u001b[0m \u001b[0mmodule\u001b[0m \u001b[0;32min\u001b[0m \u001b[0mself\u001b[0m\u001b[0;34m:\u001b[0m\u001b[0;34m\u001b[0m\u001b[0;34m\u001b[0m\u001b[0m\n\u001b[0;32m--> 141\u001b[0;31m             \u001b[0minput\u001b[0m \u001b[0;34m=\u001b[0m \u001b[0mmodule\u001b[0m\u001b[0;34m(\u001b[0m\u001b[0minput\u001b[0m\u001b[0;34m)\u001b[0m\u001b[0;34m\u001b[0m\u001b[0;34m\u001b[0m\u001b[0m\n\u001b[0m\u001b[1;32m    142\u001b[0m         \u001b[0;32mreturn\u001b[0m \u001b[0minput\u001b[0m\u001b[0;34m\u001b[0m\u001b[0;34m\u001b[0m\u001b[0m\n\u001b[1;32m    143\u001b[0m \u001b[0;34m\u001b[0m\u001b[0m\n",
      "\u001b[0;32m~/.cache/pypoetry/virtualenvs/adl4cv-I-Koul65-py3.8/lib/python3.8/site-packages/torch/nn/modules/module.py\u001b[0m in \u001b[0;36m_call_impl\u001b[0;34m(self, *input, **kwargs)\u001b[0m\n\u001b[1;32m   1108\u001b[0m         if not (self._backward_hooks or self._forward_hooks or self._forward_pre_hooks or _global_backward_hooks\n\u001b[1;32m   1109\u001b[0m                 or _global_forward_hooks or _global_forward_pre_hooks):\n\u001b[0;32m-> 1110\u001b[0;31m             \u001b[0;32mreturn\u001b[0m \u001b[0mforward_call\u001b[0m\u001b[0;34m(\u001b[0m\u001b[0;34m*\u001b[0m\u001b[0minput\u001b[0m\u001b[0;34m,\u001b[0m \u001b[0;34m**\u001b[0m\u001b[0mkwargs\u001b[0m\u001b[0;34m)\u001b[0m\u001b[0;34m\u001b[0m\u001b[0;34m\u001b[0m\u001b[0m\n\u001b[0m\u001b[1;32m   1111\u001b[0m         \u001b[0;31m# Do not call functions when jit is used\u001b[0m\u001b[0;34m\u001b[0m\u001b[0;34m\u001b[0m\u001b[0;34m\u001b[0m\u001b[0m\n\u001b[1;32m   1112\u001b[0m         \u001b[0mfull_backward_hooks\u001b[0m\u001b[0;34m,\u001b[0m \u001b[0mnon_full_backward_hooks\u001b[0m \u001b[0;34m=\u001b[0m \u001b[0;34m[\u001b[0m\u001b[0;34m]\u001b[0m\u001b[0;34m,\u001b[0m \u001b[0;34m[\u001b[0m\u001b[0;34m]\u001b[0m\u001b[0;34m\u001b[0m\u001b[0;34m\u001b[0m\u001b[0m\n",
      "\u001b[0;32m~/.cache/pypoetry/virtualenvs/adl4cv-I-Koul65-py3.8/lib/python3.8/site-packages/torch/nn/modules/batchnorm.py\u001b[0m in \u001b[0;36mforward\u001b[0;34m(self, input)\u001b[0m\n\u001b[1;32m    166\u001b[0m         \u001b[0mused\u001b[0m \u001b[0;32mfor\u001b[0m \u001b[0mnormalization\u001b[0m \u001b[0;34m(\u001b[0m\u001b[0mi\u001b[0m\u001b[0;34m.\u001b[0m\u001b[0me\u001b[0m\u001b[0;34m.\u001b[0m \u001b[0;32min\u001b[0m \u001b[0meval\u001b[0m \u001b[0mmode\u001b[0m \u001b[0mwhen\u001b[0m \u001b[0mbuffers\u001b[0m \u001b[0mare\u001b[0m \u001b[0;32mnot\u001b[0m \u001b[0;32mNone\u001b[0m\u001b[0;34m)\u001b[0m\u001b[0;34m.\u001b[0m\u001b[0;34m\u001b[0m\u001b[0;34m\u001b[0m\u001b[0m\n\u001b[1;32m    167\u001b[0m         \"\"\"\n\u001b[0;32m--> 168\u001b[0;31m         return F.batch_norm(\n\u001b[0m\u001b[1;32m    169\u001b[0m             \u001b[0minput\u001b[0m\u001b[0;34m,\u001b[0m\u001b[0;34m\u001b[0m\u001b[0;34m\u001b[0m\u001b[0m\n\u001b[1;32m    170\u001b[0m             \u001b[0;31m# If buffers are not to be tracked, ensure that they won't be updated\u001b[0m\u001b[0;34m\u001b[0m\u001b[0;34m\u001b[0m\u001b[0;34m\u001b[0m\u001b[0m\n",
      "\u001b[0;32m~/.cache/pypoetry/virtualenvs/adl4cv-I-Koul65-py3.8/lib/python3.8/site-packages/torch/nn/functional.py\u001b[0m in \u001b[0;36mbatch_norm\u001b[0;34m(input, running_mean, running_var, weight, bias, training, momentum, eps)\u001b[0m\n\u001b[1;32m   2417\u001b[0m         )\n\u001b[1;32m   2418\u001b[0m     \u001b[0;32mif\u001b[0m \u001b[0mtraining\u001b[0m\u001b[0;34m:\u001b[0m\u001b[0;34m\u001b[0m\u001b[0;34m\u001b[0m\u001b[0m\n\u001b[0;32m-> 2419\u001b[0;31m         \u001b[0m_verify_batch_size\u001b[0m\u001b[0;34m(\u001b[0m\u001b[0minput\u001b[0m\u001b[0;34m.\u001b[0m\u001b[0msize\u001b[0m\u001b[0;34m(\u001b[0m\u001b[0;34m)\u001b[0m\u001b[0;34m)\u001b[0m\u001b[0;34m\u001b[0m\u001b[0;34m\u001b[0m\u001b[0m\n\u001b[0m\u001b[1;32m   2420\u001b[0m \u001b[0;34m\u001b[0m\u001b[0m\n\u001b[1;32m   2421\u001b[0m     return torch.batch_norm(\n",
      "\u001b[0;32m~/.cache/pypoetry/virtualenvs/adl4cv-I-Koul65-py3.8/lib/python3.8/site-packages/torch/nn/functional.py\u001b[0m in \u001b[0;36m_verify_batch_size\u001b[0;34m(size)\u001b[0m\n\u001b[1;32m   2385\u001b[0m         \u001b[0msize_prods\u001b[0m \u001b[0;34m*=\u001b[0m \u001b[0msize\u001b[0m\u001b[0;34m[\u001b[0m\u001b[0mi\u001b[0m \u001b[0;34m+\u001b[0m \u001b[0;36m2\u001b[0m\u001b[0;34m]\u001b[0m\u001b[0;34m\u001b[0m\u001b[0;34m\u001b[0m\u001b[0m\n\u001b[1;32m   2386\u001b[0m     \u001b[0;32mif\u001b[0m \u001b[0msize_prods\u001b[0m \u001b[0;34m==\u001b[0m \u001b[0;36m1\u001b[0m\u001b[0;34m:\u001b[0m\u001b[0;34m\u001b[0m\u001b[0;34m\u001b[0m\u001b[0m\n\u001b[0;32m-> 2387\u001b[0;31m         \u001b[0;32mraise\u001b[0m \u001b[0mValueError\u001b[0m\u001b[0;34m(\u001b[0m\u001b[0;34m\"Expected more than 1 value per channel when training, got input size {}\"\u001b[0m\u001b[0;34m.\u001b[0m\u001b[0mformat\u001b[0m\u001b[0;34m(\u001b[0m\u001b[0msize\u001b[0m\u001b[0;34m)\u001b[0m\u001b[0;34m)\u001b[0m\u001b[0;34m\u001b[0m\u001b[0;34m\u001b[0m\u001b[0m\n\u001b[0m\u001b[1;32m   2388\u001b[0m \u001b[0;34m\u001b[0m\u001b[0m\n\u001b[1;32m   2389\u001b[0m \u001b[0;34m\u001b[0m\u001b[0m\n",
      "\u001b[0;31mValueError\u001b[0m: Expected more than 1 value per channel when training, got input size torch.Size([1, 1024])"
     ]
    }
   ],
   "source": [
    "#m.net.eval()\n",
    "m.set_input(data)\n",
    "m.forward()\n",
    "m.outp.shape"
   ]
  },
  {
   "cell_type": "raw",
   "id": "092b1a2b",
   "metadata": {},
   "source": []
  },
  {
   "cell_type": "code",
   "execution_count": null,
   "id": "e8fb257a",
   "metadata": {},
   "outputs": [],
   "source": [
    "m.backward()"
   ]
  },
  {
   "cell_type": "code",
   "execution_count": null,
   "id": "cebaf816",
   "metadata": {},
   "outputs": [],
   "source": [
    "x = dataset[0][\"z_set_prev\"].shape\n",
    "y = dataset[3][\"z_set_prev\"].shape\n",
    "x"
   ]
  },
  {
   "cell_type": "code",
   "execution_count": null,
   "id": "c7f096d5",
   "metadata": {},
   "outputs": [],
   "source": [
    "x[x!=0].shape"
   ]
  },
  {
   "cell_type": "code",
   "execution_count": 9,
   "id": "8f1ecb1d",
   "metadata": {},
   "outputs": [],
   "source": [
    "from torch.utils.data import DataLoader\n",
    "train_dl =  DataLoader(\n",
    "            dataset,\n",
    "            batch_size=opt.batch_size,\n",
    "            shuffle=False,\n",
    "            drop_last=True,\n",
    "            num_workers=0)"
   ]
  },
  {
   "cell_type": "code",
   "execution_count": 10,
   "id": "ce6394db",
   "metadata": {},
   "outputs": [],
   "source": [
    "options=opt\n",
    "model = m\n",
    "\n",
    "def train_one_epoch3(pt_profiler=None,epoch=0):\n",
    "    global total_steps\n",
    "    global train_loss\n",
    "    global valid_loss\n",
    "\n",
    "    epoch_iter = 0\n",
    "    for i, data in enumerate(train_dl):\n",
    "        iter_start_time = time.time()\n",
    "        #visualizer.reset()\n",
    "        #import pdb;pdb.set_trace()\n",
    "        total_steps += options.batch_size\n",
    "        epoch_iter += options.batch_size\n",
    "        model.set_input(data)\n",
    "\n",
    "        model.optimize_parameters(total_steps)\n",
    "\n",
    "        nBatches_has_trained = total_steps // options.batch_size\n",
    "        # if total_steps % options.print_freq == 0:\n",
    "\n",
    "        if nBatches_has_trained % options.print_freq == 0:\n",
    "            errors = model.get_current_errors()\n",
    "            #import pdb;pdb.set_trace()\n",
    "            #print(model.loss,\"LOSS\")\n",
    "            t = (time.time() - iter_start_time) / options.batch_size\n",
    "#             visualizer.print_current_errors(\n",
    "#                 epoch, epoch_iter, total_steps, errors, t)\n",
    "\n",
    "        # if (nBatches_has_trained % options.display_freq == 0) or i == 0:\n",
    "        #     # eval\n",
    "        #     model.inference(data)\n",
    "        #     visualizer.display_current_results(\n",
    "        #        model.get_current_visuals(), total_steps, phase='train')\n",
    "\n",
    "        #     #model.set_input(next(test_dg))\n",
    "        #     test_data = next(test_dg)\n",
    "        #     model.inference(test_data.unsqueeze(0))\n",
    "        #     visualizer.display_current_results(\n",
    "        #        model.get_current_visuals(), total_steps, phase='test')\n",
    "\n",
    "#         if total_steps % options.save_latest_freq == 0:\n",
    "#             cprint('saving the latestmodel (epoch %d, total_steps %d)' %\n",
    "#                    (epoch, total_steps), 'blue')\n",
    "#             latest_name = f'epoch-latest'\n",
    "#             model.save(latest_name)\n",
    "\n",
    "        if pt_profiler is not None:\n",
    "            pt_profiler.step()"
   ]
  },
  {
   "cell_type": "code",
   "execution_count": 11,
   "id": "0e8eb468",
   "metadata": {},
   "outputs": [
    {
     "name": "stdout",
     "output_type": "stream",
     "text": [
      "[*] Start training. name: new_bert_overfit\n"
     ]
    },
    {
     "data": {
      "application/vnd.jupyter.widget-view+json": {
       "model_id": "de47aec42df242079640ae50b35041f3",
       "version_major": 2,
       "version_minor": 0
      },
      "text/plain": [
       "  0%|          | 0/160 [00:00<?, ?it/s]"
      ]
     },
     "metadata": {},
     "output_type": "display_data"
    },
    {
     "name": "stdout",
     "output_type": "stream",
     "text": [
      "[*] End of epoch 0 / 160 \t Time Taken: 0 sec \n",
      "/cluster/54/streakfull/ADL4CV/Project/src/plz-autosdf/logs/new_bert_overfit\n",
      "Model Loss: 5.289675712585449\n",
      "[*] learning rate = 0.0000100\n",
      "[*] End of epoch 1 / 160 \t Time Taken: 0 sec \n",
      "/cluster/54/streakfull/ADL4CV/Project/src/plz-autosdf/logs/new_bert_overfit\n",
      "Model Loss: 4.275742530822754\n",
      "[*] learning rate = 0.0000200\n",
      "[*] End of epoch 2 / 160 \t Time Taken: 0 sec \n",
      "/cluster/54/streakfull/ADL4CV/Project/src/plz-autosdf/logs/new_bert_overfit\n",
      "Model Loss: 3.3568520545959473\n",
      "[*] learning rate = 0.0000300\n",
      "[*] End of epoch 3 / 160 \t Time Taken: 0 sec \n",
      "/cluster/54/streakfull/ADL4CV/Project/src/plz-autosdf/logs/new_bert_overfit\n",
      "Model Loss: 2.656878709793091\n",
      "[*] learning rate = 0.0000400\n",
      "[*] End of epoch 4 / 160 \t Time Taken: 0 sec \n",
      "/cluster/54/streakfull/ADL4CV/Project/src/plz-autosdf/logs/new_bert_overfit\n",
      "Model Loss: 2.141702651977539\n",
      "[*] learning rate = 0.0000500\n",
      "[*] End of epoch 5 / 160 \t Time Taken: 0 sec \n",
      "/cluster/54/streakfull/ADL4CV/Project/src/plz-autosdf/logs/new_bert_overfit\n",
      "Model Loss: 1.70419180393219\n",
      "[*] learning rate = 0.0000600\n",
      "[*] End of epoch 6 / 160 \t Time Taken: 0 sec \n",
      "/cluster/54/streakfull/ADL4CV/Project/src/plz-autosdf/logs/new_bert_overfit\n",
      "Model Loss: 1.509346842765808\n",
      "[*] learning rate = 0.0000700\n",
      "[*] End of epoch 7 / 160 \t Time Taken: 0 sec \n",
      "/cluster/54/streakfull/ADL4CV/Project/src/plz-autosdf/logs/new_bert_overfit\n",
      "Model Loss: 1.4478026628494263\n",
      "[*] learning rate = 0.0000800\n",
      "[*] End of epoch 8 / 160 \t Time Taken: 0 sec \n",
      "/cluster/54/streakfull/ADL4CV/Project/src/plz-autosdf/logs/new_bert_overfit\n",
      "Model Loss: 1.3980928659439087\n",
      "[*] learning rate = 0.0000900\n",
      "[*] End of epoch 9 / 160 \t Time Taken: 0 sec \n",
      "/cluster/54/streakfull/ADL4CV/Project/src/plz-autosdf/logs/new_bert_overfit\n",
      "Model Loss: 1.3556227684020996\n",
      "[*] learning rate = 0.0001000\n",
      "[*] End of epoch 10 / 160 \t Time Taken: 0 sec \n",
      "/cluster/54/streakfull/ADL4CV/Project/src/plz-autosdf/logs/new_bert_overfit\n",
      "Model Loss: 1.2815812826156616\n",
      "[*] learning rate = 0.0000953\n",
      "[*] End of epoch 11 / 160 \t Time Taken: 0 sec \n",
      "/cluster/54/streakfull/ADL4CV/Project/src/plz-autosdf/logs/new_bert_overfit\n",
      "Model Loss: 1.2333487272262573\n",
      "[*] learning rate = 0.0000913\n",
      "[*] End of epoch 12 / 160 \t Time Taken: 0 sec \n",
      "/cluster/54/streakfull/ADL4CV/Project/src/plz-autosdf/logs/new_bert_overfit\n",
      "Model Loss: 1.1456944942474365\n",
      "[*] learning rate = 0.0000877\n",
      "[*] End of epoch 13 / 160 \t Time Taken: 0 sec \n",
      "/cluster/54/streakfull/ADL4CV/Project/src/plz-autosdf/logs/new_bert_overfit\n",
      "Model Loss: 1.0777760744094849\n",
      "[*] learning rate = 0.0000845\n",
      "[*] End of epoch 14 / 160 \t Time Taken: 0 sec \n",
      "/cluster/54/streakfull/ADL4CV/Project/src/plz-autosdf/logs/new_bert_overfit\n",
      "Model Loss: 1.0079387426376343\n",
      "[*] learning rate = 0.0000816\n",
      "[*] End of epoch 15 / 160 \t Time Taken: 0 sec \n",
      "/cluster/54/streakfull/ADL4CV/Project/src/plz-autosdf/logs/new_bert_overfit\n",
      "Model Loss: 0.9633268713951111\n",
      "[*] learning rate = 0.0000791\n",
      "[*] End of epoch 16 / 160 \t Time Taken: 0 sec \n",
      "/cluster/54/streakfull/ADL4CV/Project/src/plz-autosdf/logs/new_bert_overfit\n",
      "Model Loss: 0.9494143128395081\n",
      "[*] learning rate = 0.0000767\n",
      "[*] End of epoch 17 / 160 \t Time Taken: 0 sec \n",
      "/cluster/54/streakfull/ADL4CV/Project/src/plz-autosdf/logs/new_bert_overfit\n",
      "Model Loss: 0.9208613038063049\n",
      "[*] learning rate = 0.0000745\n",
      "[*] End of epoch 18 / 160 \t Time Taken: 0 sec \n",
      "/cluster/54/streakfull/ADL4CV/Project/src/plz-autosdf/logs/new_bert_overfit\n",
      "Model Loss: 0.8758131265640259\n",
      "[*] learning rate = 0.0000725\n",
      "[*] End of epoch 19 / 160 \t Time Taken: 0 sec \n",
      "/cluster/54/streakfull/ADL4CV/Project/src/plz-autosdf/logs/new_bert_overfit\n",
      "Model Loss: 0.8794227838516235\n",
      "[*] learning rate = 0.0000707\n",
      "[*] End of epoch 20 / 160 \t Time Taken: 0 sec \n",
      "/cluster/54/streakfull/ADL4CV/Project/src/plz-autosdf/logs/new_bert_overfit\n",
      "Model Loss: 0.8274202942848206\n",
      "[*] learning rate = 0.0000690\n",
      "[*] End of epoch 21 / 160 \t Time Taken: 0 sec \n",
      "/cluster/54/streakfull/ADL4CV/Project/src/plz-autosdf/logs/new_bert_overfit\n",
      "Model Loss: 0.8023712635040283\n",
      "[*] learning rate = 0.0000674\n",
      "[*] End of epoch 22 / 160 \t Time Taken: 0 sec \n",
      "/cluster/54/streakfull/ADL4CV/Project/src/plz-autosdf/logs/new_bert_overfit\n",
      "Model Loss: 0.780656099319458\n",
      "[*] learning rate = 0.0000659\n",
      "[*] End of epoch 23 / 160 \t Time Taken: 0 sec \n",
      "/cluster/54/streakfull/ADL4CV/Project/src/plz-autosdf/logs/new_bert_overfit\n",
      "Model Loss: 0.7453696131706238\n",
      "[*] learning rate = 0.0000645\n",
      "[*] End of epoch 24 / 160 \t Time Taken: 0 sec \n",
      "/cluster/54/streakfull/ADL4CV/Project/src/plz-autosdf/logs/new_bert_overfit\n",
      "Model Loss: 0.7090047597885132\n",
      "[*] learning rate = 0.0000632\n",
      "[*] End of epoch 25 / 160 \t Time Taken: 0 sec \n",
      "/cluster/54/streakfull/ADL4CV/Project/src/plz-autosdf/logs/new_bert_overfit\n",
      "Model Loss: 0.6794468760490417\n",
      "[*] learning rate = 0.0000620\n",
      "[*] End of epoch 26 / 160 \t Time Taken: 0 sec \n",
      "/cluster/54/streakfull/ADL4CV/Project/src/plz-autosdf/logs/new_bert_overfit\n",
      "Model Loss: 0.6426197290420532\n",
      "[*] learning rate = 0.0000609\n",
      "[*] End of epoch 27 / 160 \t Time Taken: 0 sec \n",
      "/cluster/54/streakfull/ADL4CV/Project/src/plz-autosdf/logs/new_bert_overfit\n",
      "Model Loss: 0.6133878827095032\n",
      "[*] learning rate = 0.0000598\n",
      "[*] End of epoch 28 / 160 \t Time Taken: 0 sec \n",
      "/cluster/54/streakfull/ADL4CV/Project/src/plz-autosdf/logs/new_bert_overfit\n",
      "Model Loss: 0.5907710194587708\n",
      "[*] learning rate = 0.0000587\n",
      "[*] End of epoch 29 / 160 \t Time Taken: 0 sec \n",
      "/cluster/54/streakfull/ADL4CV/Project/src/plz-autosdf/logs/new_bert_overfit\n",
      "Model Loss: 0.5602579116821289\n",
      "[*] learning rate = 0.0000577\n",
      "[*] End of epoch 30 / 160 \t Time Taken: 0 sec \n",
      "/cluster/54/streakfull/ADL4CV/Project/src/plz-autosdf/logs/new_bert_overfit\n",
      "Model Loss: 0.5384331941604614\n",
      "[*] learning rate = 0.0000568\n",
      "[*] End of epoch 31 / 160 \t Time Taken: 0 sec \n",
      "/cluster/54/streakfull/ADL4CV/Project/src/plz-autosdf/logs/new_bert_overfit\n",
      "Model Loss: 0.511581301689148\n",
      "[*] learning rate = 0.0000559\n",
      "[*] End of epoch 32 / 160 \t Time Taken: 0 sec \n",
      "/cluster/54/streakfull/ADL4CV/Project/src/plz-autosdf/logs/new_bert_overfit\n",
      "Model Loss: 0.4897964596748352\n",
      "[*] learning rate = 0.0000550\n",
      "[*] End of epoch 33 / 160 \t Time Taken: 0 sec \n",
      "/cluster/54/streakfull/ADL4CV/Project/src/plz-autosdf/logs/new_bert_overfit\n",
      "Model Loss: 0.4665967524051666\n",
      "[*] learning rate = 0.0000542\n",
      "[*] End of epoch 34 / 160 \t Time Taken: 0 sec \n",
      "/cluster/54/streakfull/ADL4CV/Project/src/plz-autosdf/logs/new_bert_overfit\n",
      "Model Loss: 0.44706931710243225\n",
      "[*] learning rate = 0.0000535\n",
      "[*] End of epoch 35 / 160 \t Time Taken: 0 sec \n",
      "/cluster/54/streakfull/ADL4CV/Project/src/plz-autosdf/logs/new_bert_overfit\n",
      "Model Loss: 0.43105974793434143\n",
      "[*] learning rate = 0.0000527\n",
      "[*] End of epoch 36 / 160 \t Time Taken: 0 sec \n",
      "/cluster/54/streakfull/ADL4CV/Project/src/plz-autosdf/logs/new_bert_overfit\n",
      "Model Loss: 0.4108400344848633\n",
      "[*] learning rate = 0.0000520\n",
      "[*] End of epoch 37 / 160 \t Time Taken: 0 sec \n",
      "/cluster/54/streakfull/ADL4CV/Project/src/plz-autosdf/logs/new_bert_overfit\n",
      "Model Loss: 0.3958585262298584\n",
      "[*] learning rate = 0.0000513\n",
      "[*] End of epoch 38 / 160 \t Time Taken: 0 sec \n",
      "/cluster/54/streakfull/ADL4CV/Project/src/plz-autosdf/logs/new_bert_overfit\n",
      "Model Loss: 0.3842701315879822\n",
      "[*] learning rate = 0.0000506\n",
      "[*] End of epoch 39 / 160 \t Time Taken: 0 sec \n",
      "/cluster/54/streakfull/ADL4CV/Project/src/plz-autosdf/logs/new_bert_overfit\n",
      "Model Loss: 0.3675011992454529\n",
      "[*] learning rate = 0.0000500\n",
      "[*] End of epoch 40 / 160 \t Time Taken: 0 sec \n",
      "/cluster/54/streakfull/ADL4CV/Project/src/plz-autosdf/logs/new_bert_overfit\n",
      "Model Loss: 0.3541910946369171\n",
      "[*] learning rate = 0.0000494\n",
      "[*] End of epoch 41 / 160 \t Time Taken: 0 sec \n",
      "/cluster/54/streakfull/ADL4CV/Project/src/plz-autosdf/logs/new_bert_overfit\n",
      "Model Loss: 0.3400536775588989\n",
      "[*] learning rate = 0.0000488\n",
      "[*] End of epoch 42 / 160 \t Time Taken: 0 sec \n",
      "/cluster/54/streakfull/ADL4CV/Project/src/plz-autosdf/logs/new_bert_overfit\n",
      "Model Loss: 0.32999280095100403\n",
      "[*] learning rate = 0.0000482\n",
      "[*] End of epoch 43 / 160 \t Time Taken: 0 sec \n",
      "/cluster/54/streakfull/ADL4CV/Project/src/plz-autosdf/logs/new_bert_overfit\n",
      "Model Loss: 0.3178817927837372\n",
      "[*] learning rate = 0.0000477\n",
      "[*] End of epoch 44 / 160 \t Time Taken: 0 sec \n",
      "/cluster/54/streakfull/ADL4CV/Project/src/plz-autosdf/logs/new_bert_overfit\n",
      "Model Loss: 0.30714863538742065\n",
      "[*] learning rate = 0.0000471\n"
     ]
    },
    {
     "name": "stdout",
     "output_type": "stream",
     "text": [
      "[*] End of epoch 45 / 160 \t Time Taken: 0 sec \n",
      "/cluster/54/streakfull/ADL4CV/Project/src/plz-autosdf/logs/new_bert_overfit\n",
      "Model Loss: 0.3037576377391815\n",
      "[*] learning rate = 0.0000466\n",
      "[*] End of epoch 46 / 160 \t Time Taken: 0 sec \n",
      "/cluster/54/streakfull/ADL4CV/Project/src/plz-autosdf/logs/new_bert_overfit\n",
      "Model Loss: 0.3009386360645294\n",
      "[*] learning rate = 0.0000461\n",
      "[*] End of epoch 47 / 160 \t Time Taken: 0 sec \n",
      "/cluster/54/streakfull/ADL4CV/Project/src/plz-autosdf/logs/new_bert_overfit\n",
      "Model Loss: 0.2810845971107483\n",
      "[*] learning rate = 0.0000456\n",
      "[*] End of epoch 48 / 160 \t Time Taken: 0 sec \n",
      "/cluster/54/streakfull/ADL4CV/Project/src/plz-autosdf/logs/new_bert_overfit\n",
      "Model Loss: 0.2810560166835785\n",
      "[*] learning rate = 0.0000452\n",
      "[*] End of epoch 49 / 160 \t Time Taken: 0 sec \n",
      "/cluster/54/streakfull/ADL4CV/Project/src/plz-autosdf/logs/new_bert_overfit\n",
      "Model Loss: 0.2712582051753998\n",
      "[*] learning rate = 0.0000447\n",
      "[*] End of epoch 50 / 160 \t Time Taken: 0 sec \n",
      "/cluster/54/streakfull/ADL4CV/Project/src/plz-autosdf/logs/new_bert_overfit\n",
      "Model Loss: 0.2517901659011841\n",
      "[*] learning rate = 0.0000443\n",
      "[*] End of epoch 51 / 160 \t Time Taken: 0 sec \n",
      "/cluster/54/streakfull/ADL4CV/Project/src/plz-autosdf/logs/new_bert_overfit\n",
      "Model Loss: 0.24916788935661316\n",
      "[*] learning rate = 0.0000439\n",
      "[*] End of epoch 52 / 160 \t Time Taken: 0 sec \n",
      "/cluster/54/streakfull/ADL4CV/Project/src/plz-autosdf/logs/new_bert_overfit\n",
      "Model Loss: 0.2398560792207718\n",
      "[*] learning rate = 0.0000434\n",
      "[*] End of epoch 53 / 160 \t Time Taken: 0 sec \n",
      "/cluster/54/streakfull/ADL4CV/Project/src/plz-autosdf/logs/new_bert_overfit\n",
      "Model Loss: 0.227556973695755\n",
      "[*] learning rate = 0.0000430\n",
      "[*] End of epoch 54 / 160 \t Time Taken: 0 sec \n",
      "/cluster/54/streakfull/ADL4CV/Project/src/plz-autosdf/logs/new_bert_overfit\n",
      "Model Loss: 0.22188283503055573\n",
      "[*] learning rate = 0.0000426\n",
      "[*] End of epoch 55 / 160 \t Time Taken: 0 sec \n",
      "/cluster/54/streakfull/ADL4CV/Project/src/plz-autosdf/logs/new_bert_overfit\n",
      "Model Loss: 0.2146168351173401\n",
      "[*] learning rate = 0.0000423\n",
      "[*] End of epoch 56 / 160 \t Time Taken: 0 sec \n",
      "/cluster/54/streakfull/ADL4CV/Project/src/plz-autosdf/logs/new_bert_overfit\n",
      "Model Loss: 0.19980388879776\n",
      "[*] learning rate = 0.0000419\n",
      "[*] End of epoch 57 / 160 \t Time Taken: 0 sec \n",
      "/cluster/54/streakfull/ADL4CV/Project/src/plz-autosdf/logs/new_bert_overfit\n",
      "Model Loss: 0.19784365594387054\n",
      "[*] learning rate = 0.0000415\n",
      "[*] End of epoch 58 / 160 \t Time Taken: 0 sec \n",
      "/cluster/54/streakfull/ADL4CV/Project/src/plz-autosdf/logs/new_bert_overfit\n",
      "Model Loss: 0.18796595931053162\n",
      "[*] learning rate = 0.0000412\n",
      "[*] End of epoch 59 / 160 \t Time Taken: 0 sec \n",
      "/cluster/54/streakfull/ADL4CV/Project/src/plz-autosdf/logs/new_bert_overfit\n",
      "Model Loss: 0.18012113869190216\n",
      "[*] learning rate = 0.0000408\n",
      "[*] End of epoch 60 / 160 \t Time Taken: 0 sec \n",
      "/cluster/54/streakfull/ADL4CV/Project/src/plz-autosdf/logs/new_bert_overfit\n",
      "Model Loss: 0.1677655130624771\n",
      "[*] learning rate = 0.0000405\n",
      "[*] End of epoch 61 / 160 \t Time Taken: 0 sec \n",
      "/cluster/54/streakfull/ADL4CV/Project/src/plz-autosdf/logs/new_bert_overfit\n",
      "Model Loss: 0.16412730515003204\n",
      "[*] learning rate = 0.0000402\n",
      "[*] End of epoch 62 / 160 \t Time Taken: 0 sec \n",
      "/cluster/54/streakfull/ADL4CV/Project/src/plz-autosdf/logs/new_bert_overfit\n",
      "Model Loss: 0.15627463161945343\n",
      "[*] learning rate = 0.0000398\n",
      "[*] End of epoch 63 / 160 \t Time Taken: 0 sec \n",
      "/cluster/54/streakfull/ADL4CV/Project/src/plz-autosdf/logs/new_bert_overfit\n",
      "Model Loss: 0.15495242178440094\n",
      "[*] learning rate = 0.0000395\n",
      "[*] End of epoch 64 / 160 \t Time Taken: 0 sec \n",
      "/cluster/54/streakfull/ADL4CV/Project/src/plz-autosdf/logs/new_bert_overfit\n",
      "Model Loss: 0.14599619805812836\n",
      "[*] learning rate = 0.0000392\n",
      "[*] End of epoch 65 / 160 \t Time Taken: 0 sec \n",
      "/cluster/54/streakfull/ADL4CV/Project/src/plz-autosdf/logs/new_bert_overfit\n",
      "Model Loss: 0.14468266069889069\n",
      "[*] learning rate = 0.0000389\n",
      "[*] End of epoch 66 / 160 \t Time Taken: 0 sec \n",
      "/cluster/54/streakfull/ADL4CV/Project/src/plz-autosdf/logs/new_bert_overfit\n",
      "Model Loss: 0.13430194556713104\n",
      "[*] learning rate = 0.0000386\n",
      "[*] End of epoch 67 / 160 \t Time Taken: 0 sec \n",
      "/cluster/54/streakfull/ADL4CV/Project/src/plz-autosdf/logs/new_bert_overfit\n",
      "Model Loss: 0.12987938523292542\n",
      "[*] learning rate = 0.0000383\n",
      "[*] End of epoch 68 / 160 \t Time Taken: 0 sec \n",
      "/cluster/54/streakfull/ADL4CV/Project/src/plz-autosdf/logs/new_bert_overfit\n",
      "Model Loss: 0.12587380409240723\n",
      "[*] learning rate = 0.0000381\n",
      "[*] End of epoch 69 / 160 \t Time Taken: 0 sec \n",
      "/cluster/54/streakfull/ADL4CV/Project/src/plz-autosdf/logs/new_bert_overfit\n",
      "Model Loss: 0.12141840159893036\n",
      "[*] learning rate = 0.0000378\n",
      "[*] End of epoch 70 / 160 \t Time Taken: 0 sec \n",
      "/cluster/54/streakfull/ADL4CV/Project/src/plz-autosdf/logs/new_bert_overfit\n",
      "Model Loss: 0.11964582651853561\n",
      "[*] learning rate = 0.0000375\n",
      "[*] End of epoch 71 / 160 \t Time Taken: 0 sec \n",
      "/cluster/54/streakfull/ADL4CV/Project/src/plz-autosdf/logs/new_bert_overfit\n",
      "Model Loss: 0.11587467044591904\n",
      "[*] learning rate = 0.0000373\n",
      "[*] End of epoch 72 / 160 \t Time Taken: 0 sec \n",
      "/cluster/54/streakfull/ADL4CV/Project/src/plz-autosdf/logs/new_bert_overfit\n",
      "Model Loss: 0.11106058210134506\n",
      "[*] learning rate = 0.0000370\n",
      "[*] End of epoch 73 / 160 \t Time Taken: 0 sec \n",
      "/cluster/54/streakfull/ADL4CV/Project/src/plz-autosdf/logs/new_bert_overfit\n",
      "Model Loss: 0.10837492346763611\n",
      "[*] learning rate = 0.0000368\n",
      "[*] End of epoch 74 / 160 \t Time Taken: 0 sec \n",
      "/cluster/54/streakfull/ADL4CV/Project/src/plz-autosdf/logs/new_bert_overfit\n",
      "Model Loss: 0.10095516592264175\n",
      "[*] learning rate = 0.0000365\n",
      "[*] End of epoch 75 / 160 \t Time Taken: 0 sec \n",
      "/cluster/54/streakfull/ADL4CV/Project/src/plz-autosdf/logs/new_bert_overfit\n",
      "Model Loss: 0.09990499913692474\n",
      "[*] learning rate = 0.0000363\n",
      "[*] End of epoch 76 / 160 \t Time Taken: 0 sec \n",
      "/cluster/54/streakfull/ADL4CV/Project/src/plz-autosdf/logs/new_bert_overfit\n",
      "Model Loss: 0.0969097763299942\n",
      "[*] learning rate = 0.0000360\n",
      "[*] End of epoch 77 / 160 \t Time Taken: 0 sec \n",
      "/cluster/54/streakfull/ADL4CV/Project/src/plz-autosdf/logs/new_bert_overfit\n",
      "Model Loss: 0.09419378638267517\n",
      "[*] learning rate = 0.0000358\n",
      "[*] End of epoch 78 / 160 \t Time Taken: 0 sec \n",
      "/cluster/54/streakfull/ADL4CV/Project/src/plz-autosdf/logs/new_bert_overfit\n",
      "Model Loss: 0.09495699405670166\n",
      "[*] learning rate = 0.0000356\n",
      "[*] End of epoch 79 / 160 \t Time Taken: 0 sec \n",
      "/cluster/54/streakfull/ADL4CV/Project/src/plz-autosdf/logs/new_bert_overfit\n",
      "Model Loss: 0.09079485386610031\n",
      "[*] learning rate = 0.0000354\n",
      "[*] End of epoch 80 / 160 \t Time Taken: 0 sec \n",
      "/cluster/54/streakfull/ADL4CV/Project/src/plz-autosdf/logs/new_bert_overfit\n",
      "Model Loss: 0.08669538050889969\n",
      "[*] learning rate = 0.0000351\n",
      "[*] End of epoch 81 / 160 \t Time Taken: 0 sec \n",
      "/cluster/54/streakfull/ADL4CV/Project/src/plz-autosdf/logs/new_bert_overfit\n",
      "Model Loss: 0.08296547085046768\n",
      "[*] learning rate = 0.0000349\n",
      "[*] End of epoch 82 / 160 \t Time Taken: 0 sec \n",
      "/cluster/54/streakfull/ADL4CV/Project/src/plz-autosdf/logs/new_bert_overfit\n",
      "Model Loss: 0.08135893940925598\n",
      "[*] learning rate = 0.0000347\n",
      "[*] End of epoch 83 / 160 \t Time Taken: 0 sec \n",
      "/cluster/54/streakfull/ADL4CV/Project/src/plz-autosdf/logs/new_bert_overfit\n",
      "Model Loss: 0.07966682314872742\n",
      "[*] learning rate = 0.0000345\n",
      "[*] End of epoch 84 / 160 \t Time Taken: 0 sec \n",
      "/cluster/54/streakfull/ADL4CV/Project/src/plz-autosdf/logs/new_bert_overfit\n",
      "Model Loss: 0.07795792073011398\n",
      "[*] learning rate = 0.0000343\n",
      "[*] End of epoch 85 / 160 \t Time Taken: 0 sec \n",
      "/cluster/54/streakfull/ADL4CV/Project/src/plz-autosdf/logs/new_bert_overfit\n",
      "Model Loss: 0.07597420364618301\n",
      "[*] learning rate = 0.0000341\n",
      "[*] End of epoch 86 / 160 \t Time Taken: 0 sec \n",
      "/cluster/54/streakfull/ADL4CV/Project/src/plz-autosdf/logs/new_bert_overfit\n",
      "Model Loss: 0.07541089504957199\n",
      "[*] learning rate = 0.0000339\n",
      "[*] End of epoch 87 / 160 \t Time Taken: 0 sec \n",
      "/cluster/54/streakfull/ADL4CV/Project/src/plz-autosdf/logs/new_bert_overfit\n",
      "Model Loss: 0.07302304357290268\n",
      "[*] learning rate = 0.0000337\n",
      "[*] End of epoch 88 / 160 \t Time Taken: 0 sec \n",
      "/cluster/54/streakfull/ADL4CV/Project/src/plz-autosdf/logs/new_bert_overfit\n",
      "Model Loss: 0.06851746141910553\n",
      "[*] learning rate = 0.0000335\n",
      "[*] End of epoch 89 / 160 \t Time Taken: 0 sec \n",
      "/cluster/54/streakfull/ADL4CV/Project/src/plz-autosdf/logs/new_bert_overfit\n",
      "Model Loss: 0.06918451189994812\n",
      "[*] learning rate = 0.0000333\n"
     ]
    },
    {
     "name": "stdout",
     "output_type": "stream",
     "text": [
      "[*] End of epoch 90 / 160 \t Time Taken: 0 sec \n",
      "/cluster/54/streakfull/ADL4CV/Project/src/plz-autosdf/logs/new_bert_overfit\n",
      "Model Loss: 0.06898661702871323\n",
      "[*] learning rate = 0.0000331\n",
      "[*] End of epoch 91 / 160 \t Time Taken: 0 sec \n",
      "/cluster/54/streakfull/ADL4CV/Project/src/plz-autosdf/logs/new_bert_overfit\n",
      "Model Loss: 0.06829725950956345\n",
      "[*] learning rate = 0.0000330\n",
      "[*] End of epoch 92 / 160 \t Time Taken: 0 sec \n",
      "/cluster/54/streakfull/ADL4CV/Project/src/plz-autosdf/logs/new_bert_overfit\n",
      "Model Loss: 0.06898098438978195\n",
      "[*] learning rate = 0.0000328\n",
      "[*] End of epoch 93 / 160 \t Time Taken: 0 sec \n",
      "/cluster/54/streakfull/ADL4CV/Project/src/plz-autosdf/logs/new_bert_overfit\n",
      "Model Loss: 0.06210661679506302\n",
      "[*] learning rate = 0.0000326\n",
      "[*] End of epoch 94 / 160 \t Time Taken: 0 sec \n",
      "/cluster/54/streakfull/ADL4CV/Project/src/plz-autosdf/logs/new_bert_overfit\n",
      "Model Loss: 0.062354493886232376\n",
      "[*] learning rate = 0.0000324\n",
      "[*] End of epoch 95 / 160 \t Time Taken: 0 sec \n",
      "/cluster/54/streakfull/ADL4CV/Project/src/plz-autosdf/logs/new_bert_overfit\n",
      "Model Loss: 0.06280666589736938\n",
      "[*] learning rate = 0.0000323\n",
      "[*] End of epoch 96 / 160 \t Time Taken: 0 sec \n",
      "/cluster/54/streakfull/ADL4CV/Project/src/plz-autosdf/logs/new_bert_overfit\n",
      "Model Loss: 0.06266915053129196\n",
      "[*] learning rate = 0.0000321\n",
      "[*] End of epoch 97 / 160 \t Time Taken: 0 sec \n",
      "/cluster/54/streakfull/ADL4CV/Project/src/plz-autosdf/logs/new_bert_overfit\n",
      "Model Loss: 0.059134602546691895\n",
      "[*] learning rate = 0.0000319\n",
      "[*] End of epoch 98 / 160 \t Time Taken: 0 sec \n",
      "/cluster/54/streakfull/ADL4CV/Project/src/plz-autosdf/logs/new_bert_overfit\n",
      "Model Loss: 0.05813005566596985\n",
      "[*] learning rate = 0.0000318\n",
      "[*] End of epoch 99 / 160 \t Time Taken: 0 sec \n",
      "/cluster/54/streakfull/ADL4CV/Project/src/plz-autosdf/logs/new_bert_overfit\n",
      "Model Loss: 0.0594618022441864\n",
      "[*] learning rate = 0.0000316\n",
      "[*] End of epoch 100 / 160 \t Time Taken: 0 sec \n",
      "/cluster/54/streakfull/ADL4CV/Project/src/plz-autosdf/logs/new_bert_overfit\n",
      "Model Loss: 0.057445671409368515\n",
      "[*] learning rate = 0.0000315\n",
      "[*] End of epoch 101 / 160 \t Time Taken: 0 sec \n",
      "/cluster/54/streakfull/ADL4CV/Project/src/plz-autosdf/logs/new_bert_overfit\n",
      "Model Loss: 0.057353511452674866\n",
      "[*] learning rate = 0.0000313\n",
      "[*] End of epoch 102 / 160 \t Time Taken: 0 sec \n",
      "/cluster/54/streakfull/ADL4CV/Project/src/plz-autosdf/logs/new_bert_overfit\n",
      "Model Loss: 0.055426307022571564\n",
      "[*] learning rate = 0.0000312\n",
      "[*] End of epoch 103 / 160 \t Time Taken: 0 sec \n",
      "/cluster/54/streakfull/ADL4CV/Project/src/plz-autosdf/logs/new_bert_overfit\n",
      "Model Loss: 0.055480021983385086\n",
      "[*] learning rate = 0.0000310\n",
      "[*] End of epoch 104 / 160 \t Time Taken: 0 sec \n",
      "/cluster/54/streakfull/ADL4CV/Project/src/plz-autosdf/logs/new_bert_overfit\n",
      "Model Loss: 0.05499202013015747\n",
      "[*] learning rate = 0.0000309\n",
      "[*] End of epoch 105 / 160 \t Time Taken: 0 sec \n",
      "/cluster/54/streakfull/ADL4CV/Project/src/plz-autosdf/logs/new_bert_overfit\n",
      "Model Loss: 0.053659044206142426\n",
      "[*] learning rate = 0.0000307\n",
      "[*] End of epoch 106 / 160 \t Time Taken: 0 sec \n",
      "/cluster/54/streakfull/ADL4CV/Project/src/plz-autosdf/logs/new_bert_overfit\n",
      "Model Loss: 0.052853431552648544\n",
      "[*] learning rate = 0.0000306\n",
      "[*] End of epoch 107 / 160 \t Time Taken: 0 sec \n",
      "/cluster/54/streakfull/ADL4CV/Project/src/plz-autosdf/logs/new_bert_overfit\n",
      "Model Loss: 0.05212126299738884\n",
      "[*] learning rate = 0.0000304\n",
      "[*] End of epoch 108 / 160 \t Time Taken: 0 sec \n",
      "/cluster/54/streakfull/ADL4CV/Project/src/plz-autosdf/logs/new_bert_overfit\n",
      "Model Loss: 0.05002783611416817\n",
      "[*] learning rate = 0.0000303\n",
      "[*] End of epoch 109 / 160 \t Time Taken: 0 sec \n",
      "/cluster/54/streakfull/ADL4CV/Project/src/plz-autosdf/logs/new_bert_overfit\n",
      "Model Loss: 0.050480641424655914\n",
      "[*] learning rate = 0.0000302\n",
      "[*] End of epoch 110 / 160 \t Time Taken: 0 sec \n",
      "/cluster/54/streakfull/ADL4CV/Project/src/plz-autosdf/logs/new_bert_overfit\n",
      "Model Loss: 0.048727478832006454\n",
      "[*] learning rate = 0.0000300\n",
      "[*] End of epoch 111 / 160 \t Time Taken: 0 sec \n",
      "/cluster/54/streakfull/ADL4CV/Project/src/plz-autosdf/logs/new_bert_overfit\n",
      "Model Loss: 0.04873858019709587\n",
      "[*] learning rate = 0.0000299\n",
      "[*] End of epoch 112 / 160 \t Time Taken: 0 sec \n",
      "/cluster/54/streakfull/ADL4CV/Project/src/plz-autosdf/logs/new_bert_overfit\n",
      "Model Loss: 0.0470907986164093\n",
      "[*] learning rate = 0.0000297\n",
      "[*] End of epoch 113 / 160 \t Time Taken: 0 sec \n",
      "/cluster/54/streakfull/ADL4CV/Project/src/plz-autosdf/logs/new_bert_overfit\n",
      "Model Loss: 0.04616132378578186\n",
      "[*] learning rate = 0.0000296\n",
      "[*] End of epoch 114 / 160 \t Time Taken: 0 sec \n",
      "/cluster/54/streakfull/ADL4CV/Project/src/plz-autosdf/logs/new_bert_overfit\n",
      "Model Loss: 0.04814944788813591\n",
      "[*] learning rate = 0.0000295\n",
      "[*] End of epoch 115 / 160 \t Time Taken: 0 sec \n",
      "/cluster/54/streakfull/ADL4CV/Project/src/plz-autosdf/logs/new_bert_overfit\n",
      "Model Loss: 0.0466138981282711\n",
      "[*] learning rate = 0.0000294\n",
      "[*] End of epoch 116 / 160 \t Time Taken: 0 sec \n",
      "/cluster/54/streakfull/ADL4CV/Project/src/plz-autosdf/logs/new_bert_overfit\n",
      "Model Loss: 0.046581704169511795\n",
      "[*] learning rate = 0.0000292\n",
      "[*] End of epoch 117 / 160 \t Time Taken: 0 sec \n",
      "/cluster/54/streakfull/ADL4CV/Project/src/plz-autosdf/logs/new_bert_overfit\n",
      "Model Loss: 0.0458826906979084\n",
      "[*] learning rate = 0.0000291\n",
      "[*] End of epoch 118 / 160 \t Time Taken: 0 sec \n",
      "/cluster/54/streakfull/ADL4CV/Project/src/plz-autosdf/logs/new_bert_overfit\n",
      "Model Loss: 0.045405179262161255\n",
      "[*] learning rate = 0.0000290\n",
      "[*] End of epoch 119 / 160 \t Time Taken: 0 sec \n",
      "/cluster/54/streakfull/ADL4CV/Project/src/plz-autosdf/logs/new_bert_overfit\n",
      "Model Loss: 0.04607228934764862\n",
      "[*] learning rate = 0.0000289\n",
      "[*] End of epoch 120 / 160 \t Time Taken: 0 sec \n",
      "/cluster/54/streakfull/ADL4CV/Project/src/plz-autosdf/logs/new_bert_overfit\n",
      "Model Loss: 0.046655602753162384\n",
      "[*] learning rate = 0.0000287\n",
      "[*] End of epoch 121 / 160 \t Time Taken: 0 sec \n",
      "/cluster/54/streakfull/ADL4CV/Project/src/plz-autosdf/logs/new_bert_overfit\n",
      "Model Loss: 0.044282231479883194\n",
      "[*] learning rate = 0.0000286\n",
      "[*] End of epoch 122 / 160 \t Time Taken: 0 sec \n",
      "/cluster/54/streakfull/ADL4CV/Project/src/plz-autosdf/logs/new_bert_overfit\n",
      "Model Loss: 0.044725097715854645\n",
      "[*] learning rate = 0.0000285\n",
      "[*] End of epoch 123 / 160 \t Time Taken: 0 sec \n",
      "/cluster/54/streakfull/ADL4CV/Project/src/plz-autosdf/logs/new_bert_overfit\n",
      "Model Loss: 0.04483636096119881\n",
      "[*] learning rate = 0.0000284\n",
      "[*] End of epoch 124 / 160 \t Time Taken: 0 sec \n",
      "/cluster/54/streakfull/ADL4CV/Project/src/plz-autosdf/logs/new_bert_overfit\n",
      "Model Loss: 0.04498689994215965\n",
      "[*] learning rate = 0.0000283\n",
      "[*] End of epoch 125 / 160 \t Time Taken: 0 sec \n",
      "/cluster/54/streakfull/ADL4CV/Project/src/plz-autosdf/logs/new_bert_overfit\n",
      "Model Loss: 0.04049918055534363\n",
      "[*] learning rate = 0.0000282\n",
      "[*] End of epoch 126 / 160 \t Time Taken: 0 sec \n",
      "/cluster/54/streakfull/ADL4CV/Project/src/plz-autosdf/logs/new_bert_overfit\n",
      "Model Loss: 0.04205060377717018\n",
      "[*] learning rate = 0.0000281\n",
      "[*] End of epoch 127 / 160 \t Time Taken: 0 sec \n",
      "/cluster/54/streakfull/ADL4CV/Project/src/plz-autosdf/logs/new_bert_overfit\n",
      "Model Loss: 0.0422743484377861\n",
      "[*] learning rate = 0.0000280\n",
      "[*] End of epoch 128 / 160 \t Time Taken: 0 sec \n",
      "/cluster/54/streakfull/ADL4CV/Project/src/plz-autosdf/logs/new_bert_overfit\n",
      "Model Loss: 0.041107818484306335\n",
      "[*] learning rate = 0.0000278\n",
      "[*] End of epoch 129 / 160 \t Time Taken: 0 sec \n",
      "/cluster/54/streakfull/ADL4CV/Project/src/plz-autosdf/logs/new_bert_overfit\n",
      "Model Loss: 0.04209841415286064\n",
      "[*] learning rate = 0.0000277\n",
      "[*] End of epoch 130 / 160 \t Time Taken: 0 sec \n",
      "/cluster/54/streakfull/ADL4CV/Project/src/plz-autosdf/logs/new_bert_overfit\n",
      "Model Loss: 0.03833235800266266\n",
      "[*] learning rate = 0.0000276\n",
      "[*] End of epoch 131 / 160 \t Time Taken: 0 sec \n",
      "/cluster/54/streakfull/ADL4CV/Project/src/plz-autosdf/logs/new_bert_overfit\n",
      "Model Loss: 0.03938375785946846\n",
      "[*] learning rate = 0.0000275\n",
      "[*] End of epoch 132 / 160 \t Time Taken: 0 sec \n",
      "/cluster/54/streakfull/ADL4CV/Project/src/plz-autosdf/logs/new_bert_overfit\n",
      "Model Loss: 0.040369704365730286\n",
      "[*] learning rate = 0.0000274\n",
      "[*] End of epoch 133 / 160 \t Time Taken: 0 sec \n",
      "/cluster/54/streakfull/ADL4CV/Project/src/plz-autosdf/logs/new_bert_overfit\n",
      "Model Loss: 0.04032066464424133\n",
      "[*] learning rate = 0.0000273\n",
      "[*] End of epoch 134 / 160 \t Time Taken: 0 sec \n",
      "/cluster/54/streakfull/ADL4CV/Project/src/plz-autosdf/logs/new_bert_overfit\n",
      "Model Loss: 0.037117477506399155\n",
      "[*] learning rate = 0.0000272\n"
     ]
    },
    {
     "name": "stdout",
     "output_type": "stream",
     "text": [
      "[*] End of epoch 135 / 160 \t Time Taken: 0 sec \n",
      "/cluster/54/streakfull/ADL4CV/Project/src/plz-autosdf/logs/new_bert_overfit\n",
      "Model Loss: 0.038150086998939514\n",
      "[*] learning rate = 0.0000271\n",
      "[*] End of epoch 136 / 160 \t Time Taken: 0 sec \n",
      "/cluster/54/streakfull/ADL4CV/Project/src/plz-autosdf/logs/new_bert_overfit\n",
      "Model Loss: 0.04056441783905029\n",
      "[*] learning rate = 0.0000270\n",
      "[*] End of epoch 137 / 160 \t Time Taken: 0 sec \n",
      "/cluster/54/streakfull/ADL4CV/Project/src/plz-autosdf/logs/new_bert_overfit\n",
      "Model Loss: 0.03864779323339462\n",
      "[*] learning rate = 0.0000269\n",
      "[*] End of epoch 138 / 160 \t Time Taken: 0 sec \n",
      "/cluster/54/streakfull/ADL4CV/Project/src/plz-autosdf/logs/new_bert_overfit\n",
      "Model Loss: 0.037861261516809464\n",
      "[*] learning rate = 0.0000268\n",
      "[*] End of epoch 139 / 160 \t Time Taken: 0 sec \n",
      "/cluster/54/streakfull/ADL4CV/Project/src/plz-autosdf/logs/new_bert_overfit\n",
      "Model Loss: 0.03857643902301788\n",
      "[*] learning rate = 0.0000267\n",
      "[*] End of epoch 140 / 160 \t Time Taken: 0 sec \n",
      "/cluster/54/streakfull/ADL4CV/Project/src/plz-autosdf/logs/new_bert_overfit\n",
      "Model Loss: 0.03919621929526329\n",
      "[*] learning rate = 0.0000266\n",
      "[*] End of epoch 141 / 160 \t Time Taken: 0 sec \n",
      "/cluster/54/streakfull/ADL4CV/Project/src/plz-autosdf/logs/new_bert_overfit\n",
      "Model Loss: 0.03758993744850159\n",
      "[*] learning rate = 0.0000265\n",
      "[*] End of epoch 142 / 160 \t Time Taken: 0 sec \n",
      "/cluster/54/streakfull/ADL4CV/Project/src/plz-autosdf/logs/new_bert_overfit\n",
      "Model Loss: 0.03841198608279228\n",
      "[*] learning rate = 0.0000264\n",
      "[*] End of epoch 143 / 160 \t Time Taken: 0 sec \n",
      "/cluster/54/streakfull/ADL4CV/Project/src/plz-autosdf/logs/new_bert_overfit\n",
      "Model Loss: 0.036585986614227295\n",
      "[*] learning rate = 0.0000264\n",
      "[*] End of epoch 144 / 160 \t Time Taken: 0 sec \n",
      "/cluster/54/streakfull/ADL4CV/Project/src/plz-autosdf/logs/new_bert_overfit\n",
      "Model Loss: 0.03787011280655861\n",
      "[*] learning rate = 0.0000263\n",
      "[*] End of epoch 145 / 160 \t Time Taken: 0 sec \n",
      "/cluster/54/streakfull/ADL4CV/Project/src/plz-autosdf/logs/new_bert_overfit\n",
      "Model Loss: 0.0362539179623127\n",
      "[*] learning rate = 0.0000262\n",
      "[*] End of epoch 146 / 160 \t Time Taken: 0 sec \n",
      "/cluster/54/streakfull/ADL4CV/Project/src/plz-autosdf/logs/new_bert_overfit\n",
      "Model Loss: 0.03863142430782318\n",
      "[*] learning rate = 0.0000261\n",
      "[*] End of epoch 147 / 160 \t Time Taken: 0 sec \n",
      "/cluster/54/streakfull/ADL4CV/Project/src/plz-autosdf/logs/new_bert_overfit\n",
      "Model Loss: 0.03482279181480408\n",
      "[*] learning rate = 0.0000260\n",
      "[*] End of epoch 148 / 160 \t Time Taken: 0 sec \n",
      "/cluster/54/streakfull/ADL4CV/Project/src/plz-autosdf/logs/new_bert_overfit\n",
      "Model Loss: 0.03602035716176033\n",
      "[*] learning rate = 0.0000259\n",
      "[*] End of epoch 149 / 160 \t Time Taken: 0 sec \n",
      "/cluster/54/streakfull/ADL4CV/Project/src/plz-autosdf/logs/new_bert_overfit\n",
      "Model Loss: 0.037993814796209335\n",
      "[*] learning rate = 0.0000258\n",
      "[*] End of epoch 150 / 160 \t Time Taken: 0 sec \n",
      "/cluster/54/streakfull/ADL4CV/Project/src/plz-autosdf/logs/new_bert_overfit\n",
      "Model Loss: 0.038274135440588\n",
      "[*] learning rate = 0.0000257\n",
      "[*] End of epoch 151 / 160 \t Time Taken: 0 sec \n",
      "/cluster/54/streakfull/ADL4CV/Project/src/plz-autosdf/logs/new_bert_overfit\n",
      "Model Loss: 0.03528245911002159\n",
      "[*] learning rate = 0.0000256\n",
      "[*] End of epoch 152 / 160 \t Time Taken: 0 sec \n",
      "/cluster/54/streakfull/ADL4CV/Project/src/plz-autosdf/logs/new_bert_overfit\n",
      "Model Loss: 0.0359487310051918\n",
      "[*] learning rate = 0.0000256\n",
      "[*] End of epoch 153 / 160 \t Time Taken: 0 sec \n",
      "/cluster/54/streakfull/ADL4CV/Project/src/plz-autosdf/logs/new_bert_overfit\n",
      "Model Loss: 0.03478221967816353\n",
      "[*] learning rate = 0.0000255\n",
      "[*] End of epoch 154 / 160 \t Time Taken: 0 sec \n",
      "/cluster/54/streakfull/ADL4CV/Project/src/plz-autosdf/logs/new_bert_overfit\n",
      "Model Loss: 0.038649123162031174\n",
      "[*] learning rate = 0.0000254\n",
      "[*] End of epoch 155 / 160 \t Time Taken: 0 sec \n",
      "/cluster/54/streakfull/ADL4CV/Project/src/plz-autosdf/logs/new_bert_overfit\n",
      "Model Loss: 0.03385554626584053\n",
      "[*] learning rate = 0.0000253\n",
      "[*] End of epoch 156 / 160 \t Time Taken: 0 sec \n",
      "/cluster/54/streakfull/ADL4CV/Project/src/plz-autosdf/logs/new_bert_overfit\n",
      "Model Loss: 0.03470604494214058\n",
      "[*] learning rate = 0.0000252\n",
      "[*] End of epoch 157 / 160 \t Time Taken: 0 sec \n",
      "/cluster/54/streakfull/ADL4CV/Project/src/plz-autosdf/logs/new_bert_overfit\n",
      "Model Loss: 0.03461015596985817\n",
      "[*] learning rate = 0.0000252\n",
      "[*] End of epoch 158 / 160 \t Time Taken: 0 sec \n",
      "/cluster/54/streakfull/ADL4CV/Project/src/plz-autosdf/logs/new_bert_overfit\n",
      "Model Loss: 0.03461998328566551\n",
      "[*] learning rate = 0.0000251\n",
      "[*] End of epoch 159 / 160 \t Time Taken: 0 sec \n",
      "/cluster/54/streakfull/ADL4CV/Project/src/plz-autosdf/logs/new_bert_overfit\n",
      "Model Loss: 0.03343510255217552\n",
      "[*] learning rate = 0.0000250\n"
     ]
    }
   ],
   "source": [
    "import time\n",
    "import numpy as np\n",
    "cprint('[*] Start training. name: %s' % options.name, 'blue')\n",
    "total_steps = 0\n",
    "train_loss = []\n",
    "valid_loss = []\n",
    "for epoch in tqdm(range(options.nepochs + options.nepochs_decay)):\n",
    "    epoch_start_time = time.time()\n",
    "    # epoch_iter = 0\n",
    "\n",
    "    # profile\n",
    "    train_one_epoch3(None,epoch)\n",
    "\n",
    "#     if epoch % 100000 == 0:\n",
    "#         cprint('saving the model at the end of epoch %d, iters %d' %\n",
    "#                (epoch, total_steps), 'blue')\n",
    "#         latest_name = f'epoch-latest'\n",
    "#         model.save(latest_name)\n",
    "#         cur_name = f'epoch-{epoch}'\n",
    "#         model.save(cur_name)\n",
    "\n",
    "    cprint(f'[*] End of epoch %d / %d \\t Time Taken: %d sec \\n%s' %\n",
    "           (\n",
    "               epoch, options.nepochs + options.nepochs_decay,\n",
    "               time.time() - epoch_start_time,\n",
    "               os.path.abspath(os.path.join(options.logs_dir, options.name))\n",
    "           ), 'blue', attrs=['bold']\n",
    "           )\n",
    "    #import pdb;pdb.set_trace()\n",
    "    print(\"Model Loss:\", m.loss.item())\n",
    "    model.update_learning_rate()\n"
   ]
  },
  {
   "cell_type": "code",
   "execution_count": 13,
   "id": "6df23d0b",
   "metadata": {},
   "outputs": [],
   "source": [
    "x1 = dataset[0]\n",
    "x2 = dataset[2]"
   ]
  },
  {
   "cell_type": "code",
   "execution_count": 36,
   "id": "ff508886",
   "metadata": {},
   "outputs": [
    {
     "data": {
      "text/plain": [
       "dict_keys(['current_text', 'z_set_prev', 'z_set_target'])"
      ]
     },
     "execution_count": 36,
     "metadata": {},
     "output_type": "execute_result"
    }
   ],
   "source": [
    "x1.keys()"
   ]
  },
  {
   "cell_type": "code",
   "execution_count": 14,
   "id": "56371d70",
   "metadata": {},
   "outputs": [],
   "source": [
    "x1[\"current_text\"] = [x1[\"current_text\"]]\n",
    "x1[\"z_set_prev\"] = x1[\"z_set_prev\"].unsqueeze(0)\n",
    "x1[\"z_set_target\"] = x1[\"z_set_target\"].unsqueeze(0)\n",
    "model.set_input(x1)"
   ]
  },
  {
   "cell_type": "code",
   "execution_count": 15,
   "id": "9b5c5712",
   "metadata": {},
   "outputs": [],
   "source": [
    "model.net.eval()\n",
    "y = model.forward()"
   ]
  },
  {
   "cell_type": "code",
   "execution_count": 16,
   "id": "a83f9c98",
   "metadata": {},
   "outputs": [
    {
     "data": {
      "text/plain": [
       "torch.Size([1, 8, 8, 8, 512])"
      ]
     },
     "execution_count": 16,
     "metadata": {},
     "output_type": "execute_result"
    }
   ],
   "source": [
    "model.outp.shape\n"
   ]
  },
  {
   "cell_type": "code",
   "execution_count": 18,
   "id": "a408e122",
   "metadata": {},
   "outputs": [
    {
     "data": {
      "text/plain": [
       "torch.Size([1, 8, 8, 8])"
      ]
     },
     "execution_count": 18,
     "metadata": {},
     "output_type": "execute_result"
    }
   ],
   "source": [
    "from einops import rearrange\n",
    "k2 = x1[\"z_set_target\"]\n",
    "k2.shape\n",
    "#k = rearrange(k2, 'bs d1 d2 d3 c ->bs c d1 d2 d3')"
   ]
  },
  {
   "cell_type": "code",
   "execution_count": 20,
   "id": "3d1a3c2f",
   "metadata": {},
   "outputs": [
    {
     "data": {
      "text/plain": [
       "torch.Size([1, 8, 8, 8, 512])"
      ]
     },
     "execution_count": 20,
     "metadata": {},
     "output_type": "execute_result"
    }
   ],
   "source": [
    "f = model.outp.cpu()\n",
    "f.shape"
   ]
  },
  {
   "cell_type": "code",
   "execution_count": 21,
   "id": "7afda65c",
   "metadata": {},
   "outputs": [
    {
     "data": {
      "text/plain": [
       "torch.Size([1, 8, 8, 8])"
      ]
     },
     "execution_count": 21,
     "metadata": {},
     "output_type": "execute_result"
    }
   ],
   "source": [
    "sf = torch.nn.Softmax(dim=-1)\n",
    "f = sf(f)\n",
    "sampler = torch.distributions.categorical.Categorical(f)\n",
    "f = sampler.sample()\n",
    "f.shape"
   ]
  },
  {
   "cell_type": "code",
   "execution_count": 22,
   "id": "77275f6d",
   "metadata": {},
   "outputs": [
    {
     "data": {
      "text/plain": [
       "torch.Size([1, 8, 8, 8])"
      ]
     },
     "execution_count": 22,
     "metadata": {},
     "output_type": "execute_result"
    }
   ],
   "source": [
    "cos = torch.nn.CosineSimilarity(dim=-1)\n",
    "k2.shape"
   ]
  },
  {
   "cell_type": "code",
   "execution_count": 25,
   "id": "7dbb9279",
   "metadata": {},
   "outputs": [
    {
     "data": {
      "text/plain": [
       "tensor([[[[179, 179, 179, 179, 179, 179, 179, 179],\n",
       "          [179, 179, 179, 179, 179, 179, 179, 179],\n",
       "          [179, 179, 179, 179, 179, 179, 179, 179],\n",
       "          [179, 179, 179, 179, 179, 179, 179, 179],\n",
       "          [179, 179,  24,  24,  24,  24, 179, 179],\n",
       "          [179, 179, 425, 425, 425, 425, 179, 179],\n",
       "          [179, 179, 179, 179, 179, 179, 179, 179],\n",
       "          [179, 179, 179, 179, 179, 179, 179, 179]],\n",
       "\n",
       "         [[179, 179, 171, 228, 228, 171, 179, 179],\n",
       "          [179, 179,  97,  97,  97,  97, 179, 179],\n",
       "          [179,  24,  97,  97,  97,  97, 425, 179],\n",
       "          [179, 425,  97,  97,  97,  97, 453, 179],\n",
       "          [179,  68,  97,  97,  97,  97, 272, 179],\n",
       "          [179, 453,  97,  97,  97,  97,  29, 179],\n",
       "          [179, 179,  68, 453, 112, 112,  68, 179],\n",
       "          [179, 179,  24, 112, 179, 179, 179, 179]],\n",
       "\n",
       "         [[179, 179, 425, 112, 112, 112, 179, 179],\n",
       "          [179, 179, 425, 112, 112,  68, 179, 179],\n",
       "          [179, 179, 112, 171, 171, 171, 272, 179],\n",
       "          [179, 179, 112, 228, 453, 349, 349, 179],\n",
       "          [179, 179,  68, 228,  68,  68, 112, 179],\n",
       "          [179, 179, 349, 228, 453,  68, 453, 179],\n",
       "          [179, 179, 228,  29, 179, 179,  24, 179],\n",
       "          [179, 179, 453, 272, 179, 179, 179, 179]],\n",
       "\n",
       "         [[179, 179, 179, 179, 179, 179, 179, 179],\n",
       "          [179, 179, 179, 179, 179, 179, 179, 179],\n",
       "          [179, 179, 272,  29,  29,  29, 272, 179],\n",
       "          [179, 179, 171, 228, 349, 272, 349, 179],\n",
       "          [179, 179, 228, 228, 179, 179, 179, 179],\n",
       "          [179, 179,  29, 171, 179, 179, 179, 179],\n",
       "          [179, 179,  97, 349, 179, 179, 179, 179],\n",
       "          [179, 179, 349, 453, 179, 179, 179, 179]],\n",
       "\n",
       "         [[179, 179, 179, 179, 179, 179, 179, 179],\n",
       "          [179, 179, 179, 179, 179, 179, 179, 179],\n",
       "          [179, 179, 349,  29,  29,  29, 272, 179],\n",
       "          [179, 179, 349, 228, 349, 272, 349, 179],\n",
       "          [179, 179, 272,  29, 179, 179, 179, 179],\n",
       "          [179, 179, 171, 228, 179, 179, 179, 179],\n",
       "          [179, 179,  29, 171, 179, 179, 179, 179],\n",
       "          [179, 179, 453, 349, 179, 179, 179, 179]],\n",
       "\n",
       "         [[179, 179, 272, 171, 171, 349, 179, 179],\n",
       "          [179, 179,  29,  29,  29,  29, 179, 179],\n",
       "          [179,  24,  29,  97, 171,  97, 349, 179],\n",
       "          [179, 425, 228,  29, 228,  29, 453, 179],\n",
       "          [179, 112, 228,  97,  97,  97, 349, 179],\n",
       "          [179, 453, 228,  97,  97,  97, 171, 179],\n",
       "          [179, 179, 453,  29, 112, 112, 112, 179],\n",
       "          [179, 179, 425, 228, 179, 179, 179, 179]],\n",
       "\n",
       "         [[179, 179, 453, 349, 349, 349, 179, 179],\n",
       "          [179, 179, 453, 272, 272, 228, 179, 179],\n",
       "          [179, 179, 349, 272, 272, 228,  24, 179],\n",
       "          [179, 179, 272, 171, 171, 228, 112, 179],\n",
       "          [179,  24, 171, 171, 171, 171, 453, 179],\n",
       "          [179, 425, 171, 171, 171, 171, 272, 179],\n",
       "          [179, 179,  24,  24,  24,  24, 112, 179],\n",
       "          [179, 179, 179, 179, 179, 179, 179, 179]],\n",
       "\n",
       "         [[179, 179, 179, 179, 179, 179, 179, 179],\n",
       "          [179, 179, 179, 179, 179, 179, 179, 179],\n",
       "          [179, 179, 179, 179, 179, 179, 179, 179],\n",
       "          [179, 179, 179, 179, 179, 179, 179, 179],\n",
       "          [179, 179, 179, 179, 179, 179, 179, 179],\n",
       "          [179, 179, 179, 179, 179, 179, 179, 179],\n",
       "          [179, 179, 179, 179, 179, 179, 179, 179],\n",
       "          [179, 179, 179, 179, 179, 179, 179, 179]]]])"
      ]
     },
     "execution_count": 25,
     "metadata": {},
     "output_type": "execute_result"
    }
   ],
   "source": [
    "cos(f.float().flatten(),k2.float().flatten())\n",
    "f"
   ]
  },
  {
   "cell_type": "code",
   "execution_count": null,
   "id": "e8129a02",
   "metadata": {},
   "outputs": [],
   "source": [
    "z1 = torch.rand((1,8,8,8,512))\n",
    "z2 = torch.zeros((1,8,8,8,512))*-1/512\n",
    "outp1 = m.net.forward([\"wheels\"],z1.cuda())\n",
    "outp2 = m.net.forward([\"okkkasfasf\"],z2.cuda())"
   ]
  },
  {
   "cell_type": "code",
   "execution_count": null,
   "id": "43eab52f",
   "metadata": {},
   "outputs": [],
   "source": [
    "cos(outp1.flatten(),outp2.flatten())"
   ]
  },
  {
   "cell_type": "code",
   "execution_count": 26,
   "id": "a699fd10",
   "metadata": {},
   "outputs": [
    {
     "data": {
      "text/plain": [
       "tensor([[[[179, 179, 179, 179, 179, 179, 179, 179],\n",
       "          [179, 179, 179, 179, 179, 179, 179, 179],\n",
       "          [179, 179, 179, 179, 179, 179, 179, 179],\n",
       "          [179, 179, 179, 179, 179, 179, 179, 179],\n",
       "          [179, 179,  24,  24,  24,  24, 179, 179],\n",
       "          [179, 179, 425, 425, 425, 425, 179, 179],\n",
       "          [179, 179, 179, 179, 179, 179, 179, 179],\n",
       "          [179, 179, 179, 179, 179, 179, 179, 179]],\n",
       "\n",
       "         [[179, 179, 171, 228, 228, 171, 179, 179],\n",
       "          [179, 179,  97,  97,  97,  97, 179, 179],\n",
       "          [179,  24,  97,  97,  97,  97, 425, 179],\n",
       "          [179, 425,  97,  97,  97,  97, 453, 179],\n",
       "          [179,  68,  97,  97,  97,  97, 272, 179],\n",
       "          [179, 453,  97,  97,  97,  97,  29, 179],\n",
       "          [179, 179,  68, 453, 112, 112,  68, 179],\n",
       "          [179, 179,  24, 112, 179, 179, 179, 179]],\n",
       "\n",
       "         [[179, 179, 425, 112, 112, 112, 179, 179],\n",
       "          [179, 179, 425, 112, 112,  68, 179, 179],\n",
       "          [179, 179, 112, 171, 171, 171, 272, 179],\n",
       "          [179, 179, 112, 228, 453, 349, 349, 179],\n",
       "          [179, 179,  68, 228,  68,  68, 112, 179],\n",
       "          [179, 179, 349, 228, 453,  68, 453, 179],\n",
       "          [179, 179, 228,  29, 179, 179,  24, 179],\n",
       "          [179, 179, 453, 272, 179, 179, 179, 179]],\n",
       "\n",
       "         [[179, 179, 179, 179, 179, 179, 179, 179],\n",
       "          [179, 179, 179, 179, 179, 179, 179, 179],\n",
       "          [179, 179, 272,  29,  29,  29, 272, 179],\n",
       "          [179, 179, 171, 228, 349, 272, 349, 179],\n",
       "          [179, 179, 228, 228, 179, 179, 179, 179],\n",
       "          [179, 179,  29, 171, 179, 179, 179, 179],\n",
       "          [179, 179,  97, 349, 179, 179, 179, 179],\n",
       "          [179, 179, 349, 453, 179, 179, 179, 179]],\n",
       "\n",
       "         [[179, 179, 179, 179, 179, 179, 179, 179],\n",
       "          [179, 179, 179, 179, 179, 179, 179, 179],\n",
       "          [179, 179, 349,  29,  29,  29, 272, 179],\n",
       "          [179, 179, 349, 228, 349, 272, 349, 179],\n",
       "          [179, 179, 272,  29, 179, 179, 179, 179],\n",
       "          [179, 179, 171, 228, 179, 179, 179, 179],\n",
       "          [179, 179,  29, 171, 179, 179, 179, 179],\n",
       "          [179, 179, 453, 349, 179, 179, 179, 179]],\n",
       "\n",
       "         [[179, 179, 272, 171, 171, 349, 179, 179],\n",
       "          [179, 179,  29,  29,  29,  29, 179, 179],\n",
       "          [179,  24,  29,  97,  97,  97, 349, 179],\n",
       "          [179, 425, 228,  29, 228,  29, 453, 179],\n",
       "          [179, 112, 228,  97,  97,  97, 349, 179],\n",
       "          [179, 453, 228,  97,  97,  97, 171, 179],\n",
       "          [179, 179, 453,  29, 112, 112, 112, 179],\n",
       "          [179, 179, 425, 228, 179, 179, 179, 179]],\n",
       "\n",
       "         [[179, 179, 453, 349, 349, 349, 179, 179],\n",
       "          [179, 179, 453, 272, 272, 228, 179, 179],\n",
       "          [179, 179, 349, 272, 272, 228,  24, 179],\n",
       "          [179, 179, 272, 171, 171, 228, 112, 179],\n",
       "          [179,  24, 171, 171, 171, 171, 453, 179],\n",
       "          [179, 425, 171, 171, 171, 171, 272, 179],\n",
       "          [179, 179,  24,  24,  24,  24, 112, 179],\n",
       "          [179, 179, 179, 179, 179, 179, 179, 179]],\n",
       "\n",
       "         [[179, 179, 179, 179, 179, 179, 179, 179],\n",
       "          [179, 179, 179, 179, 179, 179, 179, 179],\n",
       "          [179, 179, 179, 179, 179, 179, 179, 179],\n",
       "          [179, 179, 179, 179, 179, 179, 179, 179],\n",
       "          [179, 179, 179, 179, 179, 179, 179, 179],\n",
       "          [179, 179, 179, 179, 179, 179, 179, 179],\n",
       "          [179, 179, 179, 179, 179, 179, 179, 179],\n",
       "          [179, 179, 179, 179, 179, 179, 179, 179]]]])"
      ]
     },
     "execution_count": 26,
     "metadata": {},
     "output_type": "execute_result"
    }
   ],
   "source": [
    "k2"
   ]
  },
  {
   "cell_type": "code",
   "execution_count": null,
   "id": "5bc1fd10",
   "metadata": {},
   "outputs": [],
   "source": []
  },
  {
   "cell_type": "code",
   "execution_count": null,
   "id": "2a3cd405",
   "metadata": {},
   "outputs": [],
   "source": [
    "dataset[5][\"previous_text\"]"
   ]
  },
  {
   "cell_type": "code",
   "execution_count": null,
   "id": "afbfea9e",
   "metadata": {},
   "outputs": [],
   "source": [
    "dataset[18][\"current_text\"]"
   ]
  },
  {
   "cell_type": "code",
   "execution_count": null,
   "id": "06a9ad3e",
   "metadata": {},
   "outputs": [],
   "source": [
    "import torch.nn as nn"
   ]
  },
  {
   "cell_type": "code",
   "execution_count": null,
   "id": "7bc67e68",
   "metadata": {},
   "outputs": [],
   "source": [
    "loss = nn.CrossEntropyLoss()"
   ]
  },
  {
   "cell_type": "code",
   "execution_count": null,
   "id": "3b48e3a5",
   "metadata": {},
   "outputs": [],
   "source": [
    "input = torch.randn(3, 5, requires_grad=True)"
   ]
  },
  {
   "cell_type": "code",
   "execution_count": null,
   "id": "6386f64a",
   "metadata": {},
   "outputs": [],
   "source": [
    "target = torch.empty(3, dtype=torch.long).random_(5)"
   ]
  },
  {
   "cell_type": "code",
   "execution_count": null,
   "id": "72276103",
   "metadata": {},
   "outputs": [],
   "source": [
    "input.shape"
   ]
  },
  {
   "cell_type": "code",
   "execution_count": null,
   "id": "8e65cacc",
   "metadata": {},
   "outputs": [],
   "source": [
    "target.shape"
   ]
  },
  {
   "cell_type": "code",
   "execution_count": null,
   "id": "ab295ecd",
   "metadata": {},
   "outputs": [],
   "source": [
    "input = torch.randn(32,512,8,8,8, requires_grad=True)"
   ]
  },
  {
   "cell_type": "code",
   "execution_count": null,
   "id": "5100cf9d",
   "metadata": {},
   "outputs": [],
   "source": [
    "input.shape"
   ]
  },
  {
   "cell_type": "code",
   "execution_count": null,
   "id": "78fd5648",
   "metadata": {},
   "outputs": [],
   "source": [
    "target = torch.randn(32,8,8,8, 512).softmax(dim=1)"
   ]
  },
  {
   "cell_type": "code",
   "execution_count": null,
   "id": "11623b30",
   "metadata": {},
   "outputs": [],
   "source": [
    "target.shape\n",
    "input.shape"
   ]
  },
  {
   "cell_type": "code",
   "execution_count": null,
   "id": "a01105e9",
   "metadata": {},
   "outputs": [],
   "source": [
    "loss(input,target)"
   ]
  },
  {
   "cell_type": "code",
   "execution_count": null,
   "id": "deff8130",
   "metadata": {},
   "outputs": [],
   "source": []
  }
 ],
 "metadata": {
  "kernelspec": {
   "display_name": "Python 3 (ipykernel)",
   "language": "python",
   "name": "python3"
  },
  "language_info": {
   "codemirror_mode": {
    "name": "ipython",
    "version": 3
   },
   "file_extension": ".py",
   "mimetype": "text/x-python",
   "name": "python",
   "nbconvert_exporter": "python",
   "pygments_lexer": "ipython3",
   "version": "3.8.10"
  }
 },
 "nbformat": 4,
 "nbformat_minor": 5
}
