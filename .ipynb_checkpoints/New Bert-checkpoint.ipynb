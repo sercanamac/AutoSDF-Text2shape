{
 "cells": [
  {
   "cell_type": "code",
   "execution_count": 2,
   "id": "ad642d26",
   "metadata": {},
   "outputs": [],
   "source": [
    "import os\n",
    "from IPython.display import Image as ipy_image\n",
    "from IPython.display import display\n",
    "\n",
    "#from utils.demo_util import get_shape_comp_model, get_shape_comp_opt, make_dummy_batch\n",
    "#from utils.qual_util import load_bert2vqsc_model, get_lang_prob, save_mesh_as_gif\n",
    "from utils.qual_util import get_lang_prob, save_mesh_as_gif\n",
    "from utils.util import seed_everything\n",
    "from utils.util_3d import init_mesh_renderer, sdf_to_mesh\n",
    "import os\n",
    "from termcolor import colored, cprint\n",
    "import torch\n",
    "import utils.util as util\n",
    "from tqdm.notebook import tqdm\n",
    "from datasets.text2shape import  Text2Shape\n",
    "\n",
    "\n",
    "from datasets.text2shapepp_dataset import  Text2ShapePP\n",
    "\n",
    "\n",
    "%reload_ext autoreload\n",
    "%autoreload 2"
   ]
  },
  {
   "cell_type": "code",
   "execution_count": 74,
   "id": "99e21afb",
   "metadata": {},
   "outputs": [
    {
     "name": "stdout",
     "output_type": "stream",
     "text": [
      "class\n"
     ]
    }
   ],
   "source": [
    "class Opt():\n",
    "    print(\"class\")\n",
    "    \n",
    "def get_shape_comp_opt(gpu_id=0):\n",
    "    opt = Opt()\n",
    "\n",
    "    # args\n",
    "    gpuid=[gpu_id]\n",
    "    batch_size=16\n",
    "    max_dataset_size=64\n",
    "\n",
    "    name='new_bert_overfit'\n",
    "\n",
    "    # default args\n",
    "    opt.serial_batches = False\n",
    "    opt.nThreads = 4\n",
    "\n",
    "    # important args\n",
    "    opt.dataset_mode = 'shapenet_code'\n",
    "    opt.seed = 111\n",
    "    opt.isTrain = True\n",
    "    opt.gpu_ids = gpuid\n",
    "    opt.max_dataset_size=64\n",
    "    opt.device = 'cuda:%s' % gpuid[0]\n",
    "    opt.batch_size = batch_size\n",
    "    opt.max_dataset_size = max_dataset_size\n",
    "    opt.logs_dir=\"logs\"\n",
    "    opt.name = name\n",
    "    opt.lr = 1e-4\n",
    "    opt.save_latest_freq = 1000\n",
    "    opt.print_freq = 300\n",
    "    #utils.util.seed_everything(opt.seed)\n",
    "    opt.phase = 'test'\n",
    "    opt.nepochs = 60\n",
    "    opt.nepochs_decay = 60\n",
    "    return opt\n",
    "opt = get_shape_comp_opt()"
   ]
  },
  {
   "cell_type": "code",
   "execution_count": 75,
   "id": "ecb8a3c5",
   "metadata": {},
   "outputs": [],
   "source": [
    "\n",
    "\n",
    "dataset = Text2Shape()\n",
    "#opt = Opt()\n",
    "\n",
    "dataset.initialize(opt)"
   ]
  },
  {
   "cell_type": "code",
   "execution_count": 71,
   "id": "8ee5bee5",
   "metadata": {},
   "outputs": [
    {
     "data": {
      "text/plain": [
       "64"
      ]
     },
     "execution_count": 71,
     "metadata": {},
     "output_type": "execute_result"
    }
   ],
   "source": [
    "len(dataset)"
   ]
  },
  {
   "cell_type": "code",
   "execution_count": 48,
   "id": "0ca804c0",
   "metadata": {},
   "outputs": [
    {
     "data": {
      "application/vnd.jupyter.widget-view+json": {
       "model_id": "b838843fae0d4bf1b01aadc3e9543eb5",
       "version_major": 2,
       "version_minor": 0
      },
      "text/plain": [
       "  0%|          | 0/64 [00:00<?, ?it/s]"
      ]
     },
     "metadata": {},
     "output_type": "display_data"
    }
   ],
   "source": [
    "for i in tqdm(range(len(dataset))):\n",
    "    dataset[i]"
   ]
  },
  {
   "cell_type": "code",
   "execution_count": 30,
   "id": "63851a4d",
   "metadata": {},
   "outputs": [
    {
     "data": {
      "text/plain": [
       "'and rocking feet'"
      ]
     },
     "execution_count": 30,
     "metadata": {},
     "output_type": "execute_result"
    }
   ],
   "source": [
    "dataset[19][\"current_text\"]"
   ]
  },
  {
   "cell_type": "code",
   "execution_count": 31,
   "id": "8c71e80e",
   "metadata": {},
   "outputs": [
    {
     "data": {
      "text/plain": [
       "SentenceTransformer(\n",
       "  (0): Transformer({'max_seq_length': 256, 'do_lower_case': False}) with Transformer model: BertModel \n",
       "  (1): Pooling({'word_embedding_dimension': 384, 'pooling_mode_cls_token': False, 'pooling_mode_mean_tokens': True, 'pooling_mode_max_tokens': False, 'pooling_mode_mean_sqrt_len_tokens': False})\n",
       "  (2): Normalize()\n",
       ")"
      ]
     },
     "execution_count": 31,
     "metadata": {},
     "output_type": "execute_result"
    }
   ],
   "source": [
    "from sentence_transformers import SentenceTransformer\n",
    "model = SentenceTransformer('all-MiniLM-L6-v2')\n",
    "\n",
    "text1 = \"thin legs\"\n",
    "text2 = \"round arms\"\n",
    "# tokenized1 = tokenizer(text1,return_tensors='pt',padding=True)\n",
    "# x = bertmodel(**tokenized1).pooler_output\n",
    "# x.shape\n",
    "# tokenized2 = tokenizer(text2,return_tensors='pt',padding=True)\n",
    "# x2 = bertmodel(**tokenized2).pooler_output\n",
    "# x2.shape\n",
    "x1 = model.encode(text1)\n",
    "x2 = model.encode(text2)\n",
    "x1.shape\n",
    "x2.shape\n",
    "model.eval()\n",
    "\n"
   ]
  },
  {
   "cell_type": "code",
   "execution_count": 147,
   "id": "e8e12f6c",
   "metadata": {},
   "outputs": [],
   "source": [
    "cos = torch.nn.CosineSimilarity(dim=0)"
   ]
  },
  {
   "cell_type": "code",
   "execution_count": 148,
   "id": "88ec8ce3",
   "metadata": {},
   "outputs": [
    {
     "data": {
      "text/plain": [
       "tensor(0.4562)"
      ]
     },
     "execution_count": 148,
     "metadata": {},
     "output_type": "execute_result"
    }
   ],
   "source": [
    "cos(torch.Tensor(x1),torch.Tensor(x2))"
   ]
  },
  {
   "cell_type": "code",
   "execution_count": 18,
   "id": "d2f3c8f8",
   "metadata": {},
   "outputs": [],
   "source": [
    "from models.bert2vq_scmodel import BERT2VQSCModel"
   ]
  },
  {
   "cell_type": "code",
   "execution_count": 81,
   "id": "3250e9d4",
   "metadata": {},
   "outputs": [
    {
     "name": "stdout",
     "output_type": "stream",
     "text": [
      "---------- Networks initialized -------------\n",
      "-----------------------------------------------\n"
     ]
    }
   ],
   "source": [
    "m = BERT2VQSCModel()\n",
    "m.initialize(opt)"
   ]
  },
  {
   "cell_type": "code",
   "execution_count": 122,
   "id": "b88a3dfe",
   "metadata": {},
   "outputs": [],
   "source": [
    "# data = dataset[4]\n",
    "# data2 = dataset[2]\n",
    "# data[\"z_set_prev\"] = data[\"z_set_prev\"].unsqueeze(0)\n",
    "# data[\"z_set_target\"] = data[\"z_set_target\"].unsqueeze(0)\n",
    "# data[\"current_text\"] = [data[\"current_text\"]]\n"
   ]
  },
  {
   "cell_type": "code",
   "execution_count": 50,
   "id": "0c8d3a33",
   "metadata": {},
   "outputs": [
    {
     "ename": "NameError",
     "evalue": "name 'data' is not defined",
     "output_type": "error",
     "traceback": [
      "\u001b[0;31m---------------------------------------------------------------------------\u001b[0m",
      "\u001b[0;31mNameError\u001b[0m                                 Traceback (most recent call last)",
      "\u001b[0;32m/tmp/ipykernel_3827458/2368542729.py\u001b[0m in \u001b[0;36m<cell line: 1>\u001b[0;34m()\u001b[0m\n\u001b[0;32m----> 1\u001b[0;31m \u001b[0mm\u001b[0m\u001b[0;34m.\u001b[0m\u001b[0mset_input\u001b[0m\u001b[0;34m(\u001b[0m\u001b[0mdata\u001b[0m\u001b[0;34m)\u001b[0m\u001b[0;34m\u001b[0m\u001b[0;34m\u001b[0m\u001b[0m\n\u001b[0m\u001b[1;32m      2\u001b[0m \u001b[0mm\u001b[0m\u001b[0;34m.\u001b[0m\u001b[0mforward\u001b[0m\u001b[0;34m(\u001b[0m\u001b[0;34m)\u001b[0m\u001b[0;34m\u001b[0m\u001b[0;34m\u001b[0m\u001b[0m\n",
      "\u001b[0;31mNameError\u001b[0m: name 'data' is not defined"
     ]
    }
   ],
   "source": [
    "m.set_input(data)\n",
    "m.forward()"
   ]
  },
  {
   "cell_type": "code",
   "execution_count": 125,
   "id": "e8fb257a",
   "metadata": {},
   "outputs": [],
   "source": [
    "m.backward()"
   ]
  },
  {
   "cell_type": "code",
   "execution_count": 10,
   "id": "cebaf816",
   "metadata": {},
   "outputs": [
    {
     "data": {
      "text/plain": [
       "torch.Size([8, 8, 8, 512])"
      ]
     },
     "execution_count": 10,
     "metadata": {},
     "output_type": "execute_result"
    }
   ],
   "source": [
    "x = dataset[0][\"z_set_prev\"].shape\n",
    "y = dataset[3][\"z_set_prev\"].shape\n",
    "x"
   ]
  },
  {
   "cell_type": "code",
   "execution_count": 11,
   "id": "c7f096d5",
   "metadata": {},
   "outputs": [
    {
     "ename": "AttributeError",
     "evalue": "'int' object has no attribute 'shape'",
     "output_type": "error",
     "traceback": [
      "\u001b[0;31m---------------------------------------------------------------------------\u001b[0m",
      "\u001b[0;31mAttributeError\u001b[0m                            Traceback (most recent call last)",
      "\u001b[0;32m/tmp/ipykernel_3827458/170572140.py\u001b[0m in \u001b[0;36m<cell line: 1>\u001b[0;34m()\u001b[0m\n\u001b[0;32m----> 1\u001b[0;31m \u001b[0mx\u001b[0m\u001b[0;34m[\u001b[0m\u001b[0mx\u001b[0m\u001b[0;34m!=\u001b[0m\u001b[0;36m0\u001b[0m\u001b[0;34m]\u001b[0m\u001b[0;34m.\u001b[0m\u001b[0mshape\u001b[0m\u001b[0;34m\u001b[0m\u001b[0;34m\u001b[0m\u001b[0m\n\u001b[0m",
      "\u001b[0;31mAttributeError\u001b[0m: 'int' object has no attribute 'shape'"
     ]
    }
   ],
   "source": [
    "x[x!=0].shape"
   ]
  },
  {
   "cell_type": "code",
   "execution_count": 77,
   "id": "8f1ecb1d",
   "metadata": {},
   "outputs": [],
   "source": [
    "from torch.utils.data import DataLoader\n",
    "train_dl =  DataLoader(\n",
    "            dataset,\n",
    "            batch_size=opt.batch_size,\n",
    "            shuffle=False,\n",
    "            drop_last=True,\n",
    "            num_workers=0)"
   ]
  },
  {
   "cell_type": "code",
   "execution_count": 82,
   "id": "ce6394db",
   "metadata": {},
   "outputs": [],
   "source": [
    "options=opt\n",
    "model = m\n",
    "def train_one_epoch2(pt_profiler=None,epoch=0):\n",
    "    global total_steps\n",
    "\n",
    "    epoch_iter = 0\n",
    "    for i, data in enumerate(train_dl):\n",
    "        iter_start_time = time.time()\n",
    "        #visualizer.reset()\n",
    "        #import pdb;pdb.set_trace()\n",
    "        total_steps += options.batch_size\n",
    "        epoch_iter += options.batch_size\n",
    "        model.set_input(data)\n",
    "\n",
    "        model.optimize_parameters(total_steps)\n",
    "\n",
    "        nBatches_has_trained = total_steps // options.batch_size\n",
    "        # if total_steps % options.print_freq == 0:\n",
    "\n",
    "        if nBatches_has_trained % options.print_freq == 0:\n",
    "            errors = model.get_current_errors()\n",
    "            #import pdb;pdb.set_trace()\n",
    "            #print(model.loss,\"LOSS\")\n",
    "            t = (time.time() - iter_start_time) / options.batch_size\n",
    "#             visualizer.print_current_errors(\n",
    "#                 epoch, epoch_iter, total_steps, errors, t)\n",
    "\n",
    "        # if (nBatches_has_trained % options.display_freq == 0) or i == 0:\n",
    "        #     # eval\n",
    "        #     model.inference(data)\n",
    "        #     visualizer.display_current_results(\n",
    "        #        model.get_current_visuals(), total_steps, phase='train')\n",
    "\n",
    "        #     #model.set_input(next(test_dg))\n",
    "        #     test_data = next(test_dg)\n",
    "        #     model.inference(test_data.unsqueeze(0))\n",
    "        #     visualizer.display_current_results(\n",
    "        #        model.get_current_visuals(), total_steps, phase='test')\n",
    "\n",
    "#         if total_steps % options.save_latest_freq == 0:\n",
    "#             cprint('saving the latestmodel (epoch %d, total_steps %d)' %\n",
    "#                    (epoch, total_steps), 'blue')\n",
    "#             latest_name = f'epoch-latest'\n",
    "#             model.save(latest_name)\n",
    "\n",
    "        if pt_profiler is not None:\n",
    "            pt_profiler.step()"
   ]
  },
  {
   "cell_type": "code",
   "execution_count": 83,
   "id": "0e8eb468",
   "metadata": {},
   "outputs": [
    {
     "name": "stdout",
     "output_type": "stream",
     "text": [
      "[*] Start training. name: new_bert_overfit\n"
     ]
    },
    {
     "data": {
      "application/vnd.jupyter.widget-view+json": {
       "model_id": "4fb8bb44569e4206ad0e414b7d77aafe",
       "version_major": 2,
       "version_minor": 0
      },
      "text/plain": [
       "  0%|          | 0/120 [00:00<?, ?it/s]"
      ]
     },
     "metadata": {},
     "output_type": "display_data"
    },
    {
     "name": "stdout",
     "output_type": "stream",
     "text": [
      "[*] End of epoch 0 / 120 \t Time Taken: 0 sec \n",
      "/cluster/54/streakfull/ADL4CV/Project/src/plz-autosdf/logs/new_bert_overfit\n",
      "Model Loss: 7531.435546875\n",
      "[*] learning rate = 0.0000100\n",
      "[*] End of epoch 1 / 120 \t Time Taken: 0 sec \n",
      "/cluster/54/streakfull/ADL4CV/Project/src/plz-autosdf/logs/new_bert_overfit\n",
      "Model Loss: 6893.86328125\n",
      "[*] learning rate = 0.0000200\n",
      "[*] End of epoch 2 / 120 \t Time Taken: 0 sec \n",
      "/cluster/54/streakfull/ADL4CV/Project/src/plz-autosdf/logs/new_bert_overfit\n",
      "Model Loss: 5587.81298828125\n",
      "[*] learning rate = 0.0000300\n",
      "[*] End of epoch 3 / 120 \t Time Taken: 0 sec \n",
      "/cluster/54/streakfull/ADL4CV/Project/src/plz-autosdf/logs/new_bert_overfit\n",
      "Model Loss: 4472.67578125\n",
      "[*] learning rate = 0.0000400\n",
      "[*] End of epoch 4 / 120 \t Time Taken: 0 sec \n",
      "/cluster/54/streakfull/ADL4CV/Project/src/plz-autosdf/logs/new_bert_overfit\n",
      "Model Loss: 4286.6630859375\n",
      "[*] learning rate = 0.0000500\n",
      "[*] End of epoch 5 / 120 \t Time Taken: 0 sec \n",
      "/cluster/54/streakfull/ADL4CV/Project/src/plz-autosdf/logs/new_bert_overfit\n",
      "Model Loss: 3904.68701171875\n",
      "[*] learning rate = 0.0000600\n",
      "[*] End of epoch 6 / 120 \t Time Taken: 0 sec \n",
      "/cluster/54/streakfull/ADL4CV/Project/src/plz-autosdf/logs/new_bert_overfit\n",
      "Model Loss: 4002.592529296875\n",
      "[*] learning rate = 0.0000700\n",
      "[*] End of epoch 7 / 120 \t Time Taken: 0 sec \n",
      "/cluster/54/streakfull/ADL4CV/Project/src/plz-autosdf/logs/new_bert_overfit\n",
      "Model Loss: 3956.255126953125\n",
      "[*] learning rate = 0.0000800\n",
      "[*] End of epoch 8 / 120 \t Time Taken: 0 sec \n",
      "/cluster/54/streakfull/ADL4CV/Project/src/plz-autosdf/logs/new_bert_overfit\n",
      "Model Loss: 3993.2236328125\n",
      "[*] learning rate = 0.0000900\n",
      "[*] End of epoch 9 / 120 \t Time Taken: 0 sec \n",
      "/cluster/54/streakfull/ADL4CV/Project/src/plz-autosdf/logs/new_bert_overfit\n",
      "Model Loss: 3841.0771484375\n",
      "[*] learning rate = 0.0001000\n",
      "[*] End of epoch 10 / 120 \t Time Taken: 0 sec \n",
      "/cluster/54/streakfull/ADL4CV/Project/src/plz-autosdf/logs/new_bert_overfit\n",
      "Model Loss: 3979.177734375\n",
      "[*] learning rate = 0.0000953\n",
      "[*] End of epoch 11 / 120 \t Time Taken: 0 sec \n",
      "/cluster/54/streakfull/ADL4CV/Project/src/plz-autosdf/logs/new_bert_overfit\n",
      "Model Loss: 3665.08935546875\n",
      "[*] learning rate = 0.0000913\n",
      "[*] End of epoch 12 / 120 \t Time Taken: 0 sec \n",
      "/cluster/54/streakfull/ADL4CV/Project/src/plz-autosdf/logs/new_bert_overfit\n",
      "Model Loss: 3503.37939453125\n",
      "[*] learning rate = 0.0000877\n",
      "[*] End of epoch 13 / 120 \t Time Taken: 0 sec \n",
      "/cluster/54/streakfull/ADL4CV/Project/src/plz-autosdf/logs/new_bert_overfit\n",
      "Model Loss: 3386.373291015625\n",
      "[*] learning rate = 0.0000845\n",
      "[*] End of epoch 14 / 120 \t Time Taken: 0 sec \n",
      "/cluster/54/streakfull/ADL4CV/Project/src/plz-autosdf/logs/new_bert_overfit\n",
      "Model Loss: 3338.4052734375\n",
      "[*] learning rate = 0.0000816\n",
      "[*] End of epoch 15 / 120 \t Time Taken: 0 sec \n",
      "/cluster/54/streakfull/ADL4CV/Project/src/plz-autosdf/logs/new_bert_overfit\n",
      "Model Loss: 3322.126953125\n",
      "[*] learning rate = 0.0000791\n",
      "[*] End of epoch 16 / 120 \t Time Taken: 0 sec \n",
      "/cluster/54/streakfull/ADL4CV/Project/src/plz-autosdf/logs/new_bert_overfit\n",
      "Model Loss: 3207.60986328125\n",
      "[*] learning rate = 0.0000767\n",
      "[*] End of epoch 17 / 120 \t Time Taken: 0 sec \n",
      "/cluster/54/streakfull/ADL4CV/Project/src/plz-autosdf/logs/new_bert_overfit\n",
      "Model Loss: 3077.7255859375\n",
      "[*] learning rate = 0.0000745\n",
      "[*] End of epoch 18 / 120 \t Time Taken: 0 sec \n",
      "/cluster/54/streakfull/ADL4CV/Project/src/plz-autosdf/logs/new_bert_overfit\n",
      "Model Loss: 2998.04248046875\n",
      "[*] learning rate = 0.0000725\n",
      "[*] End of epoch 19 / 120 \t Time Taken: 0 sec \n",
      "/cluster/54/streakfull/ADL4CV/Project/src/plz-autosdf/logs/new_bert_overfit\n",
      "Model Loss: 2930.3955078125\n",
      "[*] learning rate = 0.0000707\n",
      "[*] End of epoch 20 / 120 \t Time Taken: 0 sec \n",
      "/cluster/54/streakfull/ADL4CV/Project/src/plz-autosdf/logs/new_bert_overfit\n",
      "Model Loss: 2872.421142578125\n",
      "[*] learning rate = 0.0000690\n",
      "[*] End of epoch 21 / 120 \t Time Taken: 0 sec \n",
      "/cluster/54/streakfull/ADL4CV/Project/src/plz-autosdf/logs/new_bert_overfit\n",
      "Model Loss: 2765.1904296875\n",
      "[*] learning rate = 0.0000674\n",
      "[*] End of epoch 22 / 120 \t Time Taken: 0 sec \n",
      "/cluster/54/streakfull/ADL4CV/Project/src/plz-autosdf/logs/new_bert_overfit\n",
      "Model Loss: 2754.96240234375\n",
      "[*] learning rate = 0.0000659\n",
      "[*] End of epoch 23 / 120 \t Time Taken: 0 sec \n",
      "/cluster/54/streakfull/ADL4CV/Project/src/plz-autosdf/logs/new_bert_overfit\n",
      "Model Loss: 2738.26416015625\n",
      "[*] learning rate = 0.0000645\n",
      "[*] End of epoch 24 / 120 \t Time Taken: 0 sec \n",
      "/cluster/54/streakfull/ADL4CV/Project/src/plz-autosdf/logs/new_bert_overfit\n",
      "Model Loss: 2542.3134765625\n",
      "[*] learning rate = 0.0000632\n",
      "[*] End of epoch 25 / 120 \t Time Taken: 0 sec \n",
      "/cluster/54/streakfull/ADL4CV/Project/src/plz-autosdf/logs/new_bert_overfit\n",
      "Model Loss: 2362.907958984375\n",
      "[*] learning rate = 0.0000620\n",
      "[*] End of epoch 26 / 120 \t Time Taken: 0 sec \n",
      "/cluster/54/streakfull/ADL4CV/Project/src/plz-autosdf/logs/new_bert_overfit\n",
      "Model Loss: 2304.49072265625\n",
      "[*] learning rate = 0.0000609\n",
      "[*] End of epoch 27 / 120 \t Time Taken: 0 sec \n",
      "/cluster/54/streakfull/ADL4CV/Project/src/plz-autosdf/logs/new_bert_overfit\n",
      "Model Loss: 2194.62060546875\n",
      "[*] learning rate = 0.0000598\n",
      "[*] End of epoch 28 / 120 \t Time Taken: 0 sec \n",
      "/cluster/54/streakfull/ADL4CV/Project/src/plz-autosdf/logs/new_bert_overfit\n",
      "Model Loss: 2117.812255859375\n",
      "[*] learning rate = 0.0000587\n",
      "[*] End of epoch 29 / 120 \t Time Taken: 0 sec \n",
      "/cluster/54/streakfull/ADL4CV/Project/src/plz-autosdf/logs/new_bert_overfit\n",
      "Model Loss: 2147.445068359375\n",
      "[*] learning rate = 0.0000577\n",
      "[*] End of epoch 30 / 120 \t Time Taken: 0 sec \n",
      "/cluster/54/streakfull/ADL4CV/Project/src/plz-autosdf/logs/new_bert_overfit\n",
      "Model Loss: 2076.0625\n",
      "[*] learning rate = 0.0000568\n",
      "[*] End of epoch 31 / 120 \t Time Taken: 0 sec \n",
      "/cluster/54/streakfull/ADL4CV/Project/src/plz-autosdf/logs/new_bert_overfit\n",
      "Model Loss: 2026.445556640625\n",
      "[*] learning rate = 0.0000559\n",
      "[*] End of epoch 32 / 120 \t Time Taken: 0 sec \n",
      "/cluster/54/streakfull/ADL4CV/Project/src/plz-autosdf/logs/new_bert_overfit\n",
      "Model Loss: 1927.75439453125\n",
      "[*] learning rate = 0.0000550\n",
      "[*] End of epoch 33 / 120 \t Time Taken: 0 sec \n",
      "/cluster/54/streakfull/ADL4CV/Project/src/plz-autosdf/logs/new_bert_overfit\n",
      "Model Loss: 1857.27294921875\n",
      "[*] learning rate = 0.0000542\n",
      "[*] End of epoch 34 / 120 \t Time Taken: 0 sec \n",
      "/cluster/54/streakfull/ADL4CV/Project/src/plz-autosdf/logs/new_bert_overfit\n",
      "Model Loss: 1808.8275146484375\n",
      "[*] learning rate = 0.0000535\n",
      "[*] End of epoch 35 / 120 \t Time Taken: 0 sec \n",
      "/cluster/54/streakfull/ADL4CV/Project/src/plz-autosdf/logs/new_bert_overfit\n",
      "Model Loss: 1806.7978515625\n",
      "[*] learning rate = 0.0000527\n",
      "[*] End of epoch 36 / 120 \t Time Taken: 0 sec \n",
      "/cluster/54/streakfull/ADL4CV/Project/src/plz-autosdf/logs/new_bert_overfit\n",
      "Model Loss: 1579.093017578125\n",
      "[*] learning rate = 0.0000520\n",
      "[*] End of epoch 37 / 120 \t Time Taken: 0 sec \n",
      "/cluster/54/streakfull/ADL4CV/Project/src/plz-autosdf/logs/new_bert_overfit\n",
      "Model Loss: 1546.875732421875\n",
      "[*] learning rate = 0.0000513\n",
      "[*] End of epoch 38 / 120 \t Time Taken: 0 sec \n",
      "/cluster/54/streakfull/ADL4CV/Project/src/plz-autosdf/logs/new_bert_overfit\n",
      "Model Loss: 1478.6585693359375\n",
      "[*] learning rate = 0.0000506\n",
      "[*] End of epoch 39 / 120 \t Time Taken: 0 sec \n",
      "/cluster/54/streakfull/ADL4CV/Project/src/plz-autosdf/logs/new_bert_overfit\n",
      "Model Loss: 1353.91552734375\n",
      "[*] learning rate = 0.0000500\n",
      "[*] End of epoch 40 / 120 \t Time Taken: 0 sec \n",
      "/cluster/54/streakfull/ADL4CV/Project/src/plz-autosdf/logs/new_bert_overfit\n",
      "Model Loss: 1323.4515380859375\n",
      "[*] learning rate = 0.0000494\n",
      "[*] End of epoch 41 / 120 \t Time Taken: 0 sec \n",
      "/cluster/54/streakfull/ADL4CV/Project/src/plz-autosdf/logs/new_bert_overfit\n",
      "Model Loss: 1151.729248046875\n",
      "[*] learning rate = 0.0000488\n",
      "[*] End of epoch 42 / 120 \t Time Taken: 0 sec \n",
      "/cluster/54/streakfull/ADL4CV/Project/src/plz-autosdf/logs/new_bert_overfit\n",
      "Model Loss: 1040.7166748046875\n",
      "[*] learning rate = 0.0000482\n",
      "[*] End of epoch 43 / 120 \t Time Taken: 0 sec \n",
      "/cluster/54/streakfull/ADL4CV/Project/src/plz-autosdf/logs/new_bert_overfit\n",
      "Model Loss: 1013.3143310546875\n",
      "[*] learning rate = 0.0000477\n",
      "[*] End of epoch 44 / 120 \t Time Taken: 0 sec \n",
      "/cluster/54/streakfull/ADL4CV/Project/src/plz-autosdf/logs/new_bert_overfit\n",
      "Model Loss: 887.53662109375\n",
      "[*] learning rate = 0.0000471\n",
      "[*] End of epoch 45 / 120 \t Time Taken: 0 sec \n",
      "/cluster/54/streakfull/ADL4CV/Project/src/plz-autosdf/logs/new_bert_overfit\n",
      "Model Loss: 833.767822265625\n",
      "[*] learning rate = 0.0000466\n"
     ]
    },
    {
     "name": "stdout",
     "output_type": "stream",
     "text": [
      "[*] End of epoch 46 / 120 \t Time Taken: 0 sec \n",
      "/cluster/54/streakfull/ADL4CV/Project/src/plz-autosdf/logs/new_bert_overfit\n",
      "Model Loss: 739.411865234375\n",
      "[*] learning rate = 0.0000461\n",
      "[*] End of epoch 47 / 120 \t Time Taken: 0 sec \n",
      "/cluster/54/streakfull/ADL4CV/Project/src/plz-autosdf/logs/new_bert_overfit\n",
      "Model Loss: 691.4695434570312\n",
      "[*] learning rate = 0.0000456\n",
      "[*] End of epoch 48 / 120 \t Time Taken: 0 sec \n",
      "/cluster/54/streakfull/ADL4CV/Project/src/plz-autosdf/logs/new_bert_overfit\n",
      "Model Loss: 636.33984375\n",
      "[*] learning rate = 0.0000452\n",
      "[*] End of epoch 49 / 120 \t Time Taken: 0 sec \n",
      "/cluster/54/streakfull/ADL4CV/Project/src/plz-autosdf/logs/new_bert_overfit\n",
      "Model Loss: 635.6792602539062\n",
      "[*] learning rate = 0.0000447\n",
      "[*] End of epoch 50 / 120 \t Time Taken: 0 sec \n",
      "/cluster/54/streakfull/ADL4CV/Project/src/plz-autosdf/logs/new_bert_overfit\n",
      "Model Loss: 678.423095703125\n",
      "[*] learning rate = 0.0000443\n",
      "[*] End of epoch 51 / 120 \t Time Taken: 0 sec \n",
      "/cluster/54/streakfull/ADL4CV/Project/src/plz-autosdf/logs/new_bert_overfit\n",
      "Model Loss: 651.5479736328125\n",
      "[*] learning rate = 0.0000439\n",
      "[*] End of epoch 52 / 120 \t Time Taken: 0 sec \n",
      "/cluster/54/streakfull/ADL4CV/Project/src/plz-autosdf/logs/new_bert_overfit\n",
      "Model Loss: 549.7855224609375\n",
      "[*] learning rate = 0.0000434\n",
      "[*] End of epoch 53 / 120 \t Time Taken: 0 sec \n",
      "/cluster/54/streakfull/ADL4CV/Project/src/plz-autosdf/logs/new_bert_overfit\n",
      "Model Loss: 517.6293334960938\n",
      "[*] learning rate = 0.0000430\n",
      "[*] End of epoch 54 / 120 \t Time Taken: 0 sec \n",
      "/cluster/54/streakfull/ADL4CV/Project/src/plz-autosdf/logs/new_bert_overfit\n",
      "Model Loss: 492.37225341796875\n",
      "[*] learning rate = 0.0000426\n",
      "[*] End of epoch 55 / 120 \t Time Taken: 0 sec \n",
      "/cluster/54/streakfull/ADL4CV/Project/src/plz-autosdf/logs/new_bert_overfit\n",
      "Model Loss: 452.2869567871094\n",
      "[*] learning rate = 0.0000423\n",
      "[*] End of epoch 56 / 120 \t Time Taken: 0 sec \n",
      "/cluster/54/streakfull/ADL4CV/Project/src/plz-autosdf/logs/new_bert_overfit\n",
      "Model Loss: 433.95452880859375\n",
      "[*] learning rate = 0.0000419\n",
      "[*] End of epoch 57 / 120 \t Time Taken: 0 sec \n",
      "/cluster/54/streakfull/ADL4CV/Project/src/plz-autosdf/logs/new_bert_overfit\n",
      "Model Loss: 407.4292907714844\n",
      "[*] learning rate = 0.0000415\n",
      "[*] End of epoch 58 / 120 \t Time Taken: 0 sec \n",
      "/cluster/54/streakfull/ADL4CV/Project/src/plz-autosdf/logs/new_bert_overfit\n",
      "Model Loss: 385.37451171875\n",
      "[*] learning rate = 0.0000412\n",
      "[*] End of epoch 59 / 120 \t Time Taken: 0 sec \n",
      "/cluster/54/streakfull/ADL4CV/Project/src/plz-autosdf/logs/new_bert_overfit\n",
      "Model Loss: 371.04620361328125\n",
      "[*] learning rate = 0.0000408\n",
      "[*] End of epoch 60 / 120 \t Time Taken: 0 sec \n",
      "/cluster/54/streakfull/ADL4CV/Project/src/plz-autosdf/logs/new_bert_overfit\n",
      "Model Loss: 352.9151611328125\n",
      "[*] learning rate = 0.0000405\n",
      "[*] End of epoch 61 / 120 \t Time Taken: 0 sec \n",
      "/cluster/54/streakfull/ADL4CV/Project/src/plz-autosdf/logs/new_bert_overfit\n",
      "Model Loss: 337.16436767578125\n",
      "[*] learning rate = 0.0000402\n",
      "[*] End of epoch 62 / 120 \t Time Taken: 0 sec \n",
      "/cluster/54/streakfull/ADL4CV/Project/src/plz-autosdf/logs/new_bert_overfit\n",
      "Model Loss: 324.38348388671875\n",
      "[*] learning rate = 0.0000398\n",
      "[*] End of epoch 63 / 120 \t Time Taken: 0 sec \n",
      "/cluster/54/streakfull/ADL4CV/Project/src/plz-autosdf/logs/new_bert_overfit\n",
      "Model Loss: 311.89483642578125\n",
      "[*] learning rate = 0.0000395\n",
      "[*] End of epoch 64 / 120 \t Time Taken: 0 sec \n",
      "/cluster/54/streakfull/ADL4CV/Project/src/plz-autosdf/logs/new_bert_overfit\n",
      "Model Loss: 306.4548645019531\n",
      "[*] learning rate = 0.0000392\n",
      "[*] End of epoch 65 / 120 \t Time Taken: 0 sec \n",
      "/cluster/54/streakfull/ADL4CV/Project/src/plz-autosdf/logs/new_bert_overfit\n",
      "Model Loss: 296.5093688964844\n",
      "[*] learning rate = 0.0000389\n",
      "[*] End of epoch 66 / 120 \t Time Taken: 0 sec \n",
      "/cluster/54/streakfull/ADL4CV/Project/src/plz-autosdf/logs/new_bert_overfit\n",
      "Model Loss: 295.428955078125\n",
      "[*] learning rate = 0.0000386\n",
      "[*] End of epoch 67 / 120 \t Time Taken: 0 sec \n",
      "/cluster/54/streakfull/ADL4CV/Project/src/plz-autosdf/logs/new_bert_overfit\n",
      "Model Loss: 288.6631774902344\n",
      "[*] learning rate = 0.0000383\n",
      "[*] End of epoch 68 / 120 \t Time Taken: 0 sec \n",
      "/cluster/54/streakfull/ADL4CV/Project/src/plz-autosdf/logs/new_bert_overfit\n",
      "Model Loss: 280.4232177734375\n",
      "[*] learning rate = 0.0000381\n",
      "[*] End of epoch 69 / 120 \t Time Taken: 0 sec \n",
      "/cluster/54/streakfull/ADL4CV/Project/src/plz-autosdf/logs/new_bert_overfit\n",
      "Model Loss: 278.9322509765625\n",
      "[*] learning rate = 0.0000378\n",
      "[*] End of epoch 70 / 120 \t Time Taken: 0 sec \n",
      "/cluster/54/streakfull/ADL4CV/Project/src/plz-autosdf/logs/new_bert_overfit\n",
      "Model Loss: 270.5680847167969\n",
      "[*] learning rate = 0.0000375\n",
      "[*] End of epoch 71 / 120 \t Time Taken: 0 sec \n",
      "/cluster/54/streakfull/ADL4CV/Project/src/plz-autosdf/logs/new_bert_overfit\n",
      "Model Loss: 268.40484619140625\n",
      "[*] learning rate = 0.0000373\n",
      "[*] End of epoch 72 / 120 \t Time Taken: 0 sec \n",
      "/cluster/54/streakfull/ADL4CV/Project/src/plz-autosdf/logs/new_bert_overfit\n",
      "Model Loss: 265.47509765625\n",
      "[*] learning rate = 0.0000370\n",
      "[*] End of epoch 73 / 120 \t Time Taken: 0 sec \n",
      "/cluster/54/streakfull/ADL4CV/Project/src/plz-autosdf/logs/new_bert_overfit\n",
      "Model Loss: 264.54248046875\n",
      "[*] learning rate = 0.0000368\n"
     ]
    },
    {
     "ename": "NameError",
     "evalue": "name 'visualizer' is not defined",
     "output_type": "error",
     "traceback": [
      "\u001b[0;31m---------------------------------------------------------------------------\u001b[0m",
      "\u001b[0;31mNameError\u001b[0m                                 Traceback (most recent call last)",
      "\u001b[0;32m/tmp/ipykernel_3827458/198935842.py\u001b[0m in \u001b[0;36m<cell line: 4>\u001b[0;34m()\u001b[0m\n\u001b[1;32m      7\u001b[0m \u001b[0;34m\u001b[0m\u001b[0m\n\u001b[1;32m      8\u001b[0m     \u001b[0;31m# profile\u001b[0m\u001b[0;34m\u001b[0m\u001b[0;34m\u001b[0m\u001b[0;34m\u001b[0m\u001b[0m\n\u001b[0;32m----> 9\u001b[0;31m     \u001b[0mtrain_one_epoch2\u001b[0m\u001b[0;34m(\u001b[0m\u001b[0;32mNone\u001b[0m\u001b[0;34m,\u001b[0m\u001b[0mepoch\u001b[0m\u001b[0;34m)\u001b[0m\u001b[0;34m\u001b[0m\u001b[0;34m\u001b[0m\u001b[0m\n\u001b[0m\u001b[1;32m     10\u001b[0m \u001b[0;34m\u001b[0m\u001b[0m\n\u001b[1;32m     11\u001b[0m \u001b[0;31m#     if epoch % 100000 == 0:\u001b[0m\u001b[0;34m\u001b[0m\u001b[0;34m\u001b[0m\u001b[0;34m\u001b[0m\u001b[0m\n",
      "\u001b[0;32m/tmp/ipykernel_3827458/21566910.py\u001b[0m in \u001b[0;36mtrain_one_epoch2\u001b[0;34m(pt_profiler, epoch)\u001b[0m\n\u001b[1;32m     23\u001b[0m             \u001b[0;31m#print(model.loss,\"LOSS\")\u001b[0m\u001b[0;34m\u001b[0m\u001b[0;34m\u001b[0m\u001b[0;34m\u001b[0m\u001b[0m\n\u001b[1;32m     24\u001b[0m             \u001b[0mt\u001b[0m \u001b[0;34m=\u001b[0m \u001b[0;34m(\u001b[0m\u001b[0mtime\u001b[0m\u001b[0;34m.\u001b[0m\u001b[0mtime\u001b[0m\u001b[0;34m(\u001b[0m\u001b[0;34m)\u001b[0m \u001b[0;34m-\u001b[0m \u001b[0miter_start_time\u001b[0m\u001b[0;34m)\u001b[0m \u001b[0;34m/\u001b[0m \u001b[0moptions\u001b[0m\u001b[0;34m.\u001b[0m\u001b[0mbatch_size\u001b[0m\u001b[0;34m\u001b[0m\u001b[0;34m\u001b[0m\u001b[0m\n\u001b[0;32m---> 25\u001b[0;31m             visualizer.print_current_errors(\n\u001b[0m\u001b[1;32m     26\u001b[0m                 epoch, epoch_iter, total_steps, errors, t)\n\u001b[1;32m     27\u001b[0m \u001b[0;34m\u001b[0m\u001b[0m\n",
      "\u001b[0;31mNameError\u001b[0m: name 'visualizer' is not defined"
     ]
    }
   ],
   "source": [
    "import time\n",
    "cprint('[*] Start training. name: %s' % options.name, 'blue')\n",
    "total_steps = 0\n",
    "for epoch in tqdm(range(options.nepochs + options.nepochs_decay)):\n",
    "    epoch_start_time = time.time()\n",
    "    # epoch_iter = 0\n",
    "\n",
    "    # profile\n",
    "    train_one_epoch2(None,epoch)\n",
    "\n",
    "#     if epoch % 100000 == 0:\n",
    "#         cprint('saving the model at the end of epoch %d, iters %d' %\n",
    "#                (epoch, total_steps), 'blue')\n",
    "#         latest_name = f'epoch-latest'\n",
    "#         model.save(latest_name)\n",
    "#         cur_name = f'epoch-{epoch}'\n",
    "#         model.save(cur_name)\n",
    "\n",
    "    cprint(f'[*] End of epoch %d / %d \\t Time Taken: %d sec \\n%s' %\n",
    "           (\n",
    "               epoch, options.nepochs + options.nepochs_decay,\n",
    "               time.time() - epoch_start_time,\n",
    "               os.path.abspath(os.path.join(options.logs_dir, options.name))\n",
    "           ), 'blue', attrs=['bold']\n",
    "           )\n",
    "    #import pdb;pdb.set_trace()\n",
    "    print(\"Model Loss:\", m.loss.item())\n",
    "    model.update_learning_rate()\n"
   ]
  },
  {
   "cell_type": "code",
   "execution_count": null,
   "id": "6df23d0b",
   "metadata": {},
   "outputs": [],
   "source": []
  }
 ],
 "metadata": {
  "kernelspec": {
   "display_name": "Python 3 (ipykernel)",
   "language": "python",
   "name": "python3"
  },
  "language_info": {
   "codemirror_mode": {
    "name": "ipython",
    "version": 3
   },
   "file_extension": ".py",
   "mimetype": "text/x-python",
   "name": "python",
   "nbconvert_exporter": "python",
   "pygments_lexer": "ipython3",
   "version": "3.8.10"
  }
 },
 "nbformat": 4,
 "nbformat_minor": 5
}
