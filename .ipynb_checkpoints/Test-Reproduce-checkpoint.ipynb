{
 "cells": [
  {
   "cell_type": "code",
   "execution_count": 2,
   "id": "08abafac",
   "metadata": {},
   "outputs": [
    {
     "name": "stdout",
     "output_type": "stream",
     "text": [
      "The autoreload extension is already loaded. To reload it, use:\n",
      "  %reload_ext autoreload\n"
     ]
    }
   ],
   "source": [
    "from datasets.sc_snet_code_dataset import ScSnetCodeDataset\n",
    "%load_ext autoreload\n",
    "%autoreload 2\n",
    "from options.train_options import TrainOptions\n",
    "from tqdm.notebook import tqdm\n",
    "from datasets.ys_shapeset import ShapeNetZSets\n",
    "from torch.utils.tensorboard import SummaryWriter\n",
    "import subprocess\n",
    "import torch"
   ]
  },
  {
   "cell_type": "code",
   "execution_count": null,
   "id": "e0da3edf",
   "metadata": {},
   "outputs": [],
   "source": [
    "opt = TrainOptions()\n",
    "opt.phase = 'train'\n",
    "opt.max_dataset_size=10000000\n",
    "\n",
    "dataset = ScSnetCodeDataset()\n",
    "dataset.initialize(opt)"
   ]
  },
  {
   "cell_type": "code",
   "execution_count": null,
   "id": "b0885a16",
   "metadata": {},
   "outputs": [],
   "source": [
    "ds = ShapeNetZSets(isTrain = True)\n",
    "\n",
    "train_dl = torch.utils.data.DataLoader(\n",
    "            ds,\n",
    "            batch_size=24,\n",
    "            shuffle=True,\n",
    "            drop_last=True,\n",
    "            num_workers=1)\n"
   ]
  },
  {
   "cell_type": "code",
   "execution_count": null,
   "id": "0d626ad7",
   "metadata": {},
   "outputs": [],
   "source": [
    "rc = subprocess.call(\"./launchers/train_rand_tf_snet_code.sh\", shell=True)"
   ]
  },
  {
   "cell_type": "code",
   "execution_count": null,
   "id": "6cd3131d",
   "metadata": {},
   "outputs": [],
   "source": []
  }
 ],
 "metadata": {
  "kernelspec": {
   "display_name": "Python 3 (ipykernel)",
   "language": "python",
   "name": "python3"
  },
  "language_info": {
   "codemirror_mode": {
    "name": "ipython",
    "version": 3
   },
   "file_extension": ".py",
   "mimetype": "text/x-python",
   "name": "python",
   "nbconvert_exporter": "python",
   "pygments_lexer": "ipython3",
   "version": "3.8.10"
  }
 },
 "nbformat": 4,
 "nbformat_minor": 5
}
