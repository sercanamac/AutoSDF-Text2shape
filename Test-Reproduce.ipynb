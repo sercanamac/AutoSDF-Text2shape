{
 "cells": [
  {
   "cell_type": "code",
   "execution_count": 2,
   "id": "08abafac",
   "metadata": {},
   "outputs": [],
   "source": [
    "from datasets.sc_snet_code_dataset import ScSnetCodeDataset\n",
    "%load_ext autoreload\n",
    "%autoreload 2\n",
    "from options.train_options import TrainOptions\n",
    "from tqdm.notebook import tqdm\n",
    "from datasets.ys_shapeset import ShapeNetZSets\n",
    "from torch.utils.tensorboard import SummaryWriter\n",
    "import subprocess\n",
    "import torch"
   ]
  },
  {
   "cell_type": "code",
   "execution_count": 2,
   "id": "83987d08",
   "metadata": {},
   "outputs": [
    {
     "data": {
      "text/plain": [
       "433344"
      ]
     },
     "execution_count": 2,
     "metadata": {},
     "output_type": "execute_result"
    }
   ],
   "source": [
    "433344"
   ]
  },
  {
   "cell_type": "code",
   "execution_count": 5,
   "id": "b0885a16",
   "metadata": {},
   "outputs": [],
   "source": [
    "ds = ShapeNetZSets(isTrain = True)\n",
    "\n",
    "train_dl = torch.utils.data.DataLoader(\n",
    "            ds,\n",
    "            batch_size=24,\n",
    "            shuffle=True,\n",
    "            drop_last=True,\n",
    "            num_workers=1)\n"
   ]
  },
  {
   "cell_type": "code",
   "execution_count": 1,
   "id": "0d626ad7",
   "metadata": {},
   "outputs": [
    {
     "ename": "NameError",
     "evalue": "name 'subprocess' is not defined",
     "output_type": "error",
     "traceback": [
      "\u001b[0;31m---------------------------------------------------------------------------\u001b[0m",
      "\u001b[0;31mNameError\u001b[0m                                 Traceback (most recent call last)",
      "\u001b[0;32m/tmp/ipykernel_3828875/1349841514.py\u001b[0m in \u001b[0;36m<cell line: 1>\u001b[0;34m()\u001b[0m\n\u001b[0;32m----> 1\u001b[0;31m \u001b[0mrc\u001b[0m \u001b[0;34m=\u001b[0m \u001b[0msubprocess\u001b[0m\u001b[0;34m.\u001b[0m\u001b[0mcall\u001b[0m\u001b[0;34m(\u001b[0m\u001b[0;34m\"./launchers/train_rand_tf_snet_code.sh\"\u001b[0m\u001b[0;34m,\u001b[0m \u001b[0mshell\u001b[0m\u001b[0;34m=\u001b[0m\u001b[0;32mTrue\u001b[0m\u001b[0;34m)\u001b[0m\u001b[0;34m\u001b[0m\u001b[0;34m\u001b[0m\u001b[0m\n\u001b[0m",
      "\u001b[0;31mNameError\u001b[0m: name 'subprocess' is not defined"
     ]
    }
   ],
   "source": [
    "rc = subprocess.call(\"./launchers/train_rand_tf_snet_code.sh\", shell=True)"
   ]
  },
  {
   "cell_type": "code",
   "execution_count": 8,
   "id": "6cd3131d",
   "metadata": {},
   "outputs": [
    {
     "name": "stdout",
     "output_type": "stream",
     "text": [
      "autosdf.yaml\t\t      launchers\r\n",
      "configs\t\t\t      logs\r\n",
      "datasets\t\t      models\r\n",
      "demo_data\t\t      options\r\n",
      "demo-lang-conditional.ipynb   preprocess\r\n",
      "demo_lang_text2shapepp.ipynb  README.md\r\n",
      "demo_shape_comp.ipynb\t      results\r\n",
      "demo_single_view_recon.ipynb  Test-Reproduce.ipynb\r\n",
      "extract_code.py\t\t      train.py\r\n",
      "filelists\t\t      utils\r\n",
      "info-shapenet.json\r\n"
     ]
    }
   ],
   "source": [
    "!ls"
   ]
  },
  {
   "cell_type": "code",
   "execution_count": null,
   "id": "fb05391f",
   "metadata": {},
   "outputs": [],
   "source": []
  }
 ],
 "metadata": {
  "kernelspec": {
   "display_name": "Python 3 (ipykernel)",
   "language": "python",
   "name": "python3"
  },
  "language_info": {
   "codemirror_mode": {
    "name": "ipython",
    "version": 3
   },
   "file_extension": ".py",
   "mimetype": "text/x-python",
   "name": "python",
   "nbconvert_exporter": "python",
   "pygments_lexer": "ipython3",
   "version": "3.8.10"
  }
 },
 "nbformat": 4,
 "nbformat_minor": 5
}
