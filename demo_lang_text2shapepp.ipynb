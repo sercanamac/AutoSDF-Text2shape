{
 "cells": [
  {
   "cell_type": "code",
   "execution_count": 1,
   "metadata": {},
   "outputs": [],
   "source": [
    "import os\n",
    "from IPython.display import Image as ipy_image\n",
    "from IPython.display import display\n",
    "\n",
    "from utils.demo_util import get_shape_comp_model, get_shape_comp_opt, make_dummy_batch\n",
    "from utils.qual_util import load_bert2vqsc_model, get_lang_prob, save_mesh_as_gif\n",
    "from utils.util import seed_everything\n",
    "from utils.util_3d import init_mesh_renderer, sdf_to_mesh\n",
    "\n",
    "%reload_ext autoreload\n",
    "%autoreload 2"
   ]
  },
  {
   "cell_type": "code",
   "execution_count": 2,
   "metadata": {},
   "outputs": [],
   "source": [
    "seed_everything(111)\n",
    "\n",
    "res_dir = 'results'\n",
    "if not os.path.exists(res_dir): os.makedirs(res_dir)\n",
    "\n",
    "gpu_id = 0\n",
    "nimgs=6"
   ]
  },
  {
   "cell_type": "code",
   "execution_count": 4,
   "metadata": {},
   "outputs": [
    {
     "name": "stdout",
     "output_type": "stream",
     "text": [
      "[*] Enc has Attn at i_level, i_block: 3, 0\n",
      "Working with z of shape (1, 256, 8, 8, 8) = 131072 dimensions.\n",
      "[*] Dec has Attn at i_level, i_block: 3, 0\n",
      "[*] VQVAE: weight successfully load from: /home/fslsegment/sercan/AutoSDF-Text2shape/pretrained_ckpts_text2shapepp/vqvae.pth\n",
      "[*] Model has been created: Rand-Transformer-Model\n",
      "[*] \"rand_tf\" initialized.\n",
      "[*] weight successfully load from: /home/fslsegment/sercan/AutoSDF-Text2shape/pretrained_ckpts_text2shapepp/rand_tf_singles_best.pth\n"
     ]
    },
    {
     "name": "stderr",
     "output_type": "stream",
     "text": [
      "Some weights of the model checkpoint at bert-base-uncased were not used when initializing BertModel: ['cls.predictions.transform.dense.weight', 'cls.seq_relationship.weight', 'cls.predictions.decoder.weight', 'cls.predictions.bias', 'cls.predictions.transform.dense.bias', 'cls.predictions.transform.LayerNorm.weight', 'cls.seq_relationship.bias', 'cls.predictions.transform.LayerNorm.bias']\n",
      "- This IS expected if you are initializing BertModel from the checkpoint of a model trained on another task or with another architecture (e.g. initializing a BertForSequenceClassification model from a BertForPreTraining model).\n",
      "- This IS NOT expected if you are initializing BertModel from the checkpoint of a model that you expect to be exactly identical (initializing a BertForSequenceClassification model from a BertForSequenceClassification model).\n"
     ]
    }
   ],
   "source": [
    "opt = get_shape_comp_opt(gpu_id=gpu_id)\n",
    "opt.dataset_mode = \"text2shape\"\n",
    "model = get_shape_comp_model(opt)    \n",
    "model.eval()\n",
    "\n",
    "\"\"\" setup renderer \"\"\"\n",
    "dist, elev, azim = 1.7, 20, 20\n",
    "mesh_renderer = init_mesh_renderer(image_size=256, dist=dist, elev=elev, azim=azim, device=opt.device)\n",
    "\n",
    "opt.mlp_layers = 3\n",
    "opt.mlp_hidden = 1024\n",
    "bert2vq = load_bert2vqsc_model(opt)"
   ]
  },
  {
   "cell_type": "code",
   "execution_count": 10,
   "metadata": {},
   "outputs": [
    {
     "name": "stdout",
     "output_type": "stream",
     "text": [
      "torch.Size([512, 6, 512])\n"
     ]
    },
    {
     "name": "stderr",
     "output_type": "stream",
     "text": [
      "[*] autoregressively inferencing...: 100%|███████████████████████████████████████████████████████████████████████████████████████████████████████████████████████████████████████| 512/512 [00:10<00:00, 50.58it/s]\n"
     ]
    },
    {
     "name": "stdout",
     "output_type": "stream",
     "text": [
      "torch.Size([6, 8, 8, 8])\n",
      "torch.Size([512, 6, 512])\n"
     ]
    },
    {
     "name": "stderr",
     "output_type": "stream",
     "text": [
      "[*] autoregressively inferencing...: 100%|███████████████████████████████████████████████████████████████████████████████████████████████████████████████████████████████████████| 512/512 [00:10<00:00, 50.42it/s]\n"
     ]
    },
    {
     "name": "stdout",
     "output_type": "stream",
     "text": [
      "torch.Size([6, 8, 8, 8])\n",
      "torch.Size([512, 6, 512])\n"
     ]
    },
    {
     "name": "stderr",
     "output_type": "stream",
     "text": [
      "[*] autoregressively inferencing...: 100%|███████████████████████████████████████████████████████████████████████████████████████████████████████████████████████████████████████| 512/512 [00:10<00:00, 50.79it/s]\n"
     ]
    },
    {
     "name": "stdout",
     "output_type": "stream",
     "text": [
      "torch.Size([6, 8, 8, 8])\n"
     ]
    },
    {
     "data": {
      "image/gif": "[encoded data removed]",
      "text/plain": [
       "<IPython.core.display.Image object>"
      ]
     },
     "metadata": {},
     "output_type": "display_data"
    }
   ],
   "source": [
    "from datasets.dataloader import CreateDataLoader\n",
    "import torch\n",
    "from utils.qual_util import get_lang_prob_recursive, save_mesh_as_pics\n",
    "from einops import rearrange\n",
    "import pandas as pd\n",
    "import json\n",
    "import glob\n",
    "from utils.demo_util import make_dummy_batch\n",
    "with open(f'./info-shapenet.json') as f:\n",
    "    info = json.load(f)\n",
    "\n",
    "# model_list = []\n",
    "# cat_to_id = info['cats']\n",
    "# all_files = glob.glob(f\"/home/fslsegment/sercan/shap/*/*\")\n",
    "# with open(f'./filelists/{cat_to_id[\"chair\"]}_train.lst') as f:\n",
    "#     lang_list_s = []\n",
    "#     model_list_s = []\n",
    "#     for l in f.readlines():\n",
    "#         model_id = l.rstrip('\\n')\n",
    "#         model_list.append(model_id)\n",
    "# with open(f'./filelists/{cat_to_id[\"chair\"]}_test.lst') as f:\n",
    "\n",
    "#     for l in f.readlines():\n",
    "#         model_id = l.rstrip('\\n')\n",
    "#         model_list.append(model_id)\n",
    "# set_zs = [p for p in all_files if \"z_set\" in p and p.split(\"/\")[-2] in model_list]\n",
    "# shape_zs = [p for p in all_files if \"z\" in p and \"set\" not in p and p.split(\"/\")[-2] in model_list]\n",
    "# set2path = {p.split(\"/\")[-1].split(\"_\")[-1].replace(\".pt\", \"\"): p for p in set_zs}\n",
    "# print(list(set2path.keys())[:10])\n",
    "# mod2code_path = {p.split(\"/\")[-2]: p for p in shape_zs}\n",
    "# text2shapepp = pd.read_csv('./similar_phrase_2.csv')\n",
    "# with open(\"file.json\", 'r') as f:\n",
    "#     all_id_list = json.load(f)\n",
    "# sequences = all_id_list\n",
    "# model_list = []\n",
    "\n",
    "# seq = sequences[155]\n",
    "# print(seq)\n",
    "# t_2_row_ind = seq[1]\n",
    "\n",
    "# t_2_row = text2shapepp.iloc[t_2_row_ind]\n",
    "# t_2_text = t_2_row[\"phrase_texts\"]\n",
    "# t_2_row = text2shapepp.iloc[t_2_row_ind]\n",
    "# t_2_code = torch.load(set2path[str(t_2_row_ind)], map_location=\"cpu\")\n",
    "# print(t_2_text)\n",
    "z1 = torch.full((6,8,8,8,512), 1/512).cuda()\n",
    "# last_text = \"\"\n",
    "\n",
    "prompts = [\"a wooden chair\", \"with long back\", \"space between seat and back\" ]\n",
    "test_data = make_dummy_batch(nimgs)\n",
    "last_text = \"\"\n",
    "for text in prompts:\n",
    "    \n",
    "\n",
    "    text_conditional = last_text + text\n",
    "    lang_conditional_prob = get_lang_prob_recursive(bert2vq, nimgs*[text_conditional], z1)\n",
    "    print(lang_conditional_prob.shape)\n",
    "    z1_old = rearrange(z1, 'bs d h w c -> (d h w bs) c')\n",
    "    # gen_order = torch.argsort((torch.abs(lang_conditional_prob-z1_old)).sum(-1), dim=-1, descending=True)\n",
    "\n",
    "    # lang_conditional_prob = lang_conditional_prob.repeat(1, nimgs, 1)\n",
    "    topk = 10\n",
    "    alpha = .7\n",
    "\n",
    "    model.inference(test_data, topk=topk, prob=lang_conditional_prob, alpha=alpha, gen_order=None)\n",
    "    sampler = torch.distributions.categorical.Categorical(z1)\n",
    "    print(test_data[\"idx\"].shape)\n",
    "    gen_mesh = sdf_to_mesh(model.x_recon_tf)\n",
    "    pred_probs = model.x_probs\n",
    "    z1 = rearrange(pred_probs, '(d h w) bs c -> bs d h w c', d=8, h=8, w=8)\n",
    "\n",
    "    gen_gif_name = f'{res_dir}/lang-guided-gen{text_conditional}.gif'\n",
    "    save_mesh_as_pics(mesh_renderer, gen_mesh, nrow=3, out_name=gen_gif_name)\n",
    "    last_text = text_conditional + \" \"\n",
    "\n",
    "for name in [gen_gif_name]:\n",
    "    display(ipy_image(name))"
   ]
  },
  {
   "cell_type": "code",
   "execution_count": 16,
   "metadata": {},
   "outputs": [
    {
     "data": {
      "text/plain": [
       "torch.Size([512])"
      ]
     },
     "execution_count": 16,
     "metadata": {},
     "output_type": "execute_result"
    }
   ],
   "source": [
    "torch.randperm(512, device='cuda').shape"
   ]
  },
  {
   "cell_type": "code",
   "execution_count": 40,
   "metadata": {},
   "outputs": [
    {
     "name": "stdout",
     "output_type": "stream",
     "text": [
      "Wed Jul  5 00:14:18 2023       \n",
      "+-----------------------------------------------------------------------------+\n",
      "| NVIDIA-SMI 470.182.03   Driver Version: 470.182.03   CUDA Version: 11.4     |\n",
      "|-------------------------------+----------------------+----------------------+\n",
      "| GPU  Name        Persistence-M| Bus-Id        Disp.A | Volatile Uncorr. ECC |\n",
      "| Fan  Temp  Perf  Pwr:Usage/Cap|         Memory-Usage | GPU-Util  Compute M. |\n",
      "|                               |                      |               MIG M. |\n",
      "|===============================+======================+======================|\n",
      "|   0  NVIDIA GeForce ...  Off  | 00000000:02:00.0 Off |                  N/A |\n",
      "| 22%   38C    P8    28W / 250W |      0MiB / 12211MiB |      0%      Default |\n",
      "|                               |                      |                  N/A |\n",
      "+-------------------------------+----------------------+----------------------+\n",
      "|   1  NVIDIA TITAN V      Off  | 00000000:03:00.0 Off |                  N/A |\n",
      "| 28%   39C    P8    26W / 250W |      0MiB / 12066MiB |      0%      Default |\n",
      "|                               |                      |                  N/A |\n",
      "+-------------------------------+----------------------+----------------------+\n",
      "|   2  NVIDIA GeForce ...  Off  | 00000000:82:00.0 Off |                  N/A |\n",
      "| 53%   42C    P8    42W / 350W |  20851MiB / 24268MiB |      0%      Default |\n",
      "|                               |                      |                  N/A |\n",
      "+-------------------------------+----------------------+----------------------+\n",
      "                                                                               \n",
      "+-----------------------------------------------------------------------------+\n",
      "| Processes:                                                                  |\n",
      "|  GPU   GI   CI        PID   Type   Process name                  GPU Memory |\n",
      "|        ID   ID                                                   Usage      |\n",
      "|=============================================================================|\n",
      "|    2   N/A  N/A     30186      C   ...onda3/envs/ddf/bin/python    20849MiB |\n",
      "+-----------------------------------------------------------------------------+\n"
     ]
    }
   ],
   "source": [
    "!nvidia-smi"
   ]
  },
  {
   "cell_type": "code",
   "execution_count": null,
   "metadata": {},
   "outputs": [],
   "source": [
    "!kill -9 30186"
   ]
  },
  {
   "cell_type": "code",
   "execution_count": null,
   "metadata": {},
   "outputs": [],
   "source": []
  }
 ],
 "metadata": {
  "interpreter": {
   "hash": "5838d28a96dbe8fdf9e2c297fc8cad3e28297307de97d2852e60d93cca6675fa"
  },
  "kernelspec": {
   "display_name": "Python 3 (ipykernel)",
   "language": "python",
   "name": "python3"
  },
  "language_info": {
   "codemirror_mode": {
    "name": "ipython",
    "version": 3
   },
   "file_extension": ".py",
   "mimetype": "text/x-python",
   "name": "python",
   "nbconvert_exporter": "python",
   "pygments_lexer": "ipython3",
   "version": "3.8.16"
  }
 },
 "nbformat": 4,
 "nbformat_minor": 4
}
