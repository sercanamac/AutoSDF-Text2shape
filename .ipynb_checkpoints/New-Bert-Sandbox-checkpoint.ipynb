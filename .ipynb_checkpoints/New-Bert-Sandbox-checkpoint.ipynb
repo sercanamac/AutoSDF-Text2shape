{
 "cells": [
  {
   "cell_type": "code",
   "execution_count": 1,
   "id": "ad642d26",
   "metadata": {},
   "outputs": [
    {
     "data": {
      "text/plain": [
       "True"
      ]
     },
     "execution_count": 1,
     "metadata": {},
     "output_type": "execute_result"
    }
   ],
   "source": [
    "import os\n",
    "from IPython.display import Image as ipy_image\n",
    "from IPython.display import display\n",
    "\n",
    "#from utils.demo_util import get_shape_comp_model, get_shape_comp_opt, make_dummy_batch\n",
    "#from utils.qual_util import load_bert2vqsc_model, get_lang_prob, save_mesh_as_gif\n",
    "from utils.qual_util import get_lang_prob, save_mesh_as_gif\n",
    "from utils.util import seed_everything\n",
    "from utils.util_3d import init_mesh_renderer, sdf_to_mesh\n",
    "import os\n",
    "from termcolor import colored, cprint\n",
    "import torch\n",
    "import utils.util as util\n",
    "from tqdm.notebook import tqdm\n",
    "from datasets.text2shape import  Text2Shape\n",
    "\n",
    "\n",
    "from datasets.text2shapepp_dataset import  Text2ShapePP\n",
    "\n",
    "\n",
    "%reload_ext autoreload\n",
    "%autoreload 2\n",
    "torch.cuda.is_available()"
   ]
  },
  {
   "cell_type": "code",
   "execution_count": 2,
   "id": "99e21afb",
   "metadata": {},
   "outputs": [
    {
     "name": "stdout",
     "output_type": "stream",
     "text": [
      "class\n"
     ]
    }
   ],
   "source": [
    "class Opt():\n",
    "    print(\"class\")\n",
    "    \n",
    "def get_shape_comp_opt(gpu_id=0):\n",
    "    opt = Opt()\n",
    "\n",
    "    # args\n",
    "    gpuid=[gpu_id]\n",
    "    batch_size=32\n",
    "    max_dataset_size=64\n",
    "\n",
    "    name='new_bert_overfit'\n",
    "\n",
    "    # default args\n",
    "    opt.serial_batches = False\n",
    "    opt.nThreads = 4\n",
    "\n",
    "    # important args\n",
    "    opt.dataset_mode = 'shapenet_code'\n",
    "    opt.bert_cfg = \"./configs/bert2vqsc.yaml\"\n",
    "    opt.seed = 111\n",
    "    opt.isTrain = True\n",
    "    opt.gpu_ids = gpuid\n",
    "    opt.max_dataset_size=64\n",
    "    opt.device = 'cuda:%s' % gpuid[0]\n",
    "    opt.batch_size = batch_size\n",
    "    opt.max_dataset_size = max_dataset_size\n",
    "    opt.logs_dir=\"logs\"\n",
    "    opt.name = name\n",
    "    opt.lr = 1e-4\n",
    "    opt.save_latest_freq = 1000\n",
    "    opt.print_freq = 1\n",
    "    #utils.util.seed_everything(opt.seed)\n",
    "    opt.phase = 'test'\n",
    "    opt.nepochs = 100\n",
    "    opt.nepochs_decay = 60\n",
    "    opt.mlp_layers = 3\n",
    "    opt.mlp_hidden = 1024\n",
    "    return opt\n",
    "opt = get_shape_comp_opt()"
   ]
  },
  {
   "cell_type": "code",
   "execution_count": 3,
   "id": "ecb8a3c5",
   "metadata": {},
   "outputs": [],
   "source": [
    "\n",
    "\n",
    "dataset = Text2Shape()\n",
    "#opt = Opt()\n",
    "\n",
    "dataset.initialize(opt,isTrain=False)"
   ]
  },
  {
   "cell_type": "code",
   "execution_count": null,
   "id": "8ee5bee5",
   "metadata": {},
   "outputs": [],
   "source": [
    "len(dataset)\n",
    "# import numpy as np\n",
    "# k = np.arange(0,156707)"
   ]
  },
  {
   "cell_type": "code",
   "execution_count": null,
   "id": "8b37d208",
   "metadata": {},
   "outputs": [],
   "source": [
    "# k.shape\n",
    "# test_indices = np.random.choice(156707, 16000, replace=False)"
   ]
  },
  {
   "cell_type": "code",
   "execution_count": null,
   "id": "e48ad1d9",
   "metadata": {},
   "outputs": [],
   "source": [
    "# np.save('./datasets/text2shape_test_indices', test_indices)\n",
    "# test_indices.shape"
   ]
  },
  {
   "cell_type": "code",
   "execution_count": null,
   "id": "a6e3fd13",
   "metadata": {},
   "outputs": [],
   "source": [
    "# x = np.ones(156707)\n",
    "# x[test_indices]=0\n",
    "# train_indices = np.where(x==1)\n",
    "# train_indices = train_indices[0]\n",
    "#np.save('./datasets/train_indices', train_indices)\n",
    "#test_indices"
   ]
  },
  {
   "cell_type": "code",
   "execution_count": null,
   "id": "0ca804c0",
   "metadata": {},
   "outputs": [],
   "source": [
    "for i in tqdm(range(len(dataset))):\n",
    "    dataset[i]"
   ]
  },
  {
   "cell_type": "code",
   "execution_count": null,
   "id": "63851a4d",
   "metadata": {},
   "outputs": [],
   "source": [
    "dataset[19][\"z_set_target\"]"
   ]
  },
  {
   "cell_type": "code",
   "execution_count": null,
   "id": "8c71e80e",
   "metadata": {},
   "outputs": [],
   "source": [
    "from sentence_transformers import SentenceTransformer\n",
    "model = SentenceTransformer('all-MiniLM-L6-v2')\n",
    "\n",
    "text1 = \"thin legs\"\n",
    "text2 = \"round arms\"\n",
    "# tokenized1 = tokenizer(text1,return_tensors='pt',padding=True)\n",
    "# x = bertmodel(**tokenized1).pooler_output\n",
    "# x.shape\n",
    "# tokenized2 = tokenizer(text2,return_tensors='pt',padding=True)\n",
    "# x2 = bertmodel(**tokenized2).pooler_output\n",
    "# x2.shape\n",
    "x1 = model.encode(text1)\n",
    "x2 = model.encode(text2)\n",
    "x1.shape\n",
    "x2.shape\n",
    "model.eval()\n",
    "\n"
   ]
  },
  {
   "cell_type": "code",
   "execution_count": null,
   "id": "e8e12f6c",
   "metadata": {},
   "outputs": [],
   "source": [
    "cos = torch.nn.CosineSimilarity(dim=0)"
   ]
  },
  {
   "cell_type": "code",
   "execution_count": null,
   "id": "88ec8ce3",
   "metadata": {},
   "outputs": [],
   "source": [
    "cos(torch.Tensor(x1),torch.Tensor(x2))"
   ]
  },
  {
   "cell_type": "code",
   "execution_count": 5,
   "id": "d2f3c8f8",
   "metadata": {},
   "outputs": [],
   "source": [
    "from models.bert2vq_scmodel_v4 import BERT2VQSCModel"
   ]
  },
  {
   "cell_type": "code",
   "execution_count": 6,
   "id": "3250e9d4",
   "metadata": {},
   "outputs": [
    {
     "name": "stdout",
     "output_type": "stream",
     "text": [
      "---------- Networks initialized -------------\n",
      "-----------------------------------------------\n"
     ]
    },
    {
     "data": {
      "text/plain": [
       "True"
      ]
     },
     "execution_count": 6,
     "metadata": {},
     "output_type": "execute_result"
    }
   ],
   "source": [
    "m = BERT2VQSCModel()\n",
    "m.initialize(opt)\n",
    "\n",
    "torch.cuda.is_available()"
   ]
  },
  {
   "cell_type": "code",
   "execution_count": null,
   "id": "b88a3dfe",
   "metadata": {},
   "outputs": [],
   "source": [
    "import copy\n",
    "data = copy.deepcopy(dataset[4])\n",
    "# data2 = dataset[2]\n",
    "data[\"z_set_prev\"] = data[\"z_set_prev\"].unsqueeze(0)\n",
    "data[\"z_set_target\"] = data[\"z_set_target\"].unsqueeze(0)\n",
    "data[\"current_text\"] = [data[\"current_text\"]]\n"
   ]
  },
  {
   "cell_type": "code",
   "execution_count": null,
   "id": "0c8d3a33",
   "metadata": {},
   "outputs": [],
   "source": [
    "#m.net.eval()\n",
    "m.set_input(data)\n",
    "m.forward()\n",
    "m.outp.shape"
   ]
  },
  {
   "cell_type": "raw",
   "id": "092b1a2b",
   "metadata": {},
   "source": []
  },
  {
   "cell_type": "code",
   "execution_count": null,
   "id": "e8fb257a",
   "metadata": {},
   "outputs": [],
   "source": [
    "m.backward()"
   ]
  },
  {
   "cell_type": "code",
   "execution_count": null,
   "id": "cebaf816",
   "metadata": {},
   "outputs": [],
   "source": [
    "x = dataset[0][\"z_set_prev\"].shape\n",
    "y = dataset[3][\"z_set_prev\"].shape\n",
    "x"
   ]
  },
  {
   "cell_type": "code",
   "execution_count": null,
   "id": "c7f096d5",
   "metadata": {},
   "outputs": [],
   "source": [
    "x[x!=0].shape"
   ]
  },
  {
   "cell_type": "code",
   "execution_count": 9,
   "id": "8f1ecb1d",
   "metadata": {},
   "outputs": [],
   "source": [
    "from torch.utils.data import DataLoader\n",
    "train_dl =  DataLoader(\n",
    "            dataset,\n",
    "            batch_size=opt.batch_size,\n",
    "            shuffle=False,\n",
    "            drop_last=True,\n",
    "            num_workers=0)"
   ]
  },
  {
   "cell_type": "code",
   "execution_count": 10,
   "id": "ce6394db",
   "metadata": {},
   "outputs": [],
   "source": [
    "options=opt\n",
    "model = m\n",
    "\n",
    "def train_one_epoch3(pt_profiler=None,epoch=0):\n",
    "    global total_steps\n",
    "    global train_loss\n",
    "    global valid_loss\n",
    "\n",
    "    epoch_iter = 0\n",
    "    for i, data in enumerate(train_dl):\n",
    "        iter_start_time = time.time()\n",
    "        #visualizer.reset()\n",
    "        #import pdb;pdb.set_trace()\n",
    "        total_steps += options.batch_size\n",
    "        epoch_iter += options.batch_size\n",
    "        model.set_input(data)\n",
    "\n",
    "        model.optimize_parameters(total_steps)\n",
    "\n",
    "        nBatches_has_trained = total_steps // options.batch_size\n",
    "        # if total_steps % options.print_freq == 0:\n",
    "\n",
    "        if nBatches_has_trained % options.print_freq == 0:\n",
    "            errors = model.get_current_errors()\n",
    "            #import pdb;pdb.set_trace()\n",
    "            #print(model.loss,\"LOSS\")\n",
    "            t = (time.time() - iter_start_time) / options.batch_size\n",
    "#             visualizer.print_current_errors(\n",
    "#                 epoch, epoch_iter, total_steps, errors, t)\n",
    "\n",
    "        # if (nBatches_has_trained % options.display_freq == 0) or i == 0:\n",
    "        #     # eval\n",
    "        #     model.inference(data)\n",
    "        #     visualizer.display_current_results(\n",
    "        #        model.get_current_visuals(), total_steps, phase='train')\n",
    "\n",
    "        #     #model.set_input(next(test_dg))\n",
    "        #     test_data = next(test_dg)\n",
    "        #     model.inference(test_data.unsqueeze(0))\n",
    "        #     visualizer.display_current_results(\n",
    "        #        model.get_current_visuals(), total_steps, phase='test')\n",
    "\n",
    "#         if total_steps % options.save_latest_freq == 0:\n",
    "#             cprint('saving the latestmodel (epoch %d, total_steps %d)' %\n",
    "#                    (epoch, total_steps), 'blue')\n",
    "#             latest_name = f'epoch-latest'\n",
    "#             model.save(latest_name)\n",
    "\n",
    "        if pt_profiler is not None:\n",
    "            pt_profiler.step()"
   ]
  },
  {
   "cell_type": "code",
   "execution_count": 11,
   "id": "0e8eb468",
   "metadata": {},
   "outputs": [
    {
     "name": "stdout",
     "output_type": "stream",
     "text": [
      "[*] Start training. name: new_bert_overfit\n"
     ]
    },
    {
     "data": {
      "application/vnd.jupyter.widget-view+json": {
       "model_id": "5eafb2fbe4eb49d183b2fbb77cb6c4b6",
       "version_major": 2,
       "version_minor": 0
      },
      "text/plain": [
       "  0%|          | 0/160 [00:00<?, ?it/s]"
      ]
     },
     "metadata": {},
     "output_type": "display_data"
    },
    {
     "name": "stdout",
     "output_type": "stream",
     "text": [
      "[*] End of epoch 0 / 160 \t Time Taken: 0 sec \n",
      "/cluster/54/streakfull/ADL4CV/Project/src/plz-autosdf/logs/new_bert_overfit\n",
      "Model Loss: 4.9991559982299805\n",
      "[*] learning rate = 0.0000100\n",
      "[*] End of epoch 1 / 160 \t Time Taken: 0 sec \n",
      "/cluster/54/streakfull/ADL4CV/Project/src/plz-autosdf/logs/new_bert_overfit\n",
      "Model Loss: 4.1652727127075195\n",
      "[*] learning rate = 0.0000200\n",
      "[*] End of epoch 2 / 160 \t Time Taken: 0 sec \n",
      "/cluster/54/streakfull/ADL4CV/Project/src/plz-autosdf/logs/new_bert_overfit\n",
      "Model Loss: 3.243231773376465\n",
      "[*] learning rate = 0.0000300\n",
      "[*] End of epoch 3 / 160 \t Time Taken: 0 sec \n",
      "/cluster/54/streakfull/ADL4CV/Project/src/plz-autosdf/logs/new_bert_overfit\n",
      "Model Loss: 2.5876991748809814\n",
      "[*] learning rate = 0.0000400\n",
      "[*] End of epoch 4 / 160 \t Time Taken: 0 sec \n",
      "/cluster/54/streakfull/ADL4CV/Project/src/plz-autosdf/logs/new_bert_overfit\n",
      "Model Loss: 2.1480071544647217\n",
      "[*] learning rate = 0.0000500\n",
      "[*] End of epoch 5 / 160 \t Time Taken: 0 sec \n",
      "/cluster/54/streakfull/ADL4CV/Project/src/plz-autosdf/logs/new_bert_overfit\n",
      "Model Loss: 1.7074451446533203\n",
      "[*] learning rate = 0.0000600\n",
      "[*] End of epoch 6 / 160 \t Time Taken: 0 sec \n",
      "/cluster/54/streakfull/ADL4CV/Project/src/plz-autosdf/logs/new_bert_overfit\n",
      "Model Loss: 1.518495798110962\n",
      "[*] learning rate = 0.0000700\n",
      "[*] End of epoch 7 / 160 \t Time Taken: 0 sec \n",
      "/cluster/54/streakfull/ADL4CV/Project/src/plz-autosdf/logs/new_bert_overfit\n",
      "Model Loss: 1.4555940628051758\n",
      "[*] learning rate = 0.0000800\n",
      "[*] End of epoch 8 / 160 \t Time Taken: 0 sec \n",
      "/cluster/54/streakfull/ADL4CV/Project/src/plz-autosdf/logs/new_bert_overfit\n",
      "Model Loss: 1.4103419780731201\n",
      "[*] learning rate = 0.0000900\n",
      "[*] End of epoch 9 / 160 \t Time Taken: 0 sec \n",
      "/cluster/54/streakfull/ADL4CV/Project/src/plz-autosdf/logs/new_bert_overfit\n",
      "Model Loss: 1.3781375885009766\n",
      "[*] learning rate = 0.0001000\n",
      "[*] End of epoch 10 / 160 \t Time Taken: 0 sec \n",
      "/cluster/54/streakfull/ADL4CV/Project/src/plz-autosdf/logs/new_bert_overfit\n",
      "Model Loss: 1.3126693964004517\n",
      "[*] learning rate = 0.0000953\n",
      "[*] End of epoch 11 / 160 \t Time Taken: 0 sec \n",
      "/cluster/54/streakfull/ADL4CV/Project/src/plz-autosdf/logs/new_bert_overfit\n",
      "Model Loss: 1.2991094589233398\n",
      "[*] learning rate = 0.0000913\n",
      "[*] End of epoch 12 / 160 \t Time Taken: 0 sec \n",
      "/cluster/54/streakfull/ADL4CV/Project/src/plz-autosdf/logs/new_bert_overfit\n",
      "Model Loss: 1.2300993204116821\n",
      "[*] learning rate = 0.0000877\n",
      "[*] End of epoch 13 / 160 \t Time Taken: 0 sec \n",
      "/cluster/54/streakfull/ADL4CV/Project/src/plz-autosdf/logs/new_bert_overfit\n",
      "Model Loss: 1.1811254024505615\n",
      "[*] learning rate = 0.0000845\n",
      "[*] End of epoch 14 / 160 \t Time Taken: 0 sec \n",
      "/cluster/54/streakfull/ADL4CV/Project/src/plz-autosdf/logs/new_bert_overfit\n",
      "Model Loss: 1.1019235849380493\n",
      "[*] learning rate = 0.0000816\n",
      "[*] End of epoch 15 / 160 \t Time Taken: 0 sec \n",
      "/cluster/54/streakfull/ADL4CV/Project/src/plz-autosdf/logs/new_bert_overfit\n",
      "Model Loss: 1.0386927127838135\n",
      "[*] learning rate = 0.0000791\n",
      "[*] End of epoch 16 / 160 \t Time Taken: 0 sec \n",
      "/cluster/54/streakfull/ADL4CV/Project/src/plz-autosdf/logs/new_bert_overfit\n",
      "Model Loss: 0.973517894744873\n",
      "[*] learning rate = 0.0000767\n",
      "[*] End of epoch 17 / 160 \t Time Taken: 0 sec \n",
      "/cluster/54/streakfull/ADL4CV/Project/src/plz-autosdf/logs/new_bert_overfit\n",
      "Model Loss: 1.0153248310089111\n",
      "[*] learning rate = 0.0000745\n",
      "[*] End of epoch 18 / 160 \t Time Taken: 0 sec \n",
      "/cluster/54/streakfull/ADL4CV/Project/src/plz-autosdf/logs/new_bert_overfit\n",
      "Model Loss: 1.0130431652069092\n",
      "[*] learning rate = 0.0000725\n",
      "[*] End of epoch 19 / 160 \t Time Taken: 0 sec \n",
      "/cluster/54/streakfull/ADL4CV/Project/src/plz-autosdf/logs/new_bert_overfit\n",
      "Model Loss: 0.8829184770584106\n",
      "[*] learning rate = 0.0000707\n",
      "[*] End of epoch 20 / 160 \t Time Taken: 0 sec \n",
      "/cluster/54/streakfull/ADL4CV/Project/src/plz-autosdf/logs/new_bert_overfit\n",
      "Model Loss: 0.8739539384841919\n",
      "[*] learning rate = 0.0000690\n",
      "[*] End of epoch 21 / 160 \t Time Taken: 0 sec \n",
      "/cluster/54/streakfull/ADL4CV/Project/src/plz-autosdf/logs/new_bert_overfit\n",
      "Model Loss: 0.8316906094551086\n",
      "[*] learning rate = 0.0000674\n",
      "[*] End of epoch 22 / 160 \t Time Taken: 0 sec \n",
      "/cluster/54/streakfull/ADL4CV/Project/src/plz-autosdf/logs/new_bert_overfit\n",
      "Model Loss: 0.7862704992294312\n",
      "[*] learning rate = 0.0000659\n",
      "[*] End of epoch 23 / 160 \t Time Taken: 0 sec \n",
      "/cluster/54/streakfull/ADL4CV/Project/src/plz-autosdf/logs/new_bert_overfit\n",
      "Model Loss: 0.7520939707756042\n",
      "[*] learning rate = 0.0000645\n",
      "[*] End of epoch 24 / 160 \t Time Taken: 0 sec \n",
      "/cluster/54/streakfull/ADL4CV/Project/src/plz-autosdf/logs/new_bert_overfit\n",
      "Model Loss: 0.723577618598938\n",
      "[*] learning rate = 0.0000632\n",
      "[*] End of epoch 25 / 160 \t Time Taken: 0 sec \n",
      "/cluster/54/streakfull/ADL4CV/Project/src/plz-autosdf/logs/new_bert_overfit\n",
      "Model Loss: 0.690579354763031\n",
      "[*] learning rate = 0.0000620\n",
      "[*] End of epoch 26 / 160 \t Time Taken: 0 sec \n",
      "/cluster/54/streakfull/ADL4CV/Project/src/plz-autosdf/logs/new_bert_overfit\n",
      "Model Loss: 0.6591596007347107\n",
      "[*] learning rate = 0.0000609\n",
      "[*] End of epoch 27 / 160 \t Time Taken: 0 sec \n",
      "/cluster/54/streakfull/ADL4CV/Project/src/plz-autosdf/logs/new_bert_overfit\n",
      "Model Loss: 0.6296654939651489\n",
      "[*] learning rate = 0.0000598\n",
      "[*] End of epoch 28 / 160 \t Time Taken: 0 sec \n",
      "/cluster/54/streakfull/ADL4CV/Project/src/plz-autosdf/logs/new_bert_overfit\n",
      "Model Loss: 0.5966552495956421\n",
      "[*] learning rate = 0.0000587\n",
      "[*] End of epoch 29 / 160 \t Time Taken: 0 sec \n",
      "/cluster/54/streakfull/ADL4CV/Project/src/plz-autosdf/logs/new_bert_overfit\n",
      "Model Loss: 0.5686749219894409\n",
      "[*] learning rate = 0.0000577\n",
      "[*] End of epoch 30 / 160 \t Time Taken: 0 sec \n",
      "/cluster/54/streakfull/ADL4CV/Project/src/plz-autosdf/logs/new_bert_overfit\n",
      "Model Loss: 0.5394036769866943\n",
      "[*] learning rate = 0.0000568\n",
      "[*] End of epoch 31 / 160 \t Time Taken: 0 sec \n",
      "/cluster/54/streakfull/ADL4CV/Project/src/plz-autosdf/logs/new_bert_overfit\n",
      "Model Loss: 0.5154789686203003\n",
      "[*] learning rate = 0.0000559\n",
      "[*] End of epoch 32 / 160 \t Time Taken: 0 sec \n",
      "/cluster/54/streakfull/ADL4CV/Project/src/plz-autosdf/logs/new_bert_overfit\n",
      "Model Loss: 0.4947993755340576\n",
      "[*] learning rate = 0.0000550\n",
      "[*] End of epoch 33 / 160 \t Time Taken: 0 sec \n",
      "/cluster/54/streakfull/ADL4CV/Project/src/plz-autosdf/logs/new_bert_overfit\n",
      "Model Loss: 0.47131016850471497\n",
      "[*] learning rate = 0.0000542\n",
      "[*] End of epoch 34 / 160 \t Time Taken: 0 sec \n",
      "/cluster/54/streakfull/ADL4CV/Project/src/plz-autosdf/logs/new_bert_overfit\n",
      "Model Loss: 0.4536433815956116\n",
      "[*] learning rate = 0.0000535\n",
      "[*] End of epoch 35 / 160 \t Time Taken: 0 sec \n",
      "/cluster/54/streakfull/ADL4CV/Project/src/plz-autosdf/logs/new_bert_overfit\n",
      "Model Loss: 0.4311561584472656\n",
      "[*] learning rate = 0.0000527\n",
      "[*] End of epoch 36 / 160 \t Time Taken: 0 sec \n",
      "/cluster/54/streakfull/ADL4CV/Project/src/plz-autosdf/logs/new_bert_overfit\n",
      "Model Loss: 0.4148262143135071\n",
      "[*] learning rate = 0.0000520\n",
      "[*] End of epoch 37 / 160 \t Time Taken: 0 sec \n",
      "/cluster/54/streakfull/ADL4CV/Project/src/plz-autosdf/logs/new_bert_overfit\n",
      "Model Loss: 0.3951805531978607\n",
      "[*] learning rate = 0.0000513\n",
      "[*] End of epoch 38 / 160 \t Time Taken: 0 sec \n",
      "/cluster/54/streakfull/ADL4CV/Project/src/plz-autosdf/logs/new_bert_overfit\n",
      "Model Loss: 0.37989550828933716\n",
      "[*] learning rate = 0.0000506\n",
      "[*] End of epoch 39 / 160 \t Time Taken: 0 sec \n",
      "/cluster/54/streakfull/ADL4CV/Project/src/plz-autosdf/logs/new_bert_overfit\n",
      "Model Loss: 0.36442139744758606\n",
      "[*] learning rate = 0.0000500\n",
      "[*] End of epoch 40 / 160 \t Time Taken: 0 sec \n",
      "/cluster/54/streakfull/ADL4CV/Project/src/plz-autosdf/logs/new_bert_overfit\n",
      "Model Loss: 0.34961211681365967\n",
      "[*] learning rate = 0.0000494\n",
      "[*] End of epoch 41 / 160 \t Time Taken: 0 sec \n",
      "/cluster/54/streakfull/ADL4CV/Project/src/plz-autosdf/logs/new_bert_overfit\n",
      "Model Loss: 0.33438408374786377\n",
      "[*] learning rate = 0.0000488\n",
      "[*] End of epoch 42 / 160 \t Time Taken: 0 sec \n",
      "/cluster/54/streakfull/ADL4CV/Project/src/plz-autosdf/logs/new_bert_overfit\n",
      "Model Loss: 0.3225325644016266\n",
      "[*] learning rate = 0.0000482\n",
      "[*] End of epoch 43 / 160 \t Time Taken: 0 sec \n",
      "/cluster/54/streakfull/ADL4CV/Project/src/plz-autosdf/logs/new_bert_overfit\n",
      "Model Loss: 0.30882763862609863\n",
      "[*] learning rate = 0.0000477\n",
      "[*] End of epoch 44 / 160 \t Time Taken: 0 sec \n",
      "/cluster/54/streakfull/ADL4CV/Project/src/plz-autosdf/logs/new_bert_overfit\n",
      "Model Loss: 0.29694801568984985\n",
      "[*] learning rate = 0.0000471\n"
     ]
    },
    {
     "name": "stdout",
     "output_type": "stream",
     "text": [
      "[*] End of epoch 45 / 160 \t Time Taken: 0 sec \n",
      "/cluster/54/streakfull/ADL4CV/Project/src/plz-autosdf/logs/new_bert_overfit\n",
      "Model Loss: 0.2823650538921356\n",
      "[*] learning rate = 0.0000466\n",
      "[*] End of epoch 46 / 160 \t Time Taken: 0 sec \n",
      "/cluster/54/streakfull/ADL4CV/Project/src/plz-autosdf/logs/new_bert_overfit\n",
      "Model Loss: 0.2717309892177582\n",
      "[*] learning rate = 0.0000461\n",
      "[*] End of epoch 47 / 160 \t Time Taken: 0 sec \n",
      "/cluster/54/streakfull/ADL4CV/Project/src/plz-autosdf/logs/new_bert_overfit\n",
      "Model Loss: 0.262803316116333\n",
      "[*] learning rate = 0.0000456\n",
      "[*] End of epoch 48 / 160 \t Time Taken: 0 sec \n",
      "/cluster/54/streakfull/ADL4CV/Project/src/plz-autosdf/logs/new_bert_overfit\n",
      "Model Loss: 0.25397247076034546\n",
      "[*] learning rate = 0.0000452\n",
      "[*] End of epoch 49 / 160 \t Time Taken: 0 sec \n",
      "/cluster/54/streakfull/ADL4CV/Project/src/plz-autosdf/logs/new_bert_overfit\n",
      "Model Loss: 0.2643464505672455\n",
      "[*] learning rate = 0.0000447\n",
      "[*] End of epoch 50 / 160 \t Time Taken: 0 sec \n",
      "/cluster/54/streakfull/ADL4CV/Project/src/plz-autosdf/logs/new_bert_overfit\n",
      "Model Loss: 0.275585800409317\n",
      "[*] learning rate = 0.0000443\n",
      "[*] End of epoch 51 / 160 \t Time Taken: 0 sec \n",
      "/cluster/54/streakfull/ADL4CV/Project/src/plz-autosdf/logs/new_bert_overfit\n",
      "Model Loss: 0.23930060863494873\n",
      "[*] learning rate = 0.0000439\n",
      "[*] End of epoch 52 / 160 \t Time Taken: 0 sec \n",
      "/cluster/54/streakfull/ADL4CV/Project/src/plz-autosdf/logs/new_bert_overfit\n",
      "Model Loss: 0.2557602524757385\n",
      "[*] learning rate = 0.0000434\n",
      "[*] End of epoch 53 / 160 \t Time Taken: 0 sec \n",
      "/cluster/54/streakfull/ADL4CV/Project/src/plz-autosdf/logs/new_bert_overfit\n",
      "Model Loss: 0.23640641570091248\n",
      "[*] learning rate = 0.0000430\n",
      "[*] End of epoch 54 / 160 \t Time Taken: 0 sec \n",
      "/cluster/54/streakfull/ADL4CV/Project/src/plz-autosdf/logs/new_bert_overfit\n",
      "Model Loss: 0.22237828373908997\n",
      "[*] learning rate = 0.0000426\n",
      "[*] End of epoch 55 / 160 \t Time Taken: 0 sec \n",
      "/cluster/54/streakfull/ADL4CV/Project/src/plz-autosdf/logs/new_bert_overfit\n",
      "Model Loss: 0.20525090396404266\n",
      "[*] learning rate = 0.0000423\n",
      "[*] End of epoch 56 / 160 \t Time Taken: 0 sec \n",
      "/cluster/54/streakfull/ADL4CV/Project/src/plz-autosdf/logs/new_bert_overfit\n",
      "Model Loss: 0.199817955493927\n",
      "[*] learning rate = 0.0000419\n",
      "[*] End of epoch 57 / 160 \t Time Taken: 0 sec \n",
      "/cluster/54/streakfull/ADL4CV/Project/src/plz-autosdf/logs/new_bert_overfit\n",
      "Model Loss: 0.19157865643501282\n",
      "[*] learning rate = 0.0000415\n",
      "[*] End of epoch 58 / 160 \t Time Taken: 0 sec \n",
      "/cluster/54/streakfull/ADL4CV/Project/src/plz-autosdf/logs/new_bert_overfit\n",
      "Model Loss: 0.1822797954082489\n",
      "[*] learning rate = 0.0000412\n",
      "[*] End of epoch 59 / 160 \t Time Taken: 0 sec \n",
      "/cluster/54/streakfull/ADL4CV/Project/src/plz-autosdf/logs/new_bert_overfit\n",
      "Model Loss: 0.17612120509147644\n",
      "[*] learning rate = 0.0000408\n",
      "[*] End of epoch 60 / 160 \t Time Taken: 0 sec \n",
      "/cluster/54/streakfull/ADL4CV/Project/src/plz-autosdf/logs/new_bert_overfit\n",
      "Model Loss: 0.16842003166675568\n",
      "[*] learning rate = 0.0000405\n",
      "[*] End of epoch 61 / 160 \t Time Taken: 0 sec \n",
      "/cluster/54/streakfull/ADL4CV/Project/src/plz-autosdf/logs/new_bert_overfit\n",
      "Model Loss: 0.15930359065532684\n",
      "[*] learning rate = 0.0000402\n",
      "[*] End of epoch 62 / 160 \t Time Taken: 0 sec \n",
      "/cluster/54/streakfull/ADL4CV/Project/src/plz-autosdf/logs/new_bert_overfit\n",
      "Model Loss: 0.1567986160516739\n",
      "[*] learning rate = 0.0000398\n",
      "[*] End of epoch 63 / 160 \t Time Taken: 0 sec \n",
      "/cluster/54/streakfull/ADL4CV/Project/src/plz-autosdf/logs/new_bert_overfit\n",
      "Model Loss: 0.1446228325366974\n",
      "[*] learning rate = 0.0000395\n",
      "[*] End of epoch 64 / 160 \t Time Taken: 0 sec \n",
      "/cluster/54/streakfull/ADL4CV/Project/src/plz-autosdf/logs/new_bert_overfit\n",
      "Model Loss: 0.14231494069099426\n",
      "[*] learning rate = 0.0000392\n",
      "[*] End of epoch 65 / 160 \t Time Taken: 0 sec \n",
      "/cluster/54/streakfull/ADL4CV/Project/src/plz-autosdf/logs/new_bert_overfit\n",
      "Model Loss: 0.13461191952228546\n",
      "[*] learning rate = 0.0000389\n",
      "[*] End of epoch 66 / 160 \t Time Taken: 0 sec \n",
      "/cluster/54/streakfull/ADL4CV/Project/src/plz-autosdf/logs/new_bert_overfit\n",
      "Model Loss: 0.12942831218242645\n",
      "[*] learning rate = 0.0000386\n",
      "[*] End of epoch 67 / 160 \t Time Taken: 0 sec \n",
      "/cluster/54/streakfull/ADL4CV/Project/src/plz-autosdf/logs/new_bert_overfit\n",
      "Model Loss: 0.12466991692781448\n",
      "[*] learning rate = 0.0000383\n",
      "[*] End of epoch 68 / 160 \t Time Taken: 0 sec \n",
      "/cluster/54/streakfull/ADL4CV/Project/src/plz-autosdf/logs/new_bert_overfit\n",
      "Model Loss: 0.12074947357177734\n",
      "[*] learning rate = 0.0000381\n",
      "[*] End of epoch 69 / 160 \t Time Taken: 0 sec \n",
      "/cluster/54/streakfull/ADL4CV/Project/src/plz-autosdf/logs/new_bert_overfit\n",
      "Model Loss: 0.11619547009468079\n",
      "[*] learning rate = 0.0000378\n",
      "[*] End of epoch 70 / 160 \t Time Taken: 0 sec \n",
      "/cluster/54/streakfull/ADL4CV/Project/src/plz-autosdf/logs/new_bert_overfit\n",
      "Model Loss: 0.11157095432281494\n",
      "[*] learning rate = 0.0000375\n",
      "[*] End of epoch 71 / 160 \t Time Taken: 0 sec \n",
      "/cluster/54/streakfull/ADL4CV/Project/src/plz-autosdf/logs/new_bert_overfit\n",
      "Model Loss: 0.10877488553524017\n",
      "[*] learning rate = 0.0000373\n",
      "[*] End of epoch 72 / 160 \t Time Taken: 0 sec \n",
      "/cluster/54/streakfull/ADL4CV/Project/src/plz-autosdf/logs/new_bert_overfit\n",
      "Model Loss: 0.1057896688580513\n",
      "[*] learning rate = 0.0000370\n",
      "[*] End of epoch 73 / 160 \t Time Taken: 0 sec \n",
      "/cluster/54/streakfull/ADL4CV/Project/src/plz-autosdf/logs/new_bert_overfit\n",
      "Model Loss: 0.1017364114522934\n",
      "[*] learning rate = 0.0000368\n",
      "[*] End of epoch 74 / 160 \t Time Taken: 0 sec \n",
      "/cluster/54/streakfull/ADL4CV/Project/src/plz-autosdf/logs/new_bert_overfit\n",
      "Model Loss: 0.09802406281232834\n",
      "[*] learning rate = 0.0000365\n",
      "[*] End of epoch 75 / 160 \t Time Taken: 0 sec \n",
      "/cluster/54/streakfull/ADL4CV/Project/src/plz-autosdf/logs/new_bert_overfit\n",
      "Model Loss: 0.09508950263261795\n",
      "[*] learning rate = 0.0000363\n",
      "[*] End of epoch 76 / 160 \t Time Taken: 0 sec \n",
      "/cluster/54/streakfull/ADL4CV/Project/src/plz-autosdf/logs/new_bert_overfit\n",
      "Model Loss: 0.0921737402677536\n",
      "[*] learning rate = 0.0000360\n",
      "[*] End of epoch 77 / 160 \t Time Taken: 0 sec \n",
      "/cluster/54/streakfull/ADL4CV/Project/src/plz-autosdf/logs/new_bert_overfit\n",
      "Model Loss: 0.08966804295778275\n",
      "[*] learning rate = 0.0000358\n",
      "[*] End of epoch 78 / 160 \t Time Taken: 0 sec \n",
      "/cluster/54/streakfull/ADL4CV/Project/src/plz-autosdf/logs/new_bert_overfit\n",
      "Model Loss: 0.08723480254411697\n",
      "[*] learning rate = 0.0000356\n",
      "[*] End of epoch 79 / 160 \t Time Taken: 0 sec \n",
      "/cluster/54/streakfull/ADL4CV/Project/src/plz-autosdf/logs/new_bert_overfit\n",
      "Model Loss: 0.08462414145469666\n",
      "[*] learning rate = 0.0000354\n",
      "[*] End of epoch 80 / 160 \t Time Taken: 0 sec \n",
      "/cluster/54/streakfull/ADL4CV/Project/src/plz-autosdf/logs/new_bert_overfit\n",
      "Model Loss: 0.08203728497028351\n",
      "[*] learning rate = 0.0000351\n",
      "[*] End of epoch 81 / 160 \t Time Taken: 0 sec \n",
      "/cluster/54/streakfull/ADL4CV/Project/src/plz-autosdf/logs/new_bert_overfit\n",
      "Model Loss: 0.07952634990215302\n",
      "[*] learning rate = 0.0000349\n",
      "[*] End of epoch 82 / 160 \t Time Taken: 0 sec \n",
      "/cluster/54/streakfull/ADL4CV/Project/src/plz-autosdf/logs/new_bert_overfit\n",
      "Model Loss: 0.07819193601608276\n",
      "[*] learning rate = 0.0000347\n",
      "[*] End of epoch 83 / 160 \t Time Taken: 0 sec \n",
      "/cluster/54/streakfull/ADL4CV/Project/src/plz-autosdf/logs/new_bert_overfit\n",
      "Model Loss: 0.0758742094039917\n",
      "[*] learning rate = 0.0000345\n",
      "[*] End of epoch 84 / 160 \t Time Taken: 0 sec \n",
      "/cluster/54/streakfull/ADL4CV/Project/src/plz-autosdf/logs/new_bert_overfit\n",
      "Model Loss: 0.07384040951728821\n",
      "[*] learning rate = 0.0000343\n",
      "[*] End of epoch 85 / 160 \t Time Taken: 0 sec \n",
      "/cluster/54/streakfull/ADL4CV/Project/src/plz-autosdf/logs/new_bert_overfit\n",
      "Model Loss: 0.07251262664794922\n",
      "[*] learning rate = 0.0000341\n",
      "[*] End of epoch 86 / 160 \t Time Taken: 0 sec \n",
      "/cluster/54/streakfull/ADL4CV/Project/src/plz-autosdf/logs/new_bert_overfit\n",
      "Model Loss: 0.07035015523433685\n",
      "[*] learning rate = 0.0000339\n",
      "[*] End of epoch 87 / 160 \t Time Taken: 0 sec \n",
      "/cluster/54/streakfull/ADL4CV/Project/src/plz-autosdf/logs/new_bert_overfit\n",
      "Model Loss: 0.0688682273030281\n",
      "[*] learning rate = 0.0000337\n",
      "[*] End of epoch 88 / 160 \t Time Taken: 0 sec \n",
      "/cluster/54/streakfull/ADL4CV/Project/src/plz-autosdf/logs/new_bert_overfit\n",
      "Model Loss: 0.0672776997089386\n",
      "[*] learning rate = 0.0000335\n",
      "[*] End of epoch 89 / 160 \t Time Taken: 0 sec \n",
      "/cluster/54/streakfull/ADL4CV/Project/src/plz-autosdf/logs/new_bert_overfit\n",
      "Model Loss: 0.06582830846309662\n",
      "[*] learning rate = 0.0000333\n"
     ]
    },
    {
     "name": "stdout",
     "output_type": "stream",
     "text": [
      "[*] End of epoch 90 / 160 \t Time Taken: 0 sec \n",
      "/cluster/54/streakfull/ADL4CV/Project/src/plz-autosdf/logs/new_bert_overfit\n",
      "Model Loss: 0.06446544080972672\n",
      "[*] learning rate = 0.0000331\n",
      "[*] End of epoch 91 / 160 \t Time Taken: 0 sec \n",
      "/cluster/54/streakfull/ADL4CV/Project/src/plz-autosdf/logs/new_bert_overfit\n",
      "Model Loss: 0.06289045512676239\n",
      "[*] learning rate = 0.0000330\n",
      "[*] End of epoch 92 / 160 \t Time Taken: 0 sec \n",
      "/cluster/54/streakfull/ADL4CV/Project/src/plz-autosdf/logs/new_bert_overfit\n",
      "Model Loss: 0.061908651143312454\n",
      "[*] learning rate = 0.0000328\n",
      "[*] End of epoch 93 / 160 \t Time Taken: 0 sec \n",
      "/cluster/54/streakfull/ADL4CV/Project/src/plz-autosdf/logs/new_bert_overfit\n",
      "Model Loss: 0.06079217419028282\n",
      "[*] learning rate = 0.0000326\n",
      "[*] End of epoch 94 / 160 \t Time Taken: 0 sec \n",
      "/cluster/54/streakfull/ADL4CV/Project/src/plz-autosdf/logs/new_bert_overfit\n",
      "Model Loss: 0.0594051368534565\n",
      "[*] learning rate = 0.0000324\n",
      "[*] End of epoch 95 / 160 \t Time Taken: 0 sec \n",
      "/cluster/54/streakfull/ADL4CV/Project/src/plz-autosdf/logs/new_bert_overfit\n",
      "Model Loss: 0.05846450477838516\n",
      "[*] learning rate = 0.0000323\n",
      "[*] End of epoch 96 / 160 \t Time Taken: 0 sec \n",
      "/cluster/54/streakfull/ADL4CV/Project/src/plz-autosdf/logs/new_bert_overfit\n",
      "Model Loss: 0.057330019772052765\n",
      "[*] learning rate = 0.0000321\n",
      "[*] End of epoch 97 / 160 \t Time Taken: 0 sec \n",
      "/cluster/54/streakfull/ADL4CV/Project/src/plz-autosdf/logs/new_bert_overfit\n",
      "Model Loss: 0.056091390550136566\n",
      "[*] learning rate = 0.0000319\n",
      "[*] End of epoch 98 / 160 \t Time Taken: 0 sec \n",
      "/cluster/54/streakfull/ADL4CV/Project/src/plz-autosdf/logs/new_bert_overfit\n",
      "Model Loss: 0.055375322699546814\n",
      "[*] learning rate = 0.0000318\n",
      "[*] End of epoch 99 / 160 \t Time Taken: 0 sec \n",
      "/cluster/54/streakfull/ADL4CV/Project/src/plz-autosdf/logs/new_bert_overfit\n",
      "Model Loss: 0.05458373576402664\n",
      "[*] learning rate = 0.0000316\n",
      "[*] End of epoch 100 / 160 \t Time Taken: 0 sec \n",
      "/cluster/54/streakfull/ADL4CV/Project/src/plz-autosdf/logs/new_bert_overfit\n",
      "Model Loss: 0.0536346398293972\n",
      "[*] learning rate = 0.0000315\n",
      "[*] End of epoch 101 / 160 \t Time Taken: 0 sec \n",
      "/cluster/54/streakfull/ADL4CV/Project/src/plz-autosdf/logs/new_bert_overfit\n",
      "Model Loss: 0.052563734352588654\n",
      "[*] learning rate = 0.0000313\n",
      "[*] End of epoch 102 / 160 \t Time Taken: 0 sec \n",
      "/cluster/54/streakfull/ADL4CV/Project/src/plz-autosdf/logs/new_bert_overfit\n",
      "Model Loss: 0.05174250900745392\n",
      "[*] learning rate = 0.0000312\n",
      "[*] End of epoch 103 / 160 \t Time Taken: 0 sec \n",
      "/cluster/54/streakfull/ADL4CV/Project/src/plz-autosdf/logs/new_bert_overfit\n",
      "Model Loss: 0.05125553905963898\n",
      "[*] learning rate = 0.0000310\n",
      "[*] End of epoch 104 / 160 \t Time Taken: 0 sec \n",
      "/cluster/54/streakfull/ADL4CV/Project/src/plz-autosdf/logs/new_bert_overfit\n",
      "Model Loss: 0.05033654719591141\n",
      "[*] learning rate = 0.0000309\n",
      "[*] End of epoch 105 / 160 \t Time Taken: 0 sec \n",
      "/cluster/54/streakfull/ADL4CV/Project/src/plz-autosdf/logs/new_bert_overfit\n",
      "Model Loss: 0.04968096688389778\n",
      "[*] learning rate = 0.0000307\n",
      "[*] End of epoch 106 / 160 \t Time Taken: 0 sec \n",
      "/cluster/54/streakfull/ADL4CV/Project/src/plz-autosdf/logs/new_bert_overfit\n",
      "Model Loss: 0.048794638365507126\n",
      "[*] learning rate = 0.0000306\n",
      "[*] End of epoch 107 / 160 \t Time Taken: 0 sec \n",
      "/cluster/54/streakfull/ADL4CV/Project/src/plz-autosdf/logs/new_bert_overfit\n",
      "Model Loss: 0.04811052978038788\n",
      "[*] learning rate = 0.0000304\n",
      "[*] End of epoch 108 / 160 \t Time Taken: 0 sec \n",
      "/cluster/54/streakfull/ADL4CV/Project/src/plz-autosdf/logs/new_bert_overfit\n",
      "Model Loss: 0.04737907648086548\n",
      "[*] learning rate = 0.0000303\n",
      "[*] End of epoch 109 / 160 \t Time Taken: 0 sec \n",
      "/cluster/54/streakfull/ADL4CV/Project/src/plz-autosdf/logs/new_bert_overfit\n",
      "Model Loss: 0.04706023633480072\n",
      "[*] learning rate = 0.0000302\n",
      "[*] End of epoch 110 / 160 \t Time Taken: 0 sec \n",
      "/cluster/54/streakfull/ADL4CV/Project/src/plz-autosdf/logs/new_bert_overfit\n",
      "Model Loss: 0.04637821763753891\n",
      "[*] learning rate = 0.0000300\n",
      "[*] End of epoch 111 / 160 \t Time Taken: 0 sec \n",
      "/cluster/54/streakfull/ADL4CV/Project/src/plz-autosdf/logs/new_bert_overfit\n",
      "Model Loss: 0.04560273140668869\n",
      "[*] learning rate = 0.0000299\n",
      "[*] End of epoch 112 / 160 \t Time Taken: 0 sec \n",
      "/cluster/54/streakfull/ADL4CV/Project/src/plz-autosdf/logs/new_bert_overfit\n",
      "Model Loss: 0.04524820297956467\n",
      "[*] learning rate = 0.0000297\n",
      "[*] End of epoch 113 / 160 \t Time Taken: 0 sec \n",
      "/cluster/54/streakfull/ADL4CV/Project/src/plz-autosdf/logs/new_bert_overfit\n",
      "Model Loss: 0.044702257961034775\n",
      "[*] learning rate = 0.0000296\n",
      "[*] End of epoch 114 / 160 \t Time Taken: 0 sec \n",
      "/cluster/54/streakfull/ADL4CV/Project/src/plz-autosdf/logs/new_bert_overfit\n",
      "Model Loss: 0.04430335387587547\n",
      "[*] learning rate = 0.0000295\n",
      "[*] End of epoch 115 / 160 \t Time Taken: 0 sec \n",
      "/cluster/54/streakfull/ADL4CV/Project/src/plz-autosdf/logs/new_bert_overfit\n",
      "Model Loss: 0.04350681230425835\n",
      "[*] learning rate = 0.0000294\n",
      "[*] End of epoch 116 / 160 \t Time Taken: 0 sec \n",
      "/cluster/54/streakfull/ADL4CV/Project/src/plz-autosdf/logs/new_bert_overfit\n",
      "Model Loss: 0.043005190789699554\n",
      "[*] learning rate = 0.0000292\n",
      "[*] End of epoch 117 / 160 \t Time Taken: 0 sec \n",
      "/cluster/54/streakfull/ADL4CV/Project/src/plz-autosdf/logs/new_bert_overfit\n",
      "Model Loss: 0.04252316802740097\n",
      "[*] learning rate = 0.0000291\n",
      "[*] End of epoch 118 / 160 \t Time Taken: 0 sec \n",
      "/cluster/54/streakfull/ADL4CV/Project/src/plz-autosdf/logs/new_bert_overfit\n",
      "Model Loss: 0.04212743416428566\n",
      "[*] learning rate = 0.0000290\n",
      "[*] End of epoch 119 / 160 \t Time Taken: 0 sec \n",
      "/cluster/54/streakfull/ADL4CV/Project/src/plz-autosdf/logs/new_bert_overfit\n",
      "Model Loss: 0.04178576171398163\n",
      "[*] learning rate = 0.0000289\n",
      "[*] End of epoch 120 / 160 \t Time Taken: 0 sec \n",
      "/cluster/54/streakfull/ADL4CV/Project/src/plz-autosdf/logs/new_bert_overfit\n",
      "Model Loss: 0.04144013300538063\n",
      "[*] learning rate = 0.0000287\n",
      "[*] End of epoch 121 / 160 \t Time Taken: 0 sec \n",
      "/cluster/54/streakfull/ADL4CV/Project/src/plz-autosdf/logs/new_bert_overfit\n",
      "Model Loss: 0.04094402492046356\n",
      "[*] learning rate = 0.0000286\n",
      "[*] End of epoch 122 / 160 \t Time Taken: 0 sec \n",
      "/cluster/54/streakfull/ADL4CV/Project/src/plz-autosdf/logs/new_bert_overfit\n",
      "Model Loss: 0.04041966795921326\n",
      "[*] learning rate = 0.0000285\n",
      "[*] End of epoch 123 / 160 \t Time Taken: 0 sec \n",
      "/cluster/54/streakfull/ADL4CV/Project/src/plz-autosdf/logs/new_bert_overfit\n",
      "Model Loss: 0.03992077708244324\n",
      "[*] learning rate = 0.0000284\n",
      "[*] End of epoch 124 / 160 \t Time Taken: 0 sec \n",
      "/cluster/54/streakfull/ADL4CV/Project/src/plz-autosdf/logs/new_bert_overfit\n",
      "Model Loss: 0.03959833085536957\n",
      "[*] learning rate = 0.0000283\n",
      "[*] End of epoch 125 / 160 \t Time Taken: 0 sec \n",
      "/cluster/54/streakfull/ADL4CV/Project/src/plz-autosdf/logs/new_bert_overfit\n",
      "Model Loss: 0.03936288505792618\n",
      "[*] learning rate = 0.0000282\n",
      "[*] End of epoch 126 / 160 \t Time Taken: 0 sec \n",
      "/cluster/54/streakfull/ADL4CV/Project/src/plz-autosdf/logs/new_bert_overfit\n",
      "Model Loss: 0.03886410966515541\n",
      "[*] learning rate = 0.0000281\n",
      "[*] End of epoch 127 / 160 \t Time Taken: 0 sec \n",
      "/cluster/54/streakfull/ADL4CV/Project/src/plz-autosdf/logs/new_bert_overfit\n",
      "Model Loss: 0.03866039961576462\n",
      "[*] learning rate = 0.0000280\n",
      "[*] End of epoch 128 / 160 \t Time Taken: 0 sec \n",
      "/cluster/54/streakfull/ADL4CV/Project/src/plz-autosdf/logs/new_bert_overfit\n",
      "Model Loss: 0.03834693878889084\n",
      "[*] learning rate = 0.0000278\n",
      "[*] End of epoch 129 / 160 \t Time Taken: 0 sec \n",
      "/cluster/54/streakfull/ADL4CV/Project/src/plz-autosdf/logs/new_bert_overfit\n",
      "Model Loss: 0.03795650228857994\n",
      "[*] learning rate = 0.0000277\n",
      "[*] End of epoch 130 / 160 \t Time Taken: 0 sec \n",
      "/cluster/54/streakfull/ADL4CV/Project/src/plz-autosdf/logs/new_bert_overfit\n",
      "Model Loss: 0.0375562347471714\n",
      "[*] learning rate = 0.0000276\n",
      "[*] End of epoch 131 / 160 \t Time Taken: 0 sec \n",
      "/cluster/54/streakfull/ADL4CV/Project/src/plz-autosdf/logs/new_bert_overfit\n",
      "Model Loss: 0.037029702216386795\n",
      "[*] learning rate = 0.0000275\n",
      "[*] End of epoch 132 / 160 \t Time Taken: 0 sec \n",
      "/cluster/54/streakfull/ADL4CV/Project/src/plz-autosdf/logs/new_bert_overfit\n",
      "Model Loss: 0.03714029863476753\n",
      "[*] learning rate = 0.0000274\n",
      "[*] End of epoch 133 / 160 \t Time Taken: 0 sec \n",
      "/cluster/54/streakfull/ADL4CV/Project/src/plz-autosdf/logs/new_bert_overfit\n",
      "Model Loss: 0.03655560314655304\n",
      "[*] learning rate = 0.0000273\n",
      "[*] End of epoch 134 / 160 \t Time Taken: 0 sec \n",
      "/cluster/54/streakfull/ADL4CV/Project/src/plz-autosdf/logs/new_bert_overfit\n",
      "Model Loss: 0.036251094192266464\n",
      "[*] learning rate = 0.0000272\n"
     ]
    },
    {
     "name": "stdout",
     "output_type": "stream",
     "text": [
      "[*] End of epoch 135 / 160 \t Time Taken: 0 sec \n",
      "/cluster/54/streakfull/ADL4CV/Project/src/plz-autosdf/logs/new_bert_overfit\n",
      "Model Loss: 0.03610625118017197\n",
      "[*] learning rate = 0.0000271\n",
      "[*] End of epoch 136 / 160 \t Time Taken: 0 sec \n",
      "/cluster/54/streakfull/ADL4CV/Project/src/plz-autosdf/logs/new_bert_overfit\n",
      "Model Loss: 0.035795338451862335\n",
      "[*] learning rate = 0.0000270\n",
      "[*] End of epoch 137 / 160 \t Time Taken: 0 sec \n",
      "/cluster/54/streakfull/ADL4CV/Project/src/plz-autosdf/logs/new_bert_overfit\n",
      "Model Loss: 0.03558316081762314\n",
      "[*] learning rate = 0.0000269\n",
      "[*] End of epoch 138 / 160 \t Time Taken: 0 sec \n",
      "/cluster/54/streakfull/ADL4CV/Project/src/plz-autosdf/logs/new_bert_overfit\n",
      "Model Loss: 0.035397425293922424\n",
      "[*] learning rate = 0.0000268\n",
      "[*] End of epoch 139 / 160 \t Time Taken: 0 sec \n",
      "/cluster/54/streakfull/ADL4CV/Project/src/plz-autosdf/logs/new_bert_overfit\n",
      "Model Loss: 0.035141974687576294\n",
      "[*] learning rate = 0.0000267\n",
      "[*] End of epoch 140 / 160 \t Time Taken: 0 sec \n",
      "/cluster/54/streakfull/ADL4CV/Project/src/plz-autosdf/logs/new_bert_overfit\n",
      "Model Loss: 0.035074543207883835\n",
      "[*] learning rate = 0.0000266\n",
      "[*] End of epoch 141 / 160 \t Time Taken: 0 sec \n",
      "/cluster/54/streakfull/ADL4CV/Project/src/plz-autosdf/logs/new_bert_overfit\n",
      "Model Loss: 0.03458070009946823\n",
      "[*] learning rate = 0.0000265\n",
      "[*] End of epoch 142 / 160 \t Time Taken: 0 sec \n",
      "/cluster/54/streakfull/ADL4CV/Project/src/plz-autosdf/logs/new_bert_overfit\n",
      "Model Loss: 0.0342109352350235\n",
      "[*] learning rate = 0.0000264\n",
      "[*] End of epoch 143 / 160 \t Time Taken: 0 sec \n",
      "/cluster/54/streakfull/ADL4CV/Project/src/plz-autosdf/logs/new_bert_overfit\n",
      "Model Loss: 0.03411438688635826\n",
      "[*] learning rate = 0.0000264\n",
      "[*] End of epoch 144 / 160 \t Time Taken: 0 sec \n",
      "/cluster/54/streakfull/ADL4CV/Project/src/plz-autosdf/logs/new_bert_overfit\n",
      "Model Loss: 0.03369004651904106\n",
      "[*] learning rate = 0.0000263\n",
      "[*] End of epoch 145 / 160 \t Time Taken: 0 sec \n",
      "/cluster/54/streakfull/ADL4CV/Project/src/plz-autosdf/logs/new_bert_overfit\n",
      "Model Loss: 0.03376898169517517\n",
      "[*] learning rate = 0.0000262\n",
      "[*] End of epoch 146 / 160 \t Time Taken: 0 sec \n",
      "/cluster/54/streakfull/ADL4CV/Project/src/plz-autosdf/logs/new_bert_overfit\n",
      "Model Loss: 0.03362540900707245\n",
      "[*] learning rate = 0.0000261\n",
      "[*] End of epoch 147 / 160 \t Time Taken: 0 sec \n",
      "/cluster/54/streakfull/ADL4CV/Project/src/plz-autosdf/logs/new_bert_overfit\n",
      "Model Loss: 0.03347514569759369\n",
      "[*] learning rate = 0.0000260\n",
      "[*] End of epoch 148 / 160 \t Time Taken: 0 sec \n",
      "/cluster/54/streakfull/ADL4CV/Project/src/plz-autosdf/logs/new_bert_overfit\n",
      "Model Loss: 0.03306429833173752\n",
      "[*] learning rate = 0.0000259\n",
      "[*] End of epoch 149 / 160 \t Time Taken: 0 sec \n",
      "/cluster/54/streakfull/ADL4CV/Project/src/plz-autosdf/logs/new_bert_overfit\n",
      "Model Loss: 0.03308870270848274\n",
      "[*] learning rate = 0.0000258\n",
      "[*] End of epoch 150 / 160 \t Time Taken: 0 sec \n",
      "/cluster/54/streakfull/ADL4CV/Project/src/plz-autosdf/logs/new_bert_overfit\n",
      "Model Loss: 0.032790716737508774\n",
      "[*] learning rate = 0.0000257\n",
      "[*] End of epoch 151 / 160 \t Time Taken: 0 sec \n",
      "/cluster/54/streakfull/ADL4CV/Project/src/plz-autosdf/logs/new_bert_overfit\n",
      "Model Loss: 0.032563529908657074\n",
      "[*] learning rate = 0.0000256\n",
      "[*] End of epoch 152 / 160 \t Time Taken: 0 sec \n",
      "/cluster/54/streakfull/ADL4CV/Project/src/plz-autosdf/logs/new_bert_overfit\n",
      "Model Loss: 0.032465532422065735\n",
      "[*] learning rate = 0.0000256\n",
      "[*] End of epoch 153 / 160 \t Time Taken: 0 sec \n",
      "/cluster/54/streakfull/ADL4CV/Project/src/plz-autosdf/logs/new_bert_overfit\n",
      "Model Loss: 0.032068852335214615\n",
      "[*] learning rate = 0.0000255\n",
      "[*] End of epoch 154 / 160 \t Time Taken: 0 sec \n",
      "/cluster/54/streakfull/ADL4CV/Project/src/plz-autosdf/logs/new_bert_overfit\n",
      "Model Loss: 0.03194092959165573\n",
      "[*] learning rate = 0.0000254\n",
      "[*] End of epoch 155 / 160 \t Time Taken: 0 sec \n",
      "/cluster/54/streakfull/ADL4CV/Project/src/plz-autosdf/logs/new_bert_overfit\n",
      "Model Loss: 0.031941112130880356\n",
      "[*] learning rate = 0.0000253\n",
      "[*] End of epoch 156 / 160 \t Time Taken: 0 sec \n",
      "/cluster/54/streakfull/ADL4CV/Project/src/plz-autosdf/logs/new_bert_overfit\n",
      "Model Loss: 0.03153818100690842\n",
      "[*] learning rate = 0.0000252\n",
      "[*] End of epoch 157 / 160 \t Time Taken: 0 sec \n",
      "/cluster/54/streakfull/ADL4CV/Project/src/plz-autosdf/logs/new_bert_overfit\n",
      "Model Loss: 0.03165283799171448\n",
      "[*] learning rate = 0.0000252\n",
      "[*] End of epoch 158 / 160 \t Time Taken: 0 sec \n",
      "/cluster/54/streakfull/ADL4CV/Project/src/plz-autosdf/logs/new_bert_overfit\n",
      "Model Loss: 0.031216274946928024\n",
      "[*] learning rate = 0.0000251\n",
      "[*] End of epoch 159 / 160 \t Time Taken: 0 sec \n",
      "/cluster/54/streakfull/ADL4CV/Project/src/plz-autosdf/logs/new_bert_overfit\n",
      "Model Loss: 0.03115300089120865\n",
      "[*] learning rate = 0.0000250\n"
     ]
    }
   ],
   "source": [
    "import time\n",
    "import numpy as np\n",
    "cprint('[*] Start training. name: %s' % options.name, 'blue')\n",
    "total_steps = 0\n",
    "train_loss = []\n",
    "valid_loss = []\n",
    "for epoch in tqdm(range(options.nepochs + options.nepochs_decay)):\n",
    "    epoch_start_time = time.time()\n",
    "    # epoch_iter = 0\n",
    "\n",
    "    # profile\n",
    "    train_one_epoch3(None,epoch)\n",
    "\n",
    "#     if epoch % 100000 == 0:\n",
    "#         cprint('saving the model at the end of epoch %d, iters %d' %\n",
    "#                (epoch, total_steps), 'blue')\n",
    "#         latest_name = f'epoch-latest'\n",
    "#         model.save(latest_name)\n",
    "#         cur_name = f'epoch-{epoch}'\n",
    "#         model.save(cur_name)\n",
    "\n",
    "    cprint(f'[*] End of epoch %d / %d \\t Time Taken: %d sec \\n%s' %\n",
    "           (\n",
    "               epoch, options.nepochs + options.nepochs_decay,\n",
    "               time.time() - epoch_start_time,\n",
    "               os.path.abspath(os.path.join(options.logs_dir, options.name))\n",
    "           ), 'blue', attrs=['bold']\n",
    "           )\n",
    "    #import pdb;pdb.set_trace()\n",
    "    print(\"Model Loss:\", m.loss.item())\n",
    "    model.update_learning_rate()\n"
   ]
  },
  {
   "cell_type": "code",
   "execution_count": 35,
   "id": "6df23d0b",
   "metadata": {},
   "outputs": [],
   "source": [
    "x1 = dataset[0]\n",
    "x2 = dataset[2]"
   ]
  },
  {
   "cell_type": "code",
   "execution_count": 36,
   "id": "ff508886",
   "metadata": {},
   "outputs": [
    {
     "data": {
      "text/plain": [
       "dict_keys(['current_text', 'z_set_prev', 'z_set_target'])"
      ]
     },
     "execution_count": 36,
     "metadata": {},
     "output_type": "execute_result"
    }
   ],
   "source": [
    "x1.keys()"
   ]
  },
  {
   "cell_type": "code",
   "execution_count": 37,
   "id": "56371d70",
   "metadata": {},
   "outputs": [],
   "source": [
    "x1[\"current_text\"] = [x1[\"current_text\"]]\n",
    "x1[\"z_set_prev\"] = x1[\"z_set_prev\"].unsqueeze(0)\n",
    "x1[\"z_set_target\"] = x1[\"z_set_target\"].unsqueeze(0)\n",
    "model.set_input(x1)"
   ]
  },
  {
   "cell_type": "code",
   "execution_count": 38,
   "id": "9b5c5712",
   "metadata": {},
   "outputs": [],
   "source": [
    "model.net.eval()\n",
    "y = model.forward()"
   ]
  },
  {
   "cell_type": "code",
   "execution_count": 39,
   "id": "a83f9c98",
   "metadata": {},
   "outputs": [
    {
     "data": {
      "text/plain": [
       "torch.Size([1, 8, 8, 8, 512])"
      ]
     },
     "execution_count": 39,
     "metadata": {},
     "output_type": "execute_result"
    }
   ],
   "source": [
    "model.outp.shape\n"
   ]
  },
  {
   "cell_type": "code",
   "execution_count": 40,
   "id": "a408e122",
   "metadata": {},
   "outputs": [],
   "source": [
    "from einops import rearrange\n",
    "k2 = x1[\"z_set_target\"]\n",
    "#k2.shape\n",
    "#k = rearrange(k2, 'bs d1 d2 d3 c ->bs c d1 d2 d3')"
   ]
  },
  {
   "cell_type": "code",
   "execution_count": 42,
   "id": "3d1a3c2f",
   "metadata": {},
   "outputs": [
    {
     "data": {
      "text/plain": [
       "torch.Size([8, 8, 8, 512])"
      ]
     },
     "execution_count": 42,
     "metadata": {},
     "output_type": "execute_result"
    }
   ],
   "source": [
    "f = model.outp.cpu().squeeze(0)\n",
    "f.shape"
   ]
  },
  {
   "cell_type": "code",
   "execution_count": 44,
   "id": "7afda65c",
   "metadata": {},
   "outputs": [
    {
     "ename": "RuntimeError",
     "evalue": "\"softmax_lastdim_kernel_impl\" not implemented for 'Long'",
     "output_type": "error",
     "traceback": [
      "\u001b[0;31m---------------------------------------------------------------------------\u001b[0m",
      "\u001b[0;31mRuntimeError\u001b[0m                              Traceback (most recent call last)",
      "\u001b[0;32m/tmp/ipykernel_3935779/4144392096.py\u001b[0m in \u001b[0;36m<cell line: 2>\u001b[0;34m()\u001b[0m\n\u001b[1;32m      1\u001b[0m \u001b[0msf\u001b[0m \u001b[0;34m=\u001b[0m \u001b[0mtorch\u001b[0m\u001b[0;34m.\u001b[0m\u001b[0mnn\u001b[0m\u001b[0;34m.\u001b[0m\u001b[0mSoftmax\u001b[0m\u001b[0;34m(\u001b[0m\u001b[0mdim\u001b[0m\u001b[0;34m=\u001b[0m\u001b[0;34m-\u001b[0m\u001b[0;36m1\u001b[0m\u001b[0;34m)\u001b[0m\u001b[0;34m\u001b[0m\u001b[0;34m\u001b[0m\u001b[0m\n\u001b[0;32m----> 2\u001b[0;31m \u001b[0mf\u001b[0m \u001b[0;34m=\u001b[0m \u001b[0msf\u001b[0m\u001b[0;34m(\u001b[0m\u001b[0mf\u001b[0m\u001b[0;34m)\u001b[0m\u001b[0;34m\u001b[0m\u001b[0;34m\u001b[0m\u001b[0m\n\u001b[0m\u001b[1;32m      3\u001b[0m \u001b[0msampler\u001b[0m \u001b[0;34m=\u001b[0m \u001b[0mtorch\u001b[0m\u001b[0;34m.\u001b[0m\u001b[0mdistributions\u001b[0m\u001b[0;34m.\u001b[0m\u001b[0mcategorical\u001b[0m\u001b[0;34m.\u001b[0m\u001b[0mCategorical\u001b[0m\u001b[0;34m(\u001b[0m\u001b[0mf\u001b[0m\u001b[0;34m)\u001b[0m\u001b[0;34m\u001b[0m\u001b[0;34m\u001b[0m\u001b[0m\n\u001b[1;32m      4\u001b[0m \u001b[0mf\u001b[0m \u001b[0;34m=\u001b[0m \u001b[0msampler\u001b[0m\u001b[0;34m.\u001b[0m\u001b[0msample\u001b[0m\u001b[0;34m(\u001b[0m\u001b[0;34m)\u001b[0m\u001b[0;34m\u001b[0m\u001b[0;34m\u001b[0m\u001b[0m\n\u001b[1;32m      5\u001b[0m \u001b[0mf\u001b[0m\u001b[0;34m.\u001b[0m\u001b[0mshape\u001b[0m\u001b[0;34m\u001b[0m\u001b[0;34m\u001b[0m\u001b[0m\n",
      "\u001b[0;32m~/.cache/pypoetry/virtualenvs/adl4cv-I-Koul65-py3.8/lib/python3.8/site-packages/torch/nn/modules/module.py\u001b[0m in \u001b[0;36m_call_impl\u001b[0;34m(self, *input, **kwargs)\u001b[0m\n\u001b[1;32m   1108\u001b[0m         if not (self._backward_hooks or self._forward_hooks or self._forward_pre_hooks or _global_backward_hooks\n\u001b[1;32m   1109\u001b[0m                 or _global_forward_hooks or _global_forward_pre_hooks):\n\u001b[0;32m-> 1110\u001b[0;31m             \u001b[0;32mreturn\u001b[0m \u001b[0mforward_call\u001b[0m\u001b[0;34m(\u001b[0m\u001b[0;34m*\u001b[0m\u001b[0minput\u001b[0m\u001b[0;34m,\u001b[0m \u001b[0;34m**\u001b[0m\u001b[0mkwargs\u001b[0m\u001b[0;34m)\u001b[0m\u001b[0;34m\u001b[0m\u001b[0;34m\u001b[0m\u001b[0m\n\u001b[0m\u001b[1;32m   1111\u001b[0m         \u001b[0;31m# Do not call functions when jit is used\u001b[0m\u001b[0;34m\u001b[0m\u001b[0;34m\u001b[0m\u001b[0;34m\u001b[0m\u001b[0m\n\u001b[1;32m   1112\u001b[0m         \u001b[0mfull_backward_hooks\u001b[0m\u001b[0;34m,\u001b[0m \u001b[0mnon_full_backward_hooks\u001b[0m \u001b[0;34m=\u001b[0m \u001b[0;34m[\u001b[0m\u001b[0;34m]\u001b[0m\u001b[0;34m,\u001b[0m \u001b[0;34m[\u001b[0m\u001b[0;34m]\u001b[0m\u001b[0;34m\u001b[0m\u001b[0;34m\u001b[0m\u001b[0m\n",
      "\u001b[0;32m~/.cache/pypoetry/virtualenvs/adl4cv-I-Koul65-py3.8/lib/python3.8/site-packages/torch/nn/modules/activation.py\u001b[0m in \u001b[0;36mforward\u001b[0;34m(self, input)\u001b[0m\n\u001b[1;32m   1259\u001b[0m \u001b[0;34m\u001b[0m\u001b[0m\n\u001b[1;32m   1260\u001b[0m     \u001b[0;32mdef\u001b[0m \u001b[0mforward\u001b[0m\u001b[0;34m(\u001b[0m\u001b[0mself\u001b[0m\u001b[0;34m,\u001b[0m \u001b[0minput\u001b[0m\u001b[0;34m:\u001b[0m \u001b[0mTensor\u001b[0m\u001b[0;34m)\u001b[0m \u001b[0;34m->\u001b[0m \u001b[0mTensor\u001b[0m\u001b[0;34m:\u001b[0m\u001b[0;34m\u001b[0m\u001b[0;34m\u001b[0m\u001b[0m\n\u001b[0;32m-> 1261\u001b[0;31m         \u001b[0;32mreturn\u001b[0m \u001b[0mF\u001b[0m\u001b[0;34m.\u001b[0m\u001b[0msoftmax\u001b[0m\u001b[0;34m(\u001b[0m\u001b[0minput\u001b[0m\u001b[0;34m,\u001b[0m \u001b[0mself\u001b[0m\u001b[0;34m.\u001b[0m\u001b[0mdim\u001b[0m\u001b[0;34m,\u001b[0m \u001b[0m_stacklevel\u001b[0m\u001b[0;34m=\u001b[0m\u001b[0;36m5\u001b[0m\u001b[0;34m)\u001b[0m\u001b[0;34m\u001b[0m\u001b[0;34m\u001b[0m\u001b[0m\n\u001b[0m\u001b[1;32m   1262\u001b[0m \u001b[0;34m\u001b[0m\u001b[0m\n\u001b[1;32m   1263\u001b[0m     \u001b[0;32mdef\u001b[0m \u001b[0mextra_repr\u001b[0m\u001b[0;34m(\u001b[0m\u001b[0mself\u001b[0m\u001b[0;34m)\u001b[0m \u001b[0;34m->\u001b[0m \u001b[0mstr\u001b[0m\u001b[0;34m:\u001b[0m\u001b[0;34m\u001b[0m\u001b[0;34m\u001b[0m\u001b[0m\n",
      "\u001b[0;32m~/.cache/pypoetry/virtualenvs/adl4cv-I-Koul65-py3.8/lib/python3.8/site-packages/torch/nn/functional.py\u001b[0m in \u001b[0;36msoftmax\u001b[0;34m(input, dim, _stacklevel, dtype)\u001b[0m\n\u001b[1;32m   1816\u001b[0m         \u001b[0mdim\u001b[0m \u001b[0;34m=\u001b[0m \u001b[0m_get_softmax_dim\u001b[0m\u001b[0;34m(\u001b[0m\u001b[0;34m\"softmax\"\u001b[0m\u001b[0;34m,\u001b[0m \u001b[0minput\u001b[0m\u001b[0;34m.\u001b[0m\u001b[0mdim\u001b[0m\u001b[0;34m(\u001b[0m\u001b[0;34m)\u001b[0m\u001b[0;34m,\u001b[0m \u001b[0m_stacklevel\u001b[0m\u001b[0;34m)\u001b[0m\u001b[0;34m\u001b[0m\u001b[0;34m\u001b[0m\u001b[0m\n\u001b[1;32m   1817\u001b[0m     \u001b[0;32mif\u001b[0m \u001b[0mdtype\u001b[0m \u001b[0;32mis\u001b[0m \u001b[0;32mNone\u001b[0m\u001b[0;34m:\u001b[0m\u001b[0;34m\u001b[0m\u001b[0;34m\u001b[0m\u001b[0m\n\u001b[0;32m-> 1818\u001b[0;31m         \u001b[0mret\u001b[0m \u001b[0;34m=\u001b[0m \u001b[0minput\u001b[0m\u001b[0;34m.\u001b[0m\u001b[0msoftmax\u001b[0m\u001b[0;34m(\u001b[0m\u001b[0mdim\u001b[0m\u001b[0;34m)\u001b[0m\u001b[0;34m\u001b[0m\u001b[0;34m\u001b[0m\u001b[0m\n\u001b[0m\u001b[1;32m   1819\u001b[0m     \u001b[0;32melse\u001b[0m\u001b[0;34m:\u001b[0m\u001b[0;34m\u001b[0m\u001b[0;34m\u001b[0m\u001b[0m\n\u001b[1;32m   1820\u001b[0m         \u001b[0mret\u001b[0m \u001b[0;34m=\u001b[0m \u001b[0minput\u001b[0m\u001b[0;34m.\u001b[0m\u001b[0msoftmax\u001b[0m\u001b[0;34m(\u001b[0m\u001b[0mdim\u001b[0m\u001b[0;34m,\u001b[0m \u001b[0mdtype\u001b[0m\u001b[0;34m=\u001b[0m\u001b[0mdtype\u001b[0m\u001b[0;34m)\u001b[0m\u001b[0;34m\u001b[0m\u001b[0;34m\u001b[0m\u001b[0m\n",
      "\u001b[0;31mRuntimeError\u001b[0m: \"softmax_lastdim_kernel_impl\" not implemented for 'Long'"
     ]
    }
   ],
   "source": [
    "# sf = torch.nn.Softmax(dim=-1)\n",
    "# f = sf(f)\n",
    "# sampler = torch.distributions.categorical.Categorical(f)\n",
    "# f = sampler.sample()\n",
    "# f.shape"
   ]
  },
  {
   "cell_type": "code",
   "execution_count": 33,
   "id": "77275f6d",
   "metadata": {},
   "outputs": [
    {
     "ename": "AttributeError",
     "evalue": "'NoneType' object has no attribute 'shape'",
     "output_type": "error",
     "traceback": [
      "\u001b[0;31m---------------------------------------------------------------------------\u001b[0m",
      "\u001b[0;31mAttributeError\u001b[0m                            Traceback (most recent call last)",
      "\u001b[0;32m/tmp/ipykernel_3935779/2938024244.py\u001b[0m in \u001b[0;36m<cell line: 3>\u001b[0;34m()\u001b[0m\n\u001b[1;32m      1\u001b[0m \u001b[0mcos\u001b[0m \u001b[0;34m=\u001b[0m \u001b[0mtorch\u001b[0m\u001b[0;34m.\u001b[0m\u001b[0mnn\u001b[0m\u001b[0;34m.\u001b[0m\u001b[0mCosineSimilarity\u001b[0m\u001b[0;34m(\u001b[0m\u001b[0mdim\u001b[0m\u001b[0;34m=\u001b[0m\u001b[0;34m-\u001b[0m\u001b[0;36m1\u001b[0m\u001b[0;34m)\u001b[0m\u001b[0;34m\u001b[0m\u001b[0;34m\u001b[0m\u001b[0m\n\u001b[1;32m      2\u001b[0m \u001b[0mk2\u001b[0m\u001b[0;34m.\u001b[0m\u001b[0mshape\u001b[0m\u001b[0;34m\u001b[0m\u001b[0;34m\u001b[0m\u001b[0m\n\u001b[0;32m----> 3\u001b[0;31m \u001b[0my\u001b[0m\u001b[0;34m.\u001b[0m\u001b[0mshape\u001b[0m\u001b[0;34m\u001b[0m\u001b[0;34m\u001b[0m\u001b[0m\n\u001b[0m",
      "\u001b[0;31mAttributeError\u001b[0m: 'NoneType' object has no attribute 'shape'"
     ]
    }
   ],
   "source": [
    "cos = torch.nn.CosineSimilarity(dim=-1)\n",
    "k2.shape"
   ]
  },
  {
   "cell_type": "code",
   "execution_count": 34,
   "id": "7dbb9279",
   "metadata": {},
   "outputs": [
    {
     "data": {
      "text/plain": [
       "tensor(0.1408, grad_fn=<DivBackward0>)"
      ]
     },
     "execution_count": 34,
     "metadata": {},
     "output_type": "execute_result"
    }
   ],
   "source": [
    "cos(f.flatten(),k2.flatten())\n"
   ]
  },
  {
   "cell_type": "code",
   "execution_count": null,
   "id": "e8129a02",
   "metadata": {},
   "outputs": [],
   "source": [
    "z1 = torch.rand((1,8,8,8,512))\n",
    "z2 = torch.zeros((1,8,8,8,512))*-1/512\n",
    "outp1 = m.net.forward([\"wheels\"],z1.cuda())\n",
    "outp2 = m.net.forward([\"okkkasfasf\"],z2.cuda())"
   ]
  },
  {
   "cell_type": "code",
   "execution_count": null,
   "id": "43eab52f",
   "metadata": {},
   "outputs": [],
   "source": [
    "cos(outp1.flatten(),outp2.flatten())"
   ]
  },
  {
   "cell_type": "code",
   "execution_count": null,
   "id": "a699fd10",
   "metadata": {},
   "outputs": [],
   "source": [
    "k2"
   ]
  },
  {
   "cell_type": "code",
   "execution_count": null,
   "id": "5bc1fd10",
   "metadata": {},
   "outputs": [],
   "source": []
  },
  {
   "cell_type": "code",
   "execution_count": null,
   "id": "2a3cd405",
   "metadata": {},
   "outputs": [],
   "source": [
    "dataset[5][\"previous_text\"]"
   ]
  },
  {
   "cell_type": "code",
   "execution_count": null,
   "id": "afbfea9e",
   "metadata": {},
   "outputs": [],
   "source": [
    "dataset[18][\"current_text\"]"
   ]
  },
  {
   "cell_type": "code",
   "execution_count": null,
   "id": "06a9ad3e",
   "metadata": {},
   "outputs": [],
   "source": [
    "import torch.nn as nn"
   ]
  },
  {
   "cell_type": "code",
   "execution_count": null,
   "id": "10188bdb",
   "metadata": {},
   "outputs": [],
   "source": [
    "loss = nn.CrossEntropyLoss()"
   ]
  },
  {
   "cell_type": "code",
   "execution_count": null,
   "id": "15dcff18",
   "metadata": {},
   "outputs": [],
   "source": [
    "input = torch.randn(3, 5, requires_grad=True)"
   ]
  },
  {
   "cell_type": "code",
   "execution_count": null,
   "id": "1c5b4faa",
   "metadata": {},
   "outputs": [],
   "source": [
    "target = torch.empty(3, dtype=torch.long).random_(5)"
   ]
  },
  {
   "cell_type": "code",
   "execution_count": null,
   "id": "e1c66bde",
   "metadata": {},
   "outputs": [],
   "source": [
    "input.shape"
   ]
  },
  {
   "cell_type": "code",
   "execution_count": null,
   "id": "53ebe0a5",
   "metadata": {},
   "outputs": [],
   "source": [
    "target.shape"
   ]
  },
  {
   "cell_type": "code",
   "execution_count": null,
   "id": "cfc9d7ce",
   "metadata": {},
   "outputs": [],
   "source": [
    "input = torch.randn(32,512,8,8,8, requires_grad=True)"
   ]
  },
  {
   "cell_type": "code",
   "execution_count": null,
   "id": "f6ebead3",
   "metadata": {},
   "outputs": [],
   "source": [
    "input.shape"
   ]
  },
  {
   "cell_type": "code",
   "execution_count": null,
   "id": "361873bc",
   "metadata": {},
   "outputs": [],
   "source": [
    "target = torch.randn(32,8,8,8, 512).softmax(dim=1)"
   ]
  },
  {
   "cell_type": "code",
   "execution_count": null,
   "id": "6aec25b3",
   "metadata": {},
   "outputs": [],
   "source": [
    "target.shape\n",
    "input.shape"
   ]
  },
  {
   "cell_type": "code",
   "execution_count": null,
   "id": "3d4e408a",
   "metadata": {},
   "outputs": [],
   "source": [
    "loss(input,target)"
   ]
  },
  {
   "cell_type": "code",
   "execution_count": null,
   "id": "6365af32",
   "metadata": {},
   "outputs": [],
   "source": []
  }
 ],
 "metadata": {
  "kernelspec": {
   "display_name": "Python 3 (ipykernel)",
   "language": "python",
   "name": "python3"
  },
  "language_info": {
   "codemirror_mode": {
    "name": "ipython",
    "version": 3
   },
   "file_extension": ".py",
   "mimetype": "text/x-python",
   "name": "python",
   "nbconvert_exporter": "python",
   "pygments_lexer": "ipython3",
   "version": "3.8.10"
  }
 },
 "nbformat": 4,
 "nbformat_minor": 5
}
